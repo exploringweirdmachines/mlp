{
 "cells": [
  {
   "cell_type": "code",
   "execution_count": 2,
   "metadata": {},
   "outputs": [],
   "source": [
    "import torch\n",
    "import torch.nn.functional as F\n",
    "import matplotlib.pyplot as plt # for making figures\n",
    "%matplotlib inline"
   ]
  },
  {
   "cell_type": "code",
   "execution_count": 3,
   "metadata": {},
   "outputs": [
    {
     "data": {
      "text/plain": [
       "['emma', 'olivia', 'ava', 'isabella', 'sophia', 'charlotte', 'mia', 'amelia']"
      ]
     },
     "execution_count": 3,
     "metadata": {},
     "output_type": "execute_result"
    }
   ],
   "source": [
    "words = open('names.txt', 'r').read().splitlines()\n",
    "words[:8]"
   ]
  },
  {
   "cell_type": "code",
   "execution_count": 4,
   "metadata": {},
   "outputs": [
    {
     "data": {
      "text/plain": [
       "32033"
      ]
     },
     "execution_count": 4,
     "metadata": {},
     "output_type": "execute_result"
    }
   ],
   "source": [
    "len(words)"
   ]
  },
  {
   "cell_type": "code",
   "execution_count": 5,
   "metadata": {},
   "outputs": [
    {
     "data": {
      "text/plain": [
       "{1: 'a',\n",
       " 2: 'b',\n",
       " 3: 'c',\n",
       " 4: 'd',\n",
       " 5: 'e',\n",
       " 6: 'f',\n",
       " 7: 'g',\n",
       " 8: 'h',\n",
       " 9: 'i',\n",
       " 10: 'j',\n",
       " 11: 'k',\n",
       " 12: 'l',\n",
       " 13: 'm',\n",
       " 14: 'n',\n",
       " 15: 'o',\n",
       " 16: 'p',\n",
       " 17: 'q',\n",
       " 18: 'r',\n",
       " 19: 's',\n",
       " 20: 't',\n",
       " 21: 'u',\n",
       " 22: 'v',\n",
       " 23: 'w',\n",
       " 24: 'x',\n",
       " 25: 'y',\n",
       " 26: 'z',\n",
       " 0: '.'}"
      ]
     },
     "execution_count": 5,
     "metadata": {},
     "output_type": "execute_result"
    }
   ],
   "source": [
    "chars = sorted(list(set(''.join(words))))\n",
    "stoi = {s:i+1 for i,s in enumerate(chars)}\n",
    "stoi['.'] = 0\n",
    "itos = {i:s for s,i in stoi.items()}\n",
    "vocab_size = len(itos)\n",
    "itos"
   ]
  },
  {
   "cell_type": "code",
   "execution_count": 6,
   "metadata": {},
   "outputs": [
    {
     "data": {
      "text/plain": [
       "{'a': 1,\n",
       " 'b': 2,\n",
       " 'c': 3,\n",
       " 'd': 4,\n",
       " 'e': 5,\n",
       " 'f': 6,\n",
       " 'g': 7,\n",
       " 'h': 8,\n",
       " 'i': 9,\n",
       " 'j': 10,\n",
       " 'k': 11,\n",
       " 'l': 12,\n",
       " 'm': 13,\n",
       " 'n': 14,\n",
       " 'o': 15,\n",
       " 'p': 16,\n",
       " 'q': 17,\n",
       " 'r': 18,\n",
       " 's': 19,\n",
       " 't': 20,\n",
       " 'u': 21,\n",
       " 'v': 22,\n",
       " 'w': 23,\n",
       " 'x': 24,\n",
       " 'y': 25,\n",
       " 'z': 26,\n",
       " '.': 0}"
      ]
     },
     "execution_count": 6,
     "metadata": {},
     "output_type": "execute_result"
    }
   ],
   "source": [
    "stoi"
   ]
  },
  {
   "cell_type": "code",
   "execution_count": 6,
   "metadata": {},
   "outputs": [
    {
     "data": {
      "text/plain": [
       "27"
      ]
     },
     "execution_count": 6,
     "metadata": {},
     "output_type": "execute_result"
    }
   ],
   "source": [
    "vocab_size"
   ]
  },
  {
   "cell_type": "code",
   "execution_count": 6,
   "metadata": {},
   "outputs": [
    {
     "name": "stdout",
     "output_type": "stream",
     "text": [
      "torch.Size([182625, 3]) torch.Size([182625])\n",
      "torch.Size([22655, 3]) torch.Size([22655])\n",
      "torch.Size([22866, 3]) torch.Size([22866])\n"
     ]
    }
   ],
   "source": [
    "# build the dataset\n",
    "block_size = 3 # context length: how many characters do we take to predict the next one?\n",
    "\n",
    "def build_dataset(words):  \n",
    "  X, Y = [], []\n",
    "  \n",
    "  for w in words:\n",
    "    context = [0] * block_size\n",
    "    for ch in w + '.':\n",
    "      ix = stoi[ch]\n",
    "      X.append(context)\n",
    "      Y.append(ix)\n",
    "      context = context[1:] + [ix] # crop and append\n",
    "\n",
    "  X = torch.tensor(X)\n",
    "  Y = torch.tensor(Y)\n",
    "  print(X.shape, Y.shape)\n",
    "  return X, Y\n",
    "\n",
    "import random\n",
    "random.seed(42)\n",
    "random.shuffle(words)\n",
    "n1 = int(0.8*len(words))\n",
    "n2 = int(0.9*len(words))\n",
    "\n",
    "X_train,  Y_train  = build_dataset(words[:n1])     # 80%\n",
    "X_dev, Y_dev = build_dataset(words[n1:n2])   # 10%\n",
    "X_test,  Y_test  = build_dataset(words[n2:])     # 10%"
   ]
  },
  {
   "cell_type": "code",
   "execution_count": 19,
   "metadata": {},
   "outputs": [
    {
     "name": "stdout",
     "output_type": "stream",
     "text": [
      "11897\n"
     ]
    }
   ],
   "source": [
    "# MLP revisited\n",
    "n_embd = 10 # the dimensionality of the character embedding vectors\n",
    "n_hidden = 200 # the number of neurons in the hidden layer of the MLP\n",
    "\n",
    "g = torch.Generator().manual_seed(2147483647) # for reproducibility\n",
    "C  = torch.randn((vocab_size, n_embd),            generator=g)\n",
    "W1 = torch.randn((n_embd * block_size, n_hidden), generator=g)\n",
    "b1 = torch.randn(n_hidden,                        generator=g)\n",
    "W2 = torch.randn((n_hidden, vocab_size),          generator=g)\n",
    "b2 = torch.randn(vocab_size,                      generator=g)\n",
    "\n",
    "parameters = [C, W1, b1, W2, b2]\n",
    "print(sum(p.nelement() for p in parameters)) # number of parameters in total\n",
    "for p in parameters:\n",
    "  p.requires_grad = True"
   ]
  },
  {
   "cell_type": "code",
   "execution_count": 20,
   "metadata": {},
   "outputs": [
    {
     "name": "stdout",
     "output_type": "stream",
     "text": [
      "      0/ 200000: 25.5262\n",
      "  10000/ 200000: 1.8644\n",
      "  20000/ 200000: 2.1724\n",
      "  30000/ 200000: 2.3769\n",
      "  40000/ 200000: 2.7019\n",
      "  50000/ 200000: 2.1173\n",
      "  60000/ 200000: 2.7660\n",
      "  70000/ 200000: 2.3996\n",
      "  80000/ 200000: 1.9732\n",
      "  90000/ 200000: 2.5869\n",
      " 100000/ 200000: 2.3589\n",
      " 110000/ 200000: 2.1763\n",
      " 120000/ 200000: 2.0617\n",
      " 130000/ 200000: 1.7896\n",
      " 140000/ 200000: 2.5402\n",
      " 150000/ 200000: 2.2238\n",
      " 160000/ 200000: 1.9641\n",
      " 170000/ 200000: 2.0778\n",
      " 180000/ 200000: 2.4476\n",
      " 190000/ 200000: 1.7866\n"
     ]
    }
   ],
   "source": [
    "# same optimization as last time\n",
    "max_steps = 200000\n",
    "batch_size = 32\n",
    "lossi = []\n",
    "\n",
    "for i in range(max_steps):\n",
    "  \n",
    "  # minibatch construct\n",
    "  ix = torch.randint(0, X_train.shape[0], (batch_size,), generator=g)\n",
    "  Xb, Yb = X_train[ix], Y_train[ix] # batch X,Y\n",
    "  \n",
    "  # forward pass\n",
    "  emb = C[Xb] # embed the characters into vectors\n",
    "  embcat = emb.view(emb.shape[0], -1) # concatenate the vectors\n",
    "\n",
    "  # Linear layer\n",
    "  hpreact = embcat @ W1 + b1 # hidden layer pre-activation\n",
    "\n",
    "  # Non-linearity\n",
    "  h = torch.tanh(hpreact) # hidden layer\n",
    "  logits = h @ W2 + b2 # output layer\n",
    "  loss = F.cross_entropy(logits, Yb) # loss function\n",
    "  \n",
    "  # backward pass\n",
    "  for p in parameters:\n",
    "    p.grad = None\n",
    "  loss.backward()\n",
    "  \n",
    "  # update\n",
    "  learning_rate = 0.1 if i < 100000 else 0.01 # step learning rate decay\n",
    "  for p in parameters:\n",
    "    p.data += -learning_rate * p.grad\n",
    "\n",
    "  # track stats\n",
    "  if i % 10000 == 0: # print every once in a while\n",
    "    print(f'{i:7d}/{max_steps:7d}: {loss.item():.4f}')\n",
    "  lossi.append(loss.log10().item())"
   ]
  },
  {
   "cell_type": "code",
   "execution_count": 21,
   "metadata": {},
   "outputs": [
    {
     "data": {
      "text/plain": [
       "[<matplotlib.lines.Line2D at 0x7f7c3922e0e0>]"
      ]
     },
     "execution_count": 21,
     "metadata": {},
     "output_type": "execute_result"
    },
    {
     "data": {
      "image/png": "[encoded data removed]",
      "text/plain": [
       "<Figure size 640x480 with 1 Axes>"
      ]
     },
     "metadata": {},
     "output_type": "display_data"
    }
   ],
   "source": [
    "plt.plot(lossi)"
   ]
  },
  {
   "cell_type": "code",
   "execution_count": 22,
   "metadata": {},
   "outputs": [
    {
     "name": "stdout",
     "output_type": "stream",
     "text": [
      "train 2.1236934661865234\n",
      "val 2.1849231719970703\n"
     ]
    }
   ],
   "source": [
    "@torch.no_grad() # this decorator disables gradient tracking\n",
    "def split_loss(split):\n",
    "  x, y = {\n",
    "    'train': (X_train, Y_train),\n",
    "    'val': (X_dev, Y_dev),\n",
    "    'test': (X_test, Y_test),\n",
    "  }[split]\n",
    "  emb = C[x] # (N, block_size, n_embd)\n",
    "  embcat = emb.view(emb.shape[0], -1) # concat into (N, block_size * n_embd)\n",
    "  h = torch.tanh(embcat @ W1 + b1) # (N, n_hidden)\n",
    "  logits = h @ W2 + b2 # (N, vocab_size)\n",
    "  loss = F.cross_entropy(logits, y)\n",
    "  print(split, loss.item())\n",
    "\n",
    "split_loss('train')\n",
    "split_loss('val')"
   ]
  },
  {
   "cell_type": "code",
   "execution_count": 23,
   "metadata": {},
   "outputs": [
    {
     "name": "stdout",
     "output_type": "stream",
     "text": [
      "montalmyah.\n",
      "seel.\n",
      "nihayla.\n",
      "rethrushadrie.\n",
      "caderidieliigh.\n",
      "poren.\n",
      "eden.\n",
      "van.\n",
      "narah.\n",
      "tylor.\n",
      "kalin.\n",
      "shrenzi.\n",
      "hiriel.\n",
      "kindreelynn.\n",
      "nocalyn.\n",
      "breyddi.\n",
      "jamell.\n",
      "els.\n",
      "kayshianny.\n",
      "mahil.\n"
     ]
    }
   ],
   "source": [
    "# sample from the model\n",
    "\n",
    "g = torch.Generator().manual_seed(2147483647 + 10)\n",
    "\n",
    "for _ in range(20):\n",
    "\n",
    "    out = []\n",
    "    context = [0] * block_size # initialize with all ... and until we meet the 0th character again, \n",
    "    while True:\n",
    "        embeddings = C[torch.tensor([context])] # (1, blocksize , d) # we're going to embed the current context using the embedding table C; usually here, the first dimension was the size of the training set, but here we're only using a single example that we're generating\n",
    "        h = torch.tanh(embeddings.view(1, -1) @ W1 + b1)\n",
    "        logits = h @ W2 + b2\n",
    "        probs = F.softmax(logits, dim=1) # exponentiates the logits and sum them to one and as with cross_entropy, it is careful so there's no overflows\n",
    "        ix = torch.multinomial(probs, num_samples=1, generator=g).item() # once we have the probabilities, we sample from them, using multinomial to get our next index and then\n",
    "        \n",
    "        context = context[1:] + [ix] # we shift our the context window to append the index and record it\n",
    "        out.append(ix)\n",
    "        # if we sample the special token '.', break\n",
    "        if ix == 0:\n",
    "            break\n",
    "\n",
    "    print(''.join(itos[i] for i in out)) # we decode all the integers to strings and print them out"
   ]
  },
  {
   "cell_type": "code",
   "execution_count": null,
   "metadata": {},
   "outputs": [
    {
     "name": "stdout",
     "output_type": "stream",
     "text": [
      "      0/ 200000: 25.5262\n",
      "  10000/ 200000: 1.8644\n",
      "  20000/ 200000: 2.1724\n",
      "  30000/ 200000: 2.3769\n",
      "  40000/ 200000: 2.7019\n",
      "  50000/ 200000: 2.1173\n",
      "  60000/ 200000: 2.7660\n",
      "  70000/ 200000: 2.3996\n",
      "  80000/ 200000: 1.9732\n",
      "  90000/ 200000: 2.5869\n",
      " 100000/ 200000: 2.3589\n",
      " 110000/ 200000: 2.1763\n",
      " 120000/ 200000: 2.0617\n",
      " 130000/ 200000: 1.7896\n",
      " 140000/ 200000: 2.5402\n",
      " 150000/ 200000: 2.2238\n",
      " 160000/ 200000: 1.9641\n",
      " 170000/ 200000: 2.0778\n",
      " 180000/ 200000: 2.4476\n",
      " 190000/ 200000: 1.7866\n"
     ]
    }
   ],
   "source": [
    "# same optimization as last time\n",
    "max_steps = 200000\n",
    "batch_size = 32\n",
    "lossi = []\n",
    "\n",
    "for i in range(max_steps):\n",
    "  \n",
    "  # minibatch construct\n",
    "  ix = torch.randint(0, X_train.shape[0], (batch_size,), generator=g)\n",
    "  Xb, Yb = X_train[ix], Y_train[ix] # batch X,Y\n",
    "  \n",
    "  # forward pass\n",
    "  emb = C[Xb] # embed the characters into vectors\n",
    "  embcat = emb.view(emb.shape[0], -1) # concatenate the vectors\n",
    "\n",
    "  # Linear layer\n",
    "  hpreact = embcat @ W1 + b1 # hidden layer pre-activation\n",
    "\n",
    "  # Non-linearity\n",
    "  h = torch.tanh(hpreact) # hidden layer\n",
    "  logits = h @ W2 + b2 # output layer\n",
    "  loss = F.cross_entropy(logits, Yb) # loss function\n",
    "  \n",
    "  # backward pass\n",
    "  for p in parameters:\n",
    "    p.grad = None\n",
    "  loss.backward()\n",
    "  \n",
    "  # update\n",
    "  learning_rate = 0.1 if i < 100000 else 0.01 # step learning rate decay\n",
    "  for p in parameters:\n",
    "    p.data += -learning_rate * p.grad\n",
    "\n",
    "  # track stats\n",
    "  if i % 10000 == 0: # print every once in a while\n",
    "    print(f'{i:7d}/{max_steps:7d}: {loss.item():.4f}')\n",
    "  lossi.append(loss.log10().item())"
   ]
  },
  {
   "cell_type": "markdown",
   "metadata": {},
   "source": [
    "There's multiple things wrong with it. At the 0th iteration, there's loss ~25, whic hrapidly comes down to roughly 2 or so. <br>\n",
    "This tell that the initialization os all messed up. You can calculate what to expect at this step in time. "
   ]
  },
  {
   "cell_type": "code",
   "execution_count": 26,
   "metadata": {},
   "outputs": [
    {
     "data": {
      "text/plain": [
       "tensor(3.2958)"
      ]
     },
     "execution_count": 26,
     "metadata": {},
     "output_type": "execute_result"
    }
   ],
   "source": [
    "# There's 27 characters, so we would like is 1/27, and then the loss is negative log probability\n",
    "-torch.tensor(1/27).log()"
   ]
  },
  {
   "cell_type": "markdown",
   "metadata": {},
   "source": [
    "what's happening right now is that at initialization the neural net is creating probability distributions that are all messed up some characters are very confident and some characters are very not confident. <br>\n",
    "basically what's happening is that the network is very confidently wrong"
   ]
  },
  {
   "cell_type": "code",
   "execution_count": 27,
   "metadata": {},
   "outputs": [
    {
     "data": {
      "text/plain": [
       "(tensor([0.2500, 0.2500, 0.2500, 0.2500]), tensor(1.3863))"
      ]
     },
     "execution_count": 27,
     "metadata": {},
     "output_type": "execute_result"
    }
   ],
   "source": [
    "# 4D example of the issue\n",
    "# we have 4 characters; the logits that come out of the NN are very close to zero\n",
    "logits = torch.tensor([0.0, 0.0, 0.0, 0.0])\n",
    "probs = torch.softmax(logits, dim=0)\n",
    "loss = -probs[2].log() # it doesn;t matter if the label is 2, or 3 or 1 or 0 because it's a uniform distribution\n",
    "probs, loss"
   ]
  },
  {
   "cell_type": "code",
   "execution_count": 28,
   "metadata": {},
   "outputs": [
    {
     "data": {
      "text/plain": [
       "(tensor([0.0066, 0.0066, 0.9802, 0.0066]), tensor(0.0200))"
      ]
     },
     "execution_count": 28,
     "metadata": {},
     "output_type": "execute_result"
    }
   ],
   "source": [
    "# if we manipulate the logits, we'll be changing the loss\n",
    "# if we are assigning the correct probability at the initialization, by chance, to the correct label, and we get a very low loss\n",
    "logits = torch.tensor([0.0, 0.0, 5.0, 0.0])\n",
    "probs = torch.softmax(logits, dim=0)\n",
    "loss = -probs[2].log() # it doesn;t matter if the label is 2, or 3 or 1 or 0 because it's a uniform distribution\n",
    "probs, loss"
   ]
  },
  {
   "cell_type": "code",
   "execution_count": 29,
   "metadata": {},
   "outputs": [
    {
     "data": {
      "text/plain": [
       "(tensor([0.0066, 0.9802, 0.0066, 0.0066]), tensor(5.0200))"
      ]
     },
     "execution_count": 29,
     "metadata": {},
     "output_type": "execute_result"
    }
   ],
   "source": [
    "# if we manipulate the logits, we'll be changing the loss\n",
    "# but it is much more likely we get something like\n",
    "logits = torch.tensor([0.0, 5.0, .0, 0.0])\n",
    "probs = torch.softmax(logits, dim=0)\n",
    "loss = -probs[2].log() # it doesn;t matter if the label is 2, or 3 or 1 or 0 because it's a uniform distribution\n",
    "probs, loss"
   ]
  },
  {
   "cell_type": "code",
   "execution_count": 33,
   "metadata": {},
   "outputs": [
    {
     "data": {
      "text/plain": [
       "(tensor([-0.4234,  0.5427, -0.3130,  0.2737]),\n",
       " tensor([0.1481, 0.3891, 0.1654, 0.2974]),\n",
       " tensor(1.7995))"
      ]
     },
     "execution_count": 33,
     "metadata": {},
     "output_type": "execute_result"
    }
   ],
   "source": [
    "# if we manipulate the logits, we'll be changing the loss\n",
    "\n",
    "#logits = torch.tensor([0.0, 5.0, .0, 0.0])\n",
    "logits = torch.randn(4)\n",
    "probs = torch.softmax(logits, dim=0)\n",
    "loss = -probs[2].log() # it doesn;t matter if the label is 2, or 3 or 1 or 0 because it's a uniform distribution\n",
    "logits, probs, loss"
   ]
  },
  {
   "cell_type": "code",
   "execution_count": 38,
   "metadata": {},
   "outputs": [
    {
     "data": {
      "text/plain": [
       "(tensor([-11.6389,   3.6007,  -2.7594,   7.9979]),\n",
       " tensor([2.9277e-09, 1.2162e-02, 2.1030e-05, 9.8782e-01]),\n",
       " tensor(10.7695))"
      ]
     },
     "execution_count": 38,
     "metadata": {},
     "output_type": "execute_result"
    }
   ],
   "source": [
    "# if we manipulate the logits, we'll be changing the loss\n",
    "\n",
    "#logits = torch.tensor([0.0, 5.0, .0, 0.0])\n",
    "logits = torch.randn(4) * 10\n",
    "probs = torch.softmax(logits, dim=0)\n",
    "loss = -probs[2].log() # it doesn;t matter if the label is 2, or 3 or 1 or 0 because it's a uniform distribution\n",
    "logits, probs, loss"
   ]
  },
  {
   "cell_type": "code",
   "execution_count": 47,
   "metadata": {},
   "outputs": [
    {
     "data": {
      "text/plain": [
       "(tensor([27.8283, 10.3973,  2.3538,  1.5132]),\n",
       " tensor([1.0000e+00, 2.6902e-08, 8.6406e-12, 3.7280e-12]),\n",
       " tensor(25.4746))"
      ]
     },
     "execution_count": 47,
     "metadata": {},
     "output_type": "execute_result"
    }
   ],
   "source": [
    "# you see how because these are more extreme values it's very unlikely that you're going to be guessing the correct bucket and then you're confidently wrong and recording very high loss if your lodges are coming out even more extreme\n",
    "\n",
    "#logits = torch.tensor([0.0, 5.0, .0, 0.0])\n",
    "logits = torch.randn(4) * 10\n",
    "probs = torch.softmax(logits, dim=0)\n",
    "loss = -probs[2].log() # it doesn;t matter if the label is 2, or 3 or 1 or 0 because it's a uniform distribution\n",
    "logits, probs, loss"
   ]
  },
  {
   "cell_type": "code",
   "execution_count": 51,
   "metadata": {},
   "outputs": [
    {
     "data": {
      "text/plain": [
       "(tensor([-156.0620,  -77.4451,  -94.6319,  134.3531]),\n",
       " tensor([0., 0., 0., 1.]),\n",
       " tensor(inf))"
      ]
     },
     "execution_count": 51,
     "metadata": {},
     "output_type": "execute_result"
    }
   ],
   "source": [
    "# you see how because these are more extreme values it's very unlikely that you're going to be guessing the correct bucket and then you're confidently wrong and recording very high loss if your lodges are coming out even more extreme\n",
    "\n",
    "logits = torch.randn(4) * 100 # <-- extreme logits\n",
    "probs = torch.softmax(logits, dim=0)\n",
    "loss = -probs[2].log() # it doesn;t matter if the label is 2, or 3 or 1 or 0 because it's a uniform distribution\n",
    "logits, probs, loss"
   ]
  },
  {
   "cell_type": "markdown",
   "metadata": {},
   "source": [
    "### Fix initialization"
   ]
  },
  {
   "cell_type": "code",
   "execution_count": 53,
   "metadata": {},
   "outputs": [
    {
     "name": "stdout",
     "output_type": "stream",
     "text": [
      "11897\n"
     ]
    }
   ],
   "source": [
    "# MLP revisited\n",
    "n_embd = 10 # the dimensionality of the character embedding vectors\n",
    "n_hidden = 200 # the number of neurons in the hidden layer of the MLP\n",
    "\n",
    "g = torch.Generator().manual_seed(2147483647) # for reproducibility\n",
    "C  = torch.randn((vocab_size, n_embd),            generator=g)\n",
    "W1 = torch.randn((n_embd * block_size, n_hidden), generator=g)\n",
    "b1 = torch.randn(n_hidden,                        generator=g)\n",
    "W2 = torch.randn((n_hidden, vocab_size),          generator=g)\n",
    "b2 = torch.randn(vocab_size,                      generator=g)\n",
    "\n",
    "parameters = [C, W1, b1, W2, b2]\n",
    "print(sum(p.nelement() for p in parameters)) # number of parameters in total\n",
    "for p in parameters:\n",
    "  p.requires_grad = True"
   ]
  },
  {
   "cell_type": "code",
   "execution_count": 54,
   "metadata": {},
   "outputs": [
    {
     "name": "stdout",
     "output_type": "stream",
     "text": [
      "      0/ 200000: 25.5262\n"
     ]
    }
   ],
   "source": [
    "# same optimization as last time\n",
    "max_steps = 200000\n",
    "batch_size = 32\n",
    "lossi = []\n",
    "\n",
    "for i in range(max_steps):\n",
    "  \n",
    "  # minibatch construct\n",
    "  ix = torch.randint(0, X_train.shape[0], (batch_size,), generator=g)\n",
    "  Xb, Yb = X_train[ix], Y_train[ix] # batch X,Y\n",
    "  \n",
    "  # forward pass\n",
    "  emb = C[Xb] # embed the characters into vectors\n",
    "  embcat = emb.view(emb.shape[0], -1) # concatenate the vectors\n",
    "\n",
    "  # Linear layer\n",
    "  hpreact = embcat @ W1 + b1 # hidden layer pre-activation\n",
    "\n",
    "  # Non-linearity\n",
    "  h = torch.tanh(hpreact) # hidden layer\n",
    "  logits = h @ W2 + b2 # output layer\n",
    "  loss = F.cross_entropy(logits, Yb) # loss function\n",
    "  \n",
    "  # backward pass\n",
    "  for p in parameters:\n",
    "    p.grad = None\n",
    "  loss.backward()\n",
    "  \n",
    "  # update\n",
    "  learning_rate = 0.1 if i < 100000 else 0.01 # step learning rate decay\n",
    "  for p in parameters:\n",
    "    p.data += -learning_rate * p.grad\n",
    "\n",
    "  # track stats\n",
    "  if i % 10000 == 0: # print every once in a while\n",
    "    print(f'{i:7d}/{max_steps:7d}: {loss.item():.4f}')\n",
    "  lossi.append(loss.log10().item())\n",
    "\n",
    "  break"
   ]
  },
  {
   "cell_type": "code",
   "execution_count": 56,
   "metadata": {},
   "outputs": [
    {
     "data": {
      "text/plain": [
       "tensor([  0.1576,  -2.3268,  -9.4740,  -6.7461,  13.7372, -10.4907,  -5.7905,\n",
       "         10.7337,  14.0784,   4.3245,   1.9208, -14.9805,  14.0306, -10.9357,\n",
       "          6.7341,   8.2830, -10.7423,  -4.5829, -14.5833, -16.0124,   7.2890,\n",
       "         21.8017,  -3.0413, -20.3502,   5.5049, -13.1844,  -6.8645],\n",
       "       grad_fn=<SelectBackward0>)"
      ]
     },
     "execution_count": 56,
     "metadata": {},
     "output_type": "execute_result"
    }
   ],
   "source": [
    "# priting the first row\n",
    "# we can see that they have quite extreme values\n",
    "# that's what makes the loss get very high, what's creating the fake confidence\n",
    "\n",
    "# these logits should be much closer to zero.\n",
    "logits[0]"
   ]
  },
  {
   "cell_type": "code",
   "execution_count": 9,
   "metadata": {},
   "outputs": [
    {
     "name": "stdout",
     "output_type": "stream",
     "text": [
      "11897\n"
     ]
    }
   ],
   "source": [
    "# MLP revisited\n",
    "n_embd = 10 # the dimensionality of the character embedding vectors\n",
    "n_hidden = 200 # the number of neurons in the hidden layer of the MLP\n",
    "\n",
    "g = torch.Generator().manual_seed(2147483647) # for reproducibility\n",
    "C  = torch.randn((vocab_size, n_embd),            generator=g)\n",
    "W1 = torch.randn((n_embd * block_size, n_hidden), generator=g)\n",
    "b1 = torch.randn(n_hidden,                        generator=g)\n",
    "W2 = torch.randn((n_hidden, vocab_size),          generator=g) * 0.1 # we scale down W2, you don't want the hidden layers to be set to zero\n",
    "b2 = torch.randn(vocab_size,                      generator=g) * 0 # we basically want here the bias to be 0\n",
    "\n",
    "parameters = [C, W1, b1, W2, b2]\n",
    "print(sum(p.nelement() for p in parameters)) # number of parameters in total\n",
    "for p in parameters:\n",
    "  p.requires_grad = True"
   ]
  },
  {
   "cell_type": "code",
   "execution_count": 59,
   "metadata": {},
   "outputs": [
    {
     "data": {
      "text/plain": [
       "(tensor([[ 0.0726,  0.1495, -0.1501,  ...,  0.0696,  0.0777, -0.0168],\n",
       "         [ 0.0673, -0.0604, -0.0615,  ...,  0.0390,  0.0126,  0.1279],\n",
       "         [ 0.1017,  0.0072,  0.0350,  ...,  0.0424,  0.0272,  0.0891],\n",
       "         ...,\n",
       "         [-0.2109, -0.0835,  0.0390,  ..., -0.1019,  0.0006,  0.0487],\n",
       "         [-0.0345,  0.0279, -0.1516,  ...,  0.0090, -0.0675, -0.0690],\n",
       "         [ 0.0302, -0.0987, -0.0026,  ...,  0.0233,  0.0254, -0.0514]],\n",
       "        requires_grad=True),\n",
       " tensor([0., 0., 0., 0., 0., 0., -0., 0., 0., -0., -0., -0., 0., 0., 0., 0., -0., 0., 0., -0., 0., -0., 0., 0.,\n",
       "         0., -0., -0.], requires_grad=True))"
      ]
     },
     "execution_count": 59,
     "metadata": {},
     "output_type": "execute_result"
    }
   ],
   "source": [
    "W2, b2"
   ]
  },
  {
   "cell_type": "code",
   "execution_count": 60,
   "metadata": {},
   "outputs": [
    {
     "name": "stdout",
     "output_type": "stream",
     "text": [
      "      0/ 200000: 3.9789\n"
     ]
    }
   ],
   "source": [
    "# same optimization as last time\n",
    "max_steps = 200000\n",
    "batch_size = 32\n",
    "lossi = []\n",
    "\n",
    "for i in range(max_steps):\n",
    "  \n",
    "  # minibatch construct\n",
    "  ix = torch.randint(0, X_train.shape[0], (batch_size,), generator=g)\n",
    "  Xb, Yb = X_train[ix], Y_train[ix] # batch X,Y\n",
    "  \n",
    "  # forward pass\n",
    "  emb = C[Xb] # embed the characters into vectors\n",
    "  embcat = emb.view(emb.shape[0], -1) # concatenate the vectors\n",
    "\n",
    "  # Linear layer\n",
    "  hpreact = embcat @ W1 + b1 # hidden layer pre-activation\n",
    "\n",
    "  # Non-linearity\n",
    "  h = torch.tanh(hpreact) # hidden layer\n",
    "  logits = h @ W2 + b2 # output layer\n",
    "  loss = F.cross_entropy(logits, Yb) # loss function\n",
    "  \n",
    "  # backward pass\n",
    "  for p in parameters:\n",
    "    p.grad = None\n",
    "  loss.backward()\n",
    "  \n",
    "  # update\n",
    "  learning_rate = 0.1 if i < 100000 else 0.01 # step learning rate decay\n",
    "  for p in parameters:\n",
    "    p.data += -learning_rate * p.grad\n",
    "\n",
    "  # track stats\n",
    "  if i % 10000 == 0: # print every once in a while\n",
    "    print(f'{i:7d}/{max_steps:7d}: {loss.item():.4f}')\n",
    "  lossi.append(loss.log10().item())\n",
    "\n",
    "  break"
   ]
  },
  {
   "cell_type": "code",
   "execution_count": 10,
   "metadata": {},
   "outputs": [
    {
     "name": "stdout",
     "output_type": "stream",
     "text": [
      "      0/ 200000: 4.2326\n",
      "  10000/ 200000: 2.1403\n",
      "  20000/ 200000: 2.4720\n",
      "  30000/ 200000: 2.5577\n",
      "  40000/ 200000: 2.0154\n",
      "  50000/ 200000: 2.4307\n",
      "  60000/ 200000: 2.3385\n",
      "  70000/ 200000: 2.0680\n",
      "  80000/ 200000: 2.2665\n",
      "  90000/ 200000: 2.1172\n",
      " 100000/ 200000: 1.9299\n",
      " 110000/ 200000: 2.0629\n",
      " 120000/ 200000: 1.8901\n",
      " 130000/ 200000: 2.3980\n",
      " 140000/ 200000: 2.2826\n",
      " 150000/ 200000: 2.1250\n",
      " 160000/ 200000: 1.8469\n",
      " 170000/ 200000: 1.7627\n",
      " 180000/ 200000: 1.9119\n",
      " 190000/ 200000: 1.8235\n"
     ]
    }
   ],
   "source": [
    "# same optimization as last time\n",
    "max_steps = 200000\n",
    "batch_size = 32\n",
    "lossi = []\n",
    "\n",
    "for i in range(max_steps):\n",
    "  \n",
    "  # minibatch construct\n",
    "  ix = torch.randint(0, X_train.shape[0], (batch_size,), generator=g)\n",
    "  Xb, Yb = X_train[ix], Y_train[ix] # batch X,Y\n",
    "  \n",
    "  # forward pass\n",
    "  emb = C[Xb] # embed the characters into vectors\n",
    "  embcat = emb.view(emb.shape[0], -1) # concatenate the vectors\n",
    "\n",
    "  # Linear layer\n",
    "  hpreact = embcat @ W1 + b1 # hidden layer pre-activation\n",
    "\n",
    "  # Non-linearity\n",
    "  h = torch.tanh(hpreact) # hidden layer\n",
    "  logits = h @ W2 + b2 # output layer\n",
    "  loss = F.cross_entropy(logits, Yb) # loss function\n",
    "  \n",
    "  # backward pass\n",
    "  for p in parameters:\n",
    "    p.grad = None\n",
    "  loss.backward()\n",
    "  \n",
    "  # update\n",
    "  learning_rate = 0.1 if i < 100000 else 0.01 # step learning rate decay\n",
    "  for p in parameters:\n",
    "    p.data += -learning_rate * p.grad\n",
    "\n",
    "  # track stats\n",
    "  if i % 10000 == 0: # print every once in a while\n",
    "    print(f'{i:7d}/{max_steps:7d}: {loss.item():.4f}')\n",
    "  lossi.append(loss.log10().item())"
   ]
  },
  {
   "cell_type": "code",
   "execution_count": 11,
   "metadata": {},
   "outputs": [
    {
     "data": {
      "text/plain": [
       "[<matplotlib.lines.Line2D at 0x7f949c91c5e0>]"
      ]
     },
     "execution_count": 11,
     "metadata": {},
     "output_type": "execute_result"
    },
    {
     "data": {
      "image/png": "[encoded data removed]",
      "text/plain": [
       "<Figure size 640x480 with 1 Axes>"
      ]
     },
     "metadata": {},
     "output_type": "display_data"
    }
   ],
   "source": [
    "# what we expect, the loss doesn't look like a hockey stick \n",
    "plt.plot(lossi)"
   ]
  },
  {
   "cell_type": "code",
   "execution_count": 17,
   "metadata": {},
   "outputs": [
    {
     "name": "stdout",
     "output_type": "stream",
     "text": [
      "train 2.0681493282318115\n",
      "validation 2.132511854171753\n"
     ]
    }
   ],
   "source": [
    "@torch.no_grad() # this decorator disables gradient tracking\n",
    "def split_loss(split):\n",
    "  x, y = {\n",
    "    'train': (X_train, Y_train),\n",
    "    'validation': (X_dev, Y_dev),\n",
    "    'test': (X_test, Y_test),\n",
    "  }[split]\n",
    "  embeddings = C[x] # (N, block_size, n_embd)\n",
    "  embcat = embeddings.view(embeddings.shape[0], -1) # concat into (N, block_size * n_embd)\n",
    "  hpreact = embcat @ W1 + b1\n",
    "\n",
    "  h = torch.tanh(hpreact) # (N, n_hidden)\n",
    "  logits = h @ W2 + b2 # (N, vocab_size)\n",
    "  loss = F.cross_entropy(logits, y)\n",
    "  print(split, loss.item())\n",
    "\n",
    "split_loss('train')\n",
    "split_loss('validation')"
   ]
  },
  {
   "cell_type": "markdown",
   "metadata": {},
   "source": [
    "### Let's move to fixing the secodn problem"
   ]
  },
  {
   "cell_type": "code",
   "execution_count": 8,
   "metadata": {},
   "outputs": [
    {
     "name": "stdout",
     "output_type": "stream",
     "text": [
      "11897\n"
     ]
    }
   ],
   "source": [
    "# MLP revisited\n",
    "n_embd = 10 # the dimensionality of the character embedding vectors\n",
    "n_hidden = 200 # the number of neurons in the hidden layer of the MLP\n",
    "\n",
    "g = torch.Generator().manual_seed(2147483647) # for reproducibility\n",
    "C  = torch.randn((vocab_size, n_embd),            generator=g)\n",
    "W1 = torch.randn((n_embd * block_size, n_hidden), generator=g)\n",
    "b1 = torch.randn(n_hidden,                        generator=g)\n",
    "W2 = torch.randn((n_hidden, vocab_size),          generator=g) * 0.1 # we scale down W2, you don't want the hidden layers to be set to zero\n",
    "b2 = torch.randn(vocab_size,                      generator=g) * 0 # we basically want here the bias to be 0\n",
    "\n",
    "parameters = [C, W1, b1, W2, b2]\n",
    "print(sum(p.nelement() for p in parameters)) # number of parameters in total\n",
    "for p in parameters:\n",
    "  p.requires_grad = True"
   ]
  },
  {
   "cell_type": "markdown",
   "metadata": {},
   "source": [
    "There's a deeper problem lurking in the hidden states. The logits are now ok, but the problem is with 'h'"
   ]
  },
  {
   "cell_type": "code",
   "execution_count": 19,
   "metadata": {},
   "outputs": [
    {
     "name": "stdout",
     "output_type": "stream",
     "text": [
      "      0/ 200000: 4.2326\n"
     ]
    }
   ],
   "source": [
    "# same optimization as last time\n",
    "max_steps = 200000\n",
    "batch_size = 32\n",
    "lossi = []\n",
    "\n",
    "for i in range(max_steps):\n",
    "  \n",
    "  # minibatch construct\n",
    "  ix = torch.randint(0, X_train.shape[0], (batch_size,), generator=g)\n",
    "  Xb, Yb = X_train[ix], Y_train[ix] # batch X,Y\n",
    "  \n",
    "  # forward pass\n",
    "  embeddings = C[Xb] # embed the characters into vectors\n",
    "  embcat = embeddings.view(embeddings.shape[0], -1) # concatenate the vectors\n",
    "\n",
    "  # Linear layer\n",
    "  hpreact = embcat @ W1 + b1 # hidden layer pre-activation\n",
    "\n",
    "  # Non-linearity\n",
    "  h = torch.tanh(hpreact) # hidden layer\n",
    "  logits = h @ W2 + b2 # output layer\n",
    "  loss = F.cross_entropy(logits, Yb) # loss function\n",
    "  \n",
    "  # backward pass\n",
    "  for p in parameters:\n",
    "    p.grad = None\n",
    "  loss.backward()\n",
    "  \n",
    "  # update\n",
    "  learning_rate = 0.1 if i < 100000 else 0.01 # step learning rate decay\n",
    "  for p in parameters:\n",
    "    p.data += -learning_rate * p.grad\n",
    "\n",
    "  # track stats\n",
    "  if i % 10000 == 0: # print every once in a while\n",
    "    print(f'{i:7d}/{max_steps:7d}: {loss.item():.4f}')\n",
    "  lossi.append(loss.log10().item())\n",
    "  \n",
    "  break"
   ]
  },
  {
   "cell_type": "code",
   "execution_count": 21,
   "metadata": {},
   "outputs": [
    {
     "data": {
      "text/plain": [
       "(torch.Size([32, 200]),\n",
       " tensor([[ 0.8100, -0.8997, -0.9993,  ..., -0.9097, -1.0000,  1.0000],\n",
       "         [-1.0000, -0.9571, -0.7145,  ...,  0.4898,  0.9090,  0.9937],\n",
       "         [ 0.9983, -0.3340,  1.0000,  ...,  0.9443,  0.9905,  1.0000],\n",
       "         ...,\n",
       "         [-1.0000,  0.9604, -0.1418,  ..., -0.1266,  1.0000,  1.0000],\n",
       "         [-1.0000, -0.4385, -0.8882,  ..., -0.3316,  0.9995,  1.0000],\n",
       "         [-1.0000,  0.9604, -0.1418,  ..., -0.1266,  1.0000,  1.0000]],\n",
       "        grad_fn=<TanhBackward0>))"
      ]
     },
     "execution_count": 21,
     "metadata": {},
     "output_type": "execute_result"
    }
   ],
   "source": [
    "# You see how many of the elements are 1 or -1?\n",
    "# tanh is a squashing function, it take arbitrary numbers and it squashes them into a range of [-1, 1] and it does this smoothly.\n",
    "h.shape, h"
   ]
  },
  {
   "cell_type": "code",
   "execution_count": 22,
   "metadata": {},
   "outputs": [
    {
     "data": {
      "text/plain": [
       "(torch.Size([6400]),\n",
       " tensor([ 0.8100, -0.8997, -0.9993,  ..., -0.1266,  1.0000,  1.0000],\n",
       "        grad_fn=<ViewBackward0>))"
      ]
     },
     "execution_count": 22,
     "metadata": {},
     "output_type": "execute_result"
    }
   ],
   "source": [
    "h.view(-1).shape, h.view(-1)"
   ]
  },
  {
   "cell_type": "code",
   "execution_count": 24,
   "metadata": {},
   "outputs": [
    {
     "data": {
      "image/png": "[encoded data removed]",
      "text/plain": [
       "<Figure size 640x480 with 1 Axes>"
      ]
     },
     "metadata": {},
     "output_type": "display_data"
    }
   ],
   "source": [
    "# we use semicolon to supress a bunch of output, we put the numbers in 50 bins\n",
    "# we see that most values take -1 and 1..tanh is very active\n",
    "plt.hist(h.view(-1).tolist(), 50);"
   ]
  },
  {
   "cell_type": "code",
   "execution_count": 26,
   "metadata": {},
   "outputs": [
    {
     "data": {
      "image/png": "[encoded data removed]",
      "text/plain": [
       "<Figure size 640x480 with 1 Axes>"
      ]
     },
     "metadata": {},
     "output_type": "display_data"
    }
   ],
   "source": [
    "# we can see the distribution of these preactivations are very broad..numbers between -15 and 15..lots of numbers take extreme values\n",
    "# this is not something what we want\n",
    "plt.hist(hpreact.view(-1).tolist(), 50);"
   ]
  },
  {
   "cell_type": "code",
   "execution_count": 9,
   "metadata": {},
   "outputs": [
    {
     "name": "stdout",
     "output_type": "stream",
     "text": [
      "      0/ 200000: 4.2326\n"
     ]
    }
   ],
   "source": [
    "# \n",
    "max_steps = 200000\n",
    "batch_size = 32\n",
    "lossi = []\n",
    "\n",
    "for i in range(max_steps):\n",
    "  \n",
    "  # minibatch construct\n",
    "  ix = torch.randint(0, X_train.shape[0], (batch_size,), generator=g)\n",
    "  Xb, Yb = X_train[ix], Y_train[ix] # batch X,Y\n",
    "  \n",
    "  # forward pass\n",
    "  embeddings = C[Xb] # embed the characters into vectors\n",
    "  embcat = embeddings.view(embeddings.shape[0], -1) # concatenate the vectors\n",
    "\n",
    "  # Linear layer\n",
    "  hpreact = embcat @ W1 + b1 # hidden layer pre-activation\n",
    "\n",
    "  # Non-linearity\n",
    "  h = torch.tanh(hpreact) # hidden layer\n",
    "  logits = h @ W2 + b2 # output layer\n",
    "  loss = F.cross_entropy(logits, Yb) # loss function\n",
    "  \n",
    "  # backward pass\n",
    "  for p in parameters:\n",
    "    p.grad = None\n",
    "  loss.backward()\n",
    "  \n",
    "  # update\n",
    "  learning_rate = 0.1 if i < 100000 else 0.01 # step learning rate decay\n",
    "  for p in parameters:\n",
    "    p.data += -learning_rate * p.grad\n",
    "\n",
    "  # track stats\n",
    "  if i % 10000 == 0: # print every once in a while\n",
    "    print(f'{i:7d}/{max_steps:7d}: {loss.item():.4f}')\n",
    "  lossi.append(loss.log10().item())\n",
    "  \n",
    "  break"
   ]
  },
  {
   "cell_type": "code",
   "execution_count": 11,
   "metadata": {},
   "outputs": [
    {
     "data": {
      "text/plain": [
       "<matplotlib.image.AxesImage at 0x7fa84a5f3c10>"
      ]
     },
     "execution_count": 11,
     "metadata": {},
     "output_type": "execute_result"
    },
    {
     "data": {
      "image/png": "[encoded data removed]",
      "text/plain": [
       "<Figure size 2000x1000 with 1 Axes>"
      ]
     },
     "metadata": {},
     "output_type": "display_data"
    }
   ],
   "source": [
    "# alot of these squares are white, that tells us that all these tanh neurons, they're in the flat tail in all these cases.\n",
    "# so for any one of these 200 neurons, if it was that case that the whole colums was white = dead neuron\n",
    "# dead neuron means that where the initialization of the weights and biases could be such that no single example ever activates this tanh, it will never learn\n",
    "# we do have some examples that activate them in the active part of the tanh and, therefore some gradients will flow through and these neurons will learn\n",
    "plt.figure(figsize=(20, 10))\n",
    "plt.imshow(h.abs() > 0.99, cmap='gray', interpolation='nearest')"
   ]
  },
  {
   "cell_type": "code",
   "execution_count": 17,
   "metadata": {},
   "outputs": [
    {
     "name": "stdout",
     "output_type": "stream",
     "text": [
      "11897\n"
     ]
    }
   ],
   "source": [
    "# MLP revisited\n",
    "n_embd = 10 # the dimensionality of the character embedding vectors\n",
    "n_hidden = 200 # the number of neurons in the hidden layer of the MLP\n",
    "\n",
    "g = torch.Generator().manual_seed(2147483647) # for reproducibility\n",
    "C  = torch.randn((vocab_size, n_embd),            generator=g)\n",
    "W1 = torch.randn((n_embd * block_size, n_hidden), generator=g) * 0.2 # this makes the dead neurons chance to 0\n",
    "b1 = torch.randn(n_hidden,                        generator=g) * 0.01\n",
    "W2 = torch.randn((n_hidden, vocab_size),          generator=g) * 0.01 # we scale down W2, you don't want the hidden layers to be set to zero\n",
    "b2 = torch.randn(vocab_size,                      generator=g) * 0 # we basically want here the bias to be 0\n",
    "\n",
    "parameters = [C, W1, b1, W2, b2]\n",
    "print(sum(p.nelement() for p in parameters)) # number of parameters in total\n",
    "for p in parameters:\n",
    "  p.requires_grad = True"
   ]
  },
  {
   "cell_type": "code",
   "execution_count": 18,
   "metadata": {},
   "outputs": [
    {
     "name": "stdout",
     "output_type": "stream",
     "text": [
      "      0/ 200000: 3.3135\n"
     ]
    }
   ],
   "source": [
    "# how to fix this?\n",
    "max_steps = 200000\n",
    "batch_size = 32\n",
    "lossi = []\n",
    "\n",
    "for i in range(max_steps):\n",
    "  \n",
    "  # minibatch construct\n",
    "  ix = torch.randint(0, X_train.shape[0], (batch_size,), generator=g)\n",
    "  Xb, Yb = X_train[ix], Y_train[ix] # batch X,Y\n",
    "  \n",
    "  # forward pass\n",
    "  embeddings = C[Xb] # embed the characters into vectors\n",
    "  embcat = embeddings.view(embeddings.shape[0], -1) # concatenate the vectors\n",
    "\n",
    "  # Linear layer\n",
    "  hpreact = embcat @ W1 + b1 # hidden layer pre-activation\n",
    "\n",
    "  # Non-linearity\n",
    "  h = torch.tanh(hpreact) # hidden layer\n",
    "  logits = h @ W2 + b2 # output layer\n",
    "  loss = F.cross_entropy(logits, Yb) # loss function\n",
    "  \n",
    "  # backward pass\n",
    "  for p in parameters:\n",
    "    p.grad = None\n",
    "  loss.backward()\n",
    "  \n",
    "  # update\n",
    "  learning_rate = 0.1 if i < 100000 else 0.01 # step learning rate decay\n",
    "  for p in parameters:\n",
    "    p.data += -learning_rate * p.grad\n",
    "\n",
    "  # track stats\n",
    "  if i % 10000 == 0: # print every once in a while\n",
    "    print(f'{i:7d}/{max_steps:7d}: {loss.item():.4f}')\n",
    "  lossi.append(loss.log10().item())\n",
    "  \n",
    "  break"
   ]
  },
  {
   "cell_type": "code",
   "execution_count": 21,
   "metadata": {},
   "outputs": [
    {
     "data": {
      "image/png": "[encoded data removed]",
      "text/plain": [
       "<Figure size 640x480 with 1 Axes>"
      ]
     },
     "metadata": {},
     "output_type": "display_data"
    }
   ],
   "source": [
    "plt.hist(h.view(-1).tolist(), 50);"
   ]
  },
  {
   "cell_type": "code",
   "execution_count": 19,
   "metadata": {},
   "outputs": [
    {
     "data": {
      "image/png": "[encoded data removed]",
      "text/plain": [
       "<Figure size 640x480 with 1 Axes>"
      ]
     },
     "metadata": {},
     "output_type": "display_data"
    }
   ],
   "source": [
    "plt.hist(hpreact.view(-1).tolist(), 50);"
   ]
  },
  {
   "cell_type": "code",
   "execution_count": 20,
   "metadata": {},
   "outputs": [
    {
     "data": {
      "text/plain": [
       "<matplotlib.image.AxesImage at 0x7fa7fee4f1f0>"
      ]
     },
     "execution_count": 20,
     "metadata": {},
     "output_type": "execute_result"
    },
    {
     "data": {
      "image/png": "[encoded data removed]",
      "text/plain": [
       "<Figure size 2000x1000 with 1 Axes>"
      ]
     },
     "metadata": {},
     "output_type": "display_data"
    }
   ],
   "source": [
    "plt.figure(figsize=(20, 10))\n",
    "plt.imshow(h.abs() > 0.99, cmap='gray', interpolation='nearest')"
   ]
  },
  {
   "cell_type": "code",
   "execution_count": 22,
   "metadata": {},
   "outputs": [
    {
     "name": "stdout",
     "output_type": "stream",
     "text": [
      "      0/ 200000: 3.2465\n",
      "  10000/ 200000: 1.9043\n",
      "  20000/ 200000: 1.9004\n",
      "  30000/ 200000: 1.9465\n",
      "  40000/ 200000: 2.1656\n",
      "  50000/ 200000: 2.0071\n",
      "  60000/ 200000: 2.0826\n",
      "  70000/ 200000: 2.4228\n",
      "  80000/ 200000: 2.3109\n",
      "  90000/ 200000: 2.1167\n",
      " 100000/ 200000: 2.2166\n",
      " 110000/ 200000: 1.8038\n",
      " 120000/ 200000: 2.2112\n",
      " 130000/ 200000: 1.9618\n",
      " 140000/ 200000: 1.8056\n",
      " 150000/ 200000: 2.4102\n",
      " 160000/ 200000: 2.1829\n",
      " 170000/ 200000: 1.6967\n",
      " 180000/ 200000: 1.9343\n",
      " 190000/ 200000: 2.1057\n"
     ]
    }
   ],
   "source": [
    "# how to fix this?\n",
    "max_steps = 200000\n",
    "batch_size = 32\n",
    "lossi = []\n",
    "\n",
    "for i in range(max_steps):\n",
    "  \n",
    "  # minibatch construct\n",
    "  ix = torch.randint(0, X_train.shape[0], (batch_size,), generator=g)\n",
    "  Xb, Yb = X_train[ix], Y_train[ix] # batch X,Y\n",
    "  \n",
    "  # forward pass\n",
    "  embeddings = C[Xb] # embed the characters into vectors\n",
    "  embcat = embeddings.view(embeddings.shape[0], -1) # concatenate the vectors\n",
    "\n",
    "  # Linear layer\n",
    "  hpreact = embcat @ W1 + b1 # hidden layer pre-activation\n",
    "\n",
    "  # Non-linearity\n",
    "  h = torch.tanh(hpreact) # hidden layer\n",
    "  logits = h @ W2 + b2 # output layer\n",
    "  loss = F.cross_entropy(logits, Yb) # loss function\n",
    "  \n",
    "  # backward pass\n",
    "  for p in parameters:\n",
    "    p.grad = None\n",
    "  loss.backward()\n",
    "  \n",
    "  # update\n",
    "  learning_rate = 0.1 if i < 100000 else 0.01 # step learning rate decay\n",
    "  for p in parameters:\n",
    "    p.data += -learning_rate * p.grad\n",
    "\n",
    "  # track stats\n",
    "  if i % 10000 == 0: # print every once in a while\n",
    "    print(f'{i:7d}/{max_steps:7d}: {loss.item():.4f}')\n",
    "  lossi.append(loss.log10().item())\n"
   ]
  },
  {
   "cell_type": "code",
   "execution_count": 23,
   "metadata": {},
   "outputs": [
    {
     "name": "stdout",
     "output_type": "stream",
     "text": [
      "train 2.0357086658477783\n",
      "validation 2.102949380874634\n"
     ]
    }
   ],
   "source": [
    "@torch.no_grad() # this decorator disables gradient tracking\n",
    "def split_loss(split):\n",
    "  x, y = {\n",
    "    'train': (X_train, Y_train),\n",
    "    'validation': (X_dev, Y_dev),\n",
    "    'test': (X_test, Y_test),\n",
    "  }[split]\n",
    "  embeddings = C[x] # (N, block_size, n_embd)\n",
    "  embcat = embeddings.view(embeddings.shape[0], -1) # concat into (N, block_size * n_embd)\n",
    "  hpreact = embcat @ W1 + b1\n",
    "\n",
    "  h = torch.tanh(hpreact) # (N, n_hidden)\n",
    "  logits = h @ W2 + b2 # (N, vocab_size)\n",
    "  loss = F.cross_entropy(logits, y)\n",
    "  print(split, loss.item())\n",
    "\n",
    "split_loss('train')\n",
    "split_loss('validation')"
   ]
  },
  {
   "cell_type": "code",
   "execution_count": null,
   "metadata": {},
   "outputs": [],
   "source": [
    "# loss log history\n",
    "\n",
    "# original:\n",
    "# train 2.123693466\n",
    "# validation 2.18492317\n",
    "\n",
    "# fixed softmax being confidently wrong:\n",
    "# train 2.068149\n",
    "# validation 2.18492317\n",
    "\n",
    "# fixed tanh layer too saturated at init:\n",
    "# train 2.0355966\n",
    "# validation 2.1029493808"
   ]
  },
  {
   "cell_type": "markdown",
   "metadata": {},
   "source": [
    "### Calculating the init scale: Kaiming init"
   ]
  },
  {
   "cell_type": "code",
   "execution_count": null,
   "metadata": {},
   "outputs": [],
   "source": [
    "# MLP revisited\n",
    "n_embd = 10 # the dimensionality of the character embedding vectors\n",
    "n_hidden = 200 # the number of neurons in the hidden layer of the MLP\n",
    "\n",
    "g = torch.Generator().manual_seed(2147483647) # for reproducibility\n",
    "C  = torch.randn((vocab_size, n_embd),            generator=g)\n",
    "W1 = torch.randn((n_embd * block_size, n_hidden), generator=g) * 0.2 # this makes the dead neurons chance to 0\n",
    "b1 = torch.randn(n_hidden,                        generator=g) * 0.01\n",
    "W2 = torch.randn((n_hidden, vocab_size),          generator=g) * 0.01 # we scale down W2, you don't want the hidden layers to be set to zero\n",
    "b2 = torch.randn(vocab_size,                      generator=g) * 0 # we basically want here the bias to be 0\n",
    "\n",
    "parameters = [C, W1, b1, W2, b2]\n",
    "print(sum(p.nelement() for p in parameters)) # number of parameters in total\n",
    "for p in parameters:\n",
    "  p.requires_grad = True"
   ]
  },
  {
   "cell_type": "code",
   "execution_count": 24,
   "metadata": {},
   "outputs": [
    {
     "name": "stdout",
     "output_type": "stream",
     "text": [
      "tensor(-0.0002) tensor(0.9955)\n",
      "tensor(0.0061) tensor(3.0958)\n"
     ]
    },
    {
     "data": {
      "image/png": "[encoded data removed]",
      "text/plain": [
       "<Figure size 2000x500 with 2 Axes>"
      ]
     },
     "metadata": {},
     "output_type": "display_data"
    }
   ],
   "source": [
    "x = torch.randn(1000, 10)\n",
    "w = torch.randn(10, 200) # The question is, how do we scale these W's in order preserve this gaussian distribution ?\n",
    "y = x @ w # preactivations\n",
    "print(x.mean(), x.std())\n",
    "print(y.mean(), y.std()) # we see here that std expanded, we don't want this\n",
    "\n",
    "plt.figure(figsize=(20, 5))\n",
    "plt.subplot(121)\n",
    "\n",
    "plt.hist(x.view(-1).tolist(), 50, density=True);\n",
    "plt.subplot(122)\n",
    "plt.hist(y.view(-1).tolist(), 50, density=True);"
   ]
  },
  {
   "cell_type": "code",
   "execution_count": 27,
   "metadata": {},
   "outputs": [
    {
     "name": "stdout",
     "output_type": "stream",
     "text": [
      "tensor(0.0158) tensor(1.0135)\n",
      "tensor(0.0846) tensor(16.2484)\n"
     ]
    },
    {
     "data": {
      "image/png": "[encoded data removed]",
      "text/plain": [
       "<Figure size 2000x500 with 2 Axes>"
      ]
     },
     "metadata": {},
     "output_type": "display_data"
    }
   ],
   "source": [
    "x = torch.randn(1000, 10)\n",
    "w = torch.randn(10, 200) * 5\n",
    "y = x @ w # preactivations\n",
    "print(x.mean(), x.std())\n",
    "print(y.mean(), y.std()) # we see here that std expanded, we don't want this\n",
    "\n",
    "plt.figure(figsize=(20, 5))\n",
    "plt.subplot(121)\n",
    "\n",
    "plt.hist(x.view(-1).tolist(), 50, density=True);\n",
    "plt.subplot(122)\n",
    "plt.hist(y.view(-1).tolist(), 50, density=True);"
   ]
  },
  {
   "cell_type": "code",
   "execution_count": 29,
   "metadata": {},
   "outputs": [
    {
     "name": "stdout",
     "output_type": "stream",
     "text": [
      "tensor(-0.0117) tensor(0.9947)\n",
      "tensor(0.0006) tensor(1.0046)\n"
     ]
    },
    {
     "data": {
      "image/png": "[encoded data removed]",
      "text/plain": [
       "<Figure size 2000x500 with 2 Axes>"
      ]
     },
     "metadata": {},
     "output_type": "display_data"
    }
   ],
   "source": [
    "x = torch.randn(1000, 10)\n",
    "w = torch.randn(10, 200) / 10**0.5 # you are supposed to divide by the square root of the input in this layer \n",
    "y = x @ w # preactivations\n",
    "print(x.mean(), x.std())\n",
    "print(y.mean(), y.std()) # we see here that std expanded, we don't want this\n",
    "\n",
    "plt.figure(figsize=(20, 5))\n",
    "plt.subplot(121)\n",
    "\n",
    "plt.hist(x.view(-1).tolist(), 50, density=True);\n",
    "plt.subplot(122)\n",
    "plt.hist(y.view(-1).tolist(), 50, density=True);"
   ]
  },
  {
   "cell_type": "markdown",
   "metadata": {},
   "source": [
    "### the question is how do we initialize the weights so that these activations take on reasonable values throughout the network\n",
    "In the past, you had to actually be extremely careful with the activations and the gradients and their ranges and their histograms and you have to be very careful with the precise setting of gains and the scrutinizing of the nonlinearities used and so on. <br>\n",
    "but there are a number of modern innovations that have made everything significantly more stable and more well behaved and has become less important to initialize these networks exactly right <br> \n",
    "Some of those modern innovations:\n",
    "- residual connections\n",
    "- use of normalization layers: batch normalization, layer normalization\n",
    "- much better optimizers (rmsprop, Adam, etc)"
   ]
  },
  {
   "cell_type": "code",
   "execution_count": 36,
   "metadata": {},
   "outputs": [
    {
     "name": "stdout",
     "output_type": "stream",
     "text": [
      "11897\n"
     ]
    }
   ],
   "source": [
    "# MLP revisited\n",
    "n_embd = 10 # the dimensionality of the character embedding vectors\n",
    "n_hidden = 200 # the number of neurons in the hidden layer of the MLP\n",
    "\n",
    "g = torch.Generator().manual_seed(2147483647) # for reproducibility\n",
    "C  = torch.randn((vocab_size, n_embd),            generator=g)\n",
    "W1 = torch.randn((n_embd * block_size, n_hidden), generator=g) * (5/3) / ((n_embd * block_size)**0.5) # tanh \n",
    "b1 = torch.randn(n_hidden,                        generator=g) * 0.01\n",
    "W2 = torch.randn((n_hidden, vocab_size),          generator=g) * 0.01 # we scale down W2, you don't want the hidden layers to be set to zero\n",
    "b2 = torch.randn(vocab_size,                      generator=g) * 0 # we basically want here the bias to be 0\n",
    "\n",
    "parameters = [C, W1, b1, W2, b2]\n",
    "print(sum(p.nelement() for p in parameters)) # number of parameters in total\n",
    "for p in parameters:\n",
    "  p.requires_grad = True"
   ]
  },
  {
   "cell_type": "code",
   "execution_count": 37,
   "metadata": {},
   "outputs": [
    {
     "name": "stdout",
     "output_type": "stream",
     "text": [
      "      0/ 200000: 3.3179\n"
     ]
    }
   ],
   "source": [
    "# how to fix this?\n",
    "max_steps = 200000\n",
    "batch_size = 32\n",
    "lossi = []\n",
    "\n",
    "for i in range(max_steps):\n",
    "  \n",
    "  # minibatch construct\n",
    "  ix = torch.randint(0, X_train.shape[0], (batch_size,), generator=g)\n",
    "  Xb, Yb = X_train[ix], Y_train[ix] # batch X,Y\n",
    "  \n",
    "  # forward pass\n",
    "  embeddings = C[Xb] # embed the characters into vectors\n",
    "  embcat = embeddings.view(embeddings.shape[0], -1) # concatenate the vectors\n",
    "\n",
    "  # Linear layer\n",
    "  hpreact = embcat @ W1 + b1 # hidden layer pre-activation\n",
    "\n",
    "  # Non-linearity\n",
    "  h = torch.tanh(hpreact) # hidden layer\n",
    "  logits = h @ W2 + b2 # output layer\n",
    "  loss = F.cross_entropy(logits, Yb) # loss function\n",
    "  \n",
    "  # backward pass\n",
    "  for p in parameters:\n",
    "    p.grad = None\n",
    "  loss.backward()\n",
    "  \n",
    "  # update\n",
    "  learning_rate = 0.1 if i < 100000 else 0.01 # step learning rate decay\n",
    "  for p in parameters:\n",
    "    p.data += -learning_rate * p.grad\n",
    "\n",
    "  # track stats\n",
    "  if i % 10000 == 0: # print every once in a while\n",
    "    print(f'{i:7d}/{max_steps:7d}: {loss.item():.4f}')\n",
    "  lossi.append(loss.log10().item())\n",
    "\n",
    "  break\n"
   ]
  },
  {
   "cell_type": "code",
   "execution_count": 35,
   "metadata": {},
   "outputs": [
    {
     "name": "stdout",
     "output_type": "stream",
     "text": [
      "train 2.0376644134521484\n",
      "validation 2.106989622116089\n"
     ]
    }
   ],
   "source": [
    "@torch.no_grad() # this decorator disables gradient tracking\n",
    "def split_loss(split):\n",
    "  x, y = {\n",
    "    'train': (X_train, Y_train),\n",
    "    'validation': (X_dev, Y_dev),\n",
    "    'test': (X_test, Y_test),\n",
    "  }[split]\n",
    "  embeddings = C[x] # (N, block_size, n_embd)\n",
    "  embcat = embeddings.view(embeddings.shape[0], -1) # concat into (N, block_size * n_embd)\n",
    "  hpreact = embcat @ W1 + b1\n",
    "\n",
    "  h = torch.tanh(hpreact) # (N, n_hidden)\n",
    "  logits = h @ W2 + b2 # (N, vocab_size)\n",
    "  loss = F.cross_entropy(logits, y)\n",
    "  print(split, loss.item())\n",
    "\n",
    "split_loss('train')\n",
    "split_loss('validation')"
   ]
  },
  {
   "cell_type": "code",
   "execution_count": 38,
   "metadata": {},
   "outputs": [
    {
     "data": {
      "image/png": "[encoded data removed]",
      "text/plain": [
       "<Figure size 640x480 with 1 Axes>"
      ]
     },
     "metadata": {},
     "output_type": "display_data"
    }
   ],
   "source": [
    "plt.hist(h.view(-1).tolist(), 50);"
   ]
  },
  {
   "cell_type": "code",
   "execution_count": 39,
   "metadata": {},
   "outputs": [
    {
     "data": {
      "image/png": "[encoded data removed]",
      "text/plain": [
       "<Figure size 640x480 with 1 Axes>"
      ]
     },
     "metadata": {},
     "output_type": "display_data"
    }
   ],
   "source": [
    "plt.hist(hpreact.view(-1).tolist(), 50);"
   ]
  },
  {
   "cell_type": "code",
   "execution_count": 40,
   "metadata": {},
   "outputs": [
    {
     "data": {
      "text/plain": [
       "<matplotlib.image.AxesImage at 0x7fa842eb7340>"
      ]
     },
     "execution_count": 40,
     "metadata": {},
     "output_type": "execute_result"
    },
    {
     "data": {
      "image/png": "[encoded data removed]",
      "text/plain": [
       "<Figure size 2000x1000 with 1 Axes>"
      ]
     },
     "metadata": {},
     "output_type": "display_data"
    }
   ],
   "source": [
    "plt.figure(figsize=(20, 10))\n",
    "plt.imshow(h.abs() > 0.99, cmap='gray', interpolation='nearest')"
   ]
  },
  {
   "cell_type": "markdown",
   "metadata": {},
   "source": [
    "### Batch Normalization"
   ]
  },
  {
   "cell_type": "code",
   "execution_count": 48,
   "metadata": {},
   "outputs": [
    {
     "name": "stdout",
     "output_type": "stream",
     "text": [
      "11897\n"
     ]
    }
   ],
   "source": [
    "# MLP revisited\n",
    "n_embd = 10 # the dimensionality of the character embedding vectors\n",
    "n_hidden = 200 # the number of neurons in the hidden layer of the MLP\n",
    "\n",
    "g = torch.Generator().manual_seed(2147483647) # for reproducibility\n",
    "C  = torch.randn((vocab_size, n_embd),            generator=g)\n",
    "W1 = torch.randn((n_embd * block_size, n_hidden), generator=g) * (5/3) / ((n_embd * block_size)**0.5) # tanh \n",
    "b1 = torch.randn(n_hidden,                        generator=g) * 0.01\n",
    "W2 = torch.randn((n_hidden, vocab_size),          generator=g) * 0.01 # we scale down W2, you don't want the hidden layers to be set to zero\n",
    "b2 = torch.randn(vocab_size,                      generator=g) * 0 # we basically want here the bias to be 0\n",
    "\n",
    "parameters = [C, W1, b1, W2, b2]\n",
    "print(sum(p.nelement() for p in parameters)) # number of parameters in total\n",
    "for p in parameters:\n",
    "  p.requires_grad = True"
   ]
  },
  {
   "cell_type": "code",
   "execution_count": null,
   "metadata": {},
   "outputs": [],
   "source": [
    "# how to fix this?\n",
    "max_steps = 200000\n",
    "batch_size = 32\n",
    "lossi = []\n",
    "\n",
    "for i in range(max_steps):\n",
    "  \n",
    "  # minibatch construct\n",
    "  ix = torch.randint(0, X_train.shape[0], (batch_size,), generator=g)\n",
    "  Xb, Yb = X_train[ix], Y_train[ix] # batch X,Y\n",
    "  \n",
    "  # forward pass\n",
    "  embeddings = C[Xb] # embed the characters into vectors\n",
    "  embcat = embeddings.view(embeddings.shape[0], -1) # concatenate the vectors\n",
    "\n",
    "  # Linear layer\n",
    "  # In batchnorm paper the big insight was, if you'd like unit gaussian states in your network, at least in init, you can just normalize them to be gaussian\n",
    "  # let's standardize them\n",
    "  hpreact = embcat @ W1 + b1 # hidden layer pre-activation\n",
    "\n",
    "  # Non-linearity\n",
    "  h = torch.tanh(hpreact) # hidden layer\n",
    "  logits = h @ W2 + b2 # output layer\n",
    "  loss = F.cross_entropy(logits, Yb) # loss function\n",
    "  \n",
    "  # backward pass\n",
    "  for p in parameters:\n",
    "    p.grad = None\n",
    "  loss.backward()\n",
    "  \n",
    "  # update\n",
    "  learning_rate = 0.1 if i < 100000 else 0.01 # step learning rate decay\n",
    "  for p in parameters:\n",
    "    p.data += -learning_rate * p.grad\n",
    "\n",
    "  # track stats\n",
    "  if i % 10000 == 0: # print every once in a while\n",
    "    print(f'{i:7d}/{max_steps:7d}: {loss.item():.4f}')\n",
    "  lossi.append(loss.log10().item())\n",
    "\n",
    "  break\n"
   ]
  },
  {
   "cell_type": "code",
   "execution_count": 47,
   "metadata": {},
   "outputs": [
    {
     "name": "stdout",
     "output_type": "stream",
     "text": [
      "torch.Size([32, 200])\n",
      "tensor([ 0.9523, -0.1573, -1.2221,  0.4781, -0.1926, -0.5459, -0.4963, -1.5261,\n",
      "         0.1498,  1.3053,  1.5236, -0.8475,  0.7312, -0.2258,  0.0971,  0.3402,\n",
      "        -0.8972, -0.3741, -0.3791,  1.0478, -0.3632, -0.7425, -0.1727,  2.4644,\n",
      "         0.6759, -1.3454,  0.9787, -1.4127, -0.0063,  0.5180, -1.4166,  1.2325,\n",
      "         0.7005,  0.9972,  2.4057, -2.2053,  1.8290, -2.2713,  2.7510, -0.6604,\n",
      "         0.7039, -0.6609,  0.6949, -1.1879,  0.0923,  1.8058,  1.1566,  0.0221,\n",
      "        -1.0974, -1.0741, -0.9565, -0.8501, -1.7693, -0.5704, -2.4997,  0.5927,\n",
      "        -0.7384, -1.3360, -1.1038, -1.0001,  1.2106,  0.4673,  0.1062, -0.6787,\n",
      "         0.6974,  0.2299,  0.3187, -0.9860, -1.9734,  1.0395,  0.7412,  0.8184,\n",
      "        -0.1379, -0.2222,  0.5415,  1.0807,  2.5359,  0.1515,  0.7782,  0.9960,\n",
      "         1.2742,  1.3199, -1.1830, -1.9097,  1.9154, -1.9223,  0.3363, -0.5858,\n",
      "        -0.5195, -0.4983, -0.4345,  2.2639, -1.4914,  1.7665, -1.6163,  1.4195,\n",
      "        -1.1393, -1.5219, -1.1046, -1.8122, -0.9651,  1.0558,  0.7074, -2.7583,\n",
      "        -1.2677,  2.7577,  1.3694, -0.4119,  3.6276, -1.0140,  1.4395,  0.5812,\n",
      "        -1.6093,  2.1632, -1.4135, -3.4267, -0.2332, -0.4114,  0.8697,  1.1260,\n",
      "         2.0424,  1.5158, -0.1438, -0.5092, -0.7139,  0.1203, -2.8633, -0.6208,\n",
      "         1.8229,  0.1592, -0.2437, -2.4942, -1.7693,  0.4729, -0.2943,  0.4565,\n",
      "        -1.5771, -1.3015,  0.3733,  1.0744, -0.4418, -2.3742, -0.8608,  2.9903,\n",
      "        -0.7478,  2.0093,  0.4862,  1.7582,  1.8580, -2.2097, -1.5205,  2.1386,\n",
      "         1.0487,  0.9864, -0.2317, -0.3129,  1.0505, -0.0473, -0.7718, -0.9335,\n",
      "        -0.1497,  1.1969,  1.8013,  0.9337,  2.0584,  1.7067,  1.3842,  0.9143,\n",
      "        -0.6726, -0.6237,  1.0715, -1.6155, -1.9845,  1.2209, -1.9246, -0.8392,\n",
      "        -1.4972,  1.8347,  0.5705,  0.4344,  0.4208, -0.5750,  3.1063, -1.5432,\n",
      "         0.1511, -0.7021,  3.0771,  0.4534, -2.3687, -1.9076,  0.9027, -2.6569,\n",
      "        -1.4962, -1.0874,  1.6616,  0.4601, -3.0243, -0.5537, -3.3376,  2.1461],\n",
      "       grad_fn=<SelectBackward0>)\n"
     ]
    }
   ],
   "source": [
    "print(hpreact.shape)\n",
    "print(hpreact[0])"
   ]
  },
  {
   "cell_type": "code",
   "execution_count": 45,
   "metadata": {},
   "outputs": [
    {
     "name": "stdout",
     "output_type": "stream",
     "text": [
      "torch.Size([1, 200])\n",
      "tensor([-6.4895e-01, -1.4597e-01, -8.0683e-01,  1.0174e+00,  4.8276e-01,\n",
      "         3.9179e-01,  9.9218e-01, -7.3749e-01, -4.9225e-01,  6.8735e-01,\n",
      "        -2.9563e-01, -1.1562e+00,  1.5454e-01, -3.3220e-03, -1.1526e-01,\n",
      "         1.9449e-01,  1.1971e+00, -9.2370e-01, -6.0493e-02,  1.0650e+00,\n",
      "         2.1513e-01, -4.7685e-01,  4.9706e-01,  6.6677e-01, -1.1607e-03,\n",
      "         8.1026e-01,  6.2787e-01,  1.5279e-01, -1.0814e-01,  9.6126e-01,\n",
      "        -1.6652e-01, -2.7353e-01,  4.4203e-02,  2.9378e-01, -2.4525e-01,\n",
      "        -7.8650e-01, -2.0602e-01, -6.8203e-01, -2.2059e-01,  1.1570e-01,\n",
      "        -1.7179e-03, -1.0641e+00, -6.0733e-01, -3.5109e-01,  1.6060e-01,\n",
      "        -9.0421e-02,  3.4703e-01, -2.2447e-01,  5.0098e-01,  9.9949e-01,\n",
      "        -3.7583e-02, -2.8671e-02,  9.9966e-01,  6.5420e-01,  3.8681e-01,\n",
      "        -4.8521e-01, -6.3861e-02,  9.9010e-01,  2.2938e-01, -2.9470e-01,\n",
      "        -9.5526e-02,  5.7888e-01,  1.9643e-01,  1.7939e-01,  3.9875e-01,\n",
      "         5.0771e-01,  5.8065e-01,  4.9585e-02, -4.5564e-01, -1.5518e-01,\n",
      "         2.6553e-01,  3.6896e-01,  6.9375e-01, -7.8754e-01, -1.3394e+00,\n",
      "         1.5083e-01,  1.2209e+00, -2.5435e-01, -2.0278e-01,  4.3058e-02,\n",
      "         5.8947e-01,  1.1821e+00,  9.3920e-01,  6.9545e-01,  4.3711e-01,\n",
      "         5.9205e-02, -8.7939e-01, -1.3699e-01,  9.3456e-02, -4.9256e-01,\n",
      "         2.2162e-01,  3.4106e-01, -9.4887e-03, -5.4789e-02, -1.1239e-01,\n",
      "        -2.0330e-01, -2.5104e-01, -2.1958e-01,  1.2438e-01, -9.3832e-01,\n",
      "        -4.4435e-01,  2.9521e-01, -1.4145e+00,  9.1986e-02,  5.5543e-01,\n",
      "        -1.1529e-02, -9.6390e-01, -6.2875e-01,  5.5914e-01, -5.9924e-01,\n",
      "         5.0103e-01,  8.6243e-01, -1.8661e-01,  1.1737e+00,  2.9591e-01,\n",
      "         6.0257e-01,  1.6603e-01, -2.3701e-01, -2.0360e-01, -5.8237e-02,\n",
      "        -3.8176e-01, -4.6674e-01,  5.5679e-01,  9.1908e-01, -2.9533e-01,\n",
      "         5.3423e-01,  1.4335e-01, -1.0492e+00, -7.3054e-01,  1.6119e-01,\n",
      "         1.2647e+00, -5.2705e-02,  6.2771e-02,  4.2371e-01,  2.6119e-01,\n",
      "        -1.0651e-01, -1.1985e-01, -5.7482e-03,  2.5750e-02,  1.7002e-01,\n",
      "         4.0260e-01, -1.1301e-01,  2.7430e-03, -2.2085e-01,  7.2768e-01,\n",
      "         4.2736e-01,  3.4521e-02,  2.7889e-01, -6.9044e-02,  1.3813e-01,\n",
      "        -2.0480e-01,  4.7238e-01,  3.0683e-01,  1.0752e+00,  5.7920e-01,\n",
      "        -6.0792e-01,  8.1343e-01, -8.7358e-01, -9.2838e-02,  8.8886e-02,\n",
      "         7.6758e-01, -2.1185e-01,  8.2193e-02, -1.1776e+00, -2.7925e-01,\n",
      "        -4.2833e-01,  5.6534e-02,  2.0749e-01, -1.3089e-01, -1.3456e-01,\n",
      "         1.4921e-01, -1.1548e-01,  1.0464e-01,  1.4705e-01,  1.9762e-01,\n",
      "         5.1982e-01,  5.9857e-01, -6.0499e-01,  3.6077e-01, -9.7155e-01,\n",
      "         8.7666e-01,  6.8059e-02, -2.3339e-01,  5.8547e-01,  4.0258e-01,\n",
      "         8.3894e-01,  3.3346e-01, -5.6989e-02,  1.0200e+00,  5.8757e-01,\n",
      "         3.8044e-01,  1.2877e+00, -2.2900e-01,  6.0101e-01,  5.0348e-02,\n",
      "         4.5620e-01,  7.6300e-01, -4.5498e-01,  4.2836e-01,  9.7089e-01],\n",
      "       grad_fn=<SelectBackward0>)\n"
     ]
    }
   ],
   "source": [
    "print(hpreact.mean(0, keepdim=True).shape)\n",
    "print(hpreact.mean(0, keepdim=True)[0])"
   ]
  },
  {
   "cell_type": "code",
   "execution_count": 46,
   "metadata": {},
   "outputs": [
    {
     "name": "stdout",
     "output_type": "stream",
     "text": [
      "torch.Size([1, 200])\n",
      "tensor([1.5754, 1.3254, 1.5610, 1.4098, 1.6534, 1.2083, 0.9523, 1.1277, 1.9093,\n",
      "        1.3163, 1.2751, 1.1636, 1.1184, 1.2403, 0.9120, 1.2187, 1.9744, 1.2237,\n",
      "        1.8974, 1.2805, 1.2232, 1.4200, 1.5374, 1.6672, 1.1480, 1.5804, 1.1898,\n",
      "        1.2942, 1.8189, 1.6032, 1.3553, 1.3369, 1.6952, 1.5864, 1.5168, 1.5035,\n",
      "        1.0359, 1.9976, 1.3965, 1.7787, 1.0727, 1.3621, 1.6309, 2.0599, 1.1662,\n",
      "        1.2218, 1.5208, 1.5761, 0.8647, 1.2208, 0.9464, 0.9392, 1.2892, 0.9674,\n",
      "        1.3067, 1.5019, 0.9808, 1.8787, 1.6687, 1.4628, 1.1963, 1.3688, 0.8030,\n",
      "        1.2942, 1.4992, 1.3359, 1.3997, 1.0738, 1.6988, 1.8295, 1.1145, 1.5140,\n",
      "        1.1073, 1.1720, 1.0499, 1.4159, 1.0021, 1.7107, 1.3186, 1.3349, 1.8360,\n",
      "        1.5398, 1.6573, 1.8745, 1.4010, 1.3539, 1.1694, 1.0472, 1.1543, 1.1884,\n",
      "        1.3937, 1.4828, 1.5281, 2.3096, 2.1635, 1.4064, 1.5561, 1.0843, 1.1285,\n",
      "        1.2335, 1.2424, 1.2700, 1.9116, 1.1724, 1.4420, 1.5626, 1.4210, 1.2810,\n",
      "        1.7997, 1.6398, 1.1828, 1.3493, 1.5240, 1.7782, 1.3397, 1.5362, 0.9973,\n",
      "        1.3092, 1.7687, 1.4110, 1.1241, 1.5401, 1.0092, 1.1225, 1.3129, 1.8426,\n",
      "        1.2739, 1.2378, 1.3586, 1.2383, 1.4102, 1.3801, 2.2118, 1.6608, 1.0559,\n",
      "        1.0420, 1.2080, 1.0908, 1.4562, 1.4878, 1.1311, 1.2254, 1.5966, 1.3702,\n",
      "        1.2956, 1.5046, 1.4051, 1.4522, 1.2491, 1.6646, 1.7564, 1.7792, 1.1939,\n",
      "        1.5959, 1.5041, 1.2971, 1.2745, 1.2587, 1.6244, 1.4997, 0.8257, 1.7086,\n",
      "        1.0141, 1.8007, 1.6316, 1.1024, 2.2306, 0.9642, 1.0093, 1.3676, 1.1353,\n",
      "        1.1155, 1.5918, 1.2157, 1.6822, 1.2491, 1.7161, 1.5474, 1.0876, 1.2333,\n",
      "        1.0764, 2.0968, 1.7108, 1.7426, 1.4521, 1.3285, 1.6247, 1.1960, 2.8779,\n",
      "        1.8980, 1.4945, 1.6521, 1.1345, 1.1141, 1.5156, 1.1317, 1.3711, 1.2869,\n",
      "        1.7142, 1.5376], grad_fn=<SelectBackward0>)\n"
     ]
    }
   ],
   "source": [
    "print(hpreact.std(0, keepdim=True).shape)\n",
    "print(hpreact.std(0, keepdim=True)[0])"
   ]
  },
  {
   "cell_type": "code",
   "execution_count": 49,
   "metadata": {},
   "outputs": [
    {
     "name": "stdout",
     "output_type": "stream",
     "text": [
      "      0/ 200000: 3.3147\n"
     ]
    }
   ],
   "source": [
    "# how to fix this?\n",
    "max_steps = 200000\n",
    "batch_size = 32\n",
    "lossi = []\n",
    "\n",
    "for i in range(max_steps):\n",
    "  \n",
    "  # minibatch construct\n",
    "  ix = torch.randint(0, X_train.shape[0], (batch_size,), generator=g)\n",
    "  Xb, Yb = X_train[ix], Y_train[ix] # batch X,Y\n",
    "  \n",
    "  # forward pass\n",
    "  embeddings = C[Xb] # embed the characters into vectors\n",
    "  embcat = embeddings.view(embeddings.shape[0], -1) # concatenate the vectors\n",
    "\n",
    "  # Linear layer\n",
    "  # In batchnorm paper the big insight was, if you'd like unit gaussian states in your network, at least in init, you can just normalize them to be gaussian\n",
    "  # let's standardize them\n",
    "\n",
    "  hpreact = embcat @ W1 + b1 # hidden layer pre-activation\n",
    "  hpreact = (hpreact - hpreact.mean(0, keepdim=True)) / hpreact.std(0, keepdim=True) # this is how you standardize them\n",
    "\n",
    "  # Non-linearity\n",
    "  h = torch.tanh(hpreact) # hidden layer\n",
    "  logits = h @ W2 + b2 # output layer\n",
    "  loss = F.cross_entropy(logits, Yb) # loss function\n",
    "  \n",
    "  # backward pass\n",
    "  for p in parameters:\n",
    "    p.grad = None\n",
    "  loss.backward()\n",
    "  \n",
    "  # update\n",
    "  learning_rate = 0.1 if i < 100000 else 0.01 # step learning rate decay\n",
    "  for p in parameters:\n",
    "    p.data += -learning_rate * p.grad\n",
    "\n",
    "  # track stats\n",
    "  if i % 10000 == 0: # print every once in a while\n",
    "    print(f'{i:7d}/{max_steps:7d}: {loss.item():.4f}')\n",
    "  lossi.append(loss.log10().item())\n",
    "\n",
    "  break\n"
   ]
  },
  {
   "cell_type": "code",
   "execution_count": 50,
   "metadata": {},
   "outputs": [
    {
     "data": {
      "image/png": "[encoded data removed]",
      "text/plain": [
       "<Figure size 640x480 with 1 Axes>"
      ]
     },
     "metadata": {},
     "output_type": "display_data"
    }
   ],
   "source": [
    "plt.hist(h.view(-1).tolist(), 50);"
   ]
  },
  {
   "cell_type": "code",
   "execution_count": 51,
   "metadata": {},
   "outputs": [
    {
     "data": {
      "image/png": "[encoded data removed]",
      "text/plain": [
       "<Figure size 640x480 with 1 Axes>"
      ]
     },
     "metadata": {},
     "output_type": "display_data"
    }
   ],
   "source": [
    "plt.hist(hpreact.view(-1).tolist(), 50);"
   ]
  },
  {
   "cell_type": "code",
   "execution_count": 52,
   "metadata": {},
   "outputs": [
    {
     "data": {
      "text/plain": [
       "<matplotlib.image.AxesImage at 0x7fa7fe5c80d0>"
      ]
     },
     "execution_count": 52,
     "metadata": {},
     "output_type": "execute_result"
    },
    {
     "data": {
      "image/png": "[encoded data removed]",
      "text/plain": [
       "<Figure size 2000x1000 with 1 Axes>"
      ]
     },
     "metadata": {},
     "output_type": "display_data"
    }
   ],
   "source": [
    "plt.figure(figsize=(20, 10))\n",
    "plt.imshow(h.abs() > 0.99, cmap='gray', interpolation='nearest')"
   ]
  },
  {
   "cell_type": "markdown",
   "metadata": {},
   "source": [
    "### You actually won't achieve a very good result with this\n",
    "The reason for that is we want these to be roughly gaussian only at the initialization"
   ]
  },
  {
   "cell_type": "code",
   "execution_count": 53,
   "metadata": {},
   "outputs": [
    {
     "name": "stdout",
     "output_type": "stream",
     "text": [
      "11897\n"
     ]
    }
   ],
   "source": [
    "# MLP revisited\n",
    "n_embd = 10 # the dimensionality of the character embedding vectors\n",
    "n_hidden = 200 # the number of neurons in the hidden layer of the MLP\n",
    "\n",
    "g = torch.Generator().manual_seed(2147483647) # for reproducibility\n",
    "C  = torch.randn((vocab_size, n_embd),            generator=g)\n",
    "W1 = torch.randn((n_embd * block_size, n_hidden), generator=g) * (5/3) / ((n_embd * block_size)**0.5) # tanh \n",
    "b1 = torch.randn(n_hidden,                        generator=g) * 0.01\n",
    "W2 = torch.randn((n_hidden, vocab_size),          generator=g) * 0.01 # we scale down W2, you don't want the hidden layers to be set to zero\n",
    "b2 = torch.randn(vocab_size,                      generator=g) * 0 # we basically want here the bias to be 0\n",
    "\n",
    "parameters = [C, W1, b1, W2, b2]\n",
    "print(sum(p.nelement() for p in parameters)) # number of parameters in total\n",
    "for p in parameters:\n",
    "  p.requires_grad = True"
   ]
  },
  {
   "cell_type": "code",
   "execution_count": 54,
   "metadata": {},
   "outputs": [
    {
     "name": "stdout",
     "output_type": "stream",
     "text": [
      "      0/ 200000: 3.3147\n",
      "  10000/ 200000: 2.1942\n",
      "  20000/ 200000: 2.3443\n",
      "  30000/ 200000: 2.4160\n",
      "  40000/ 200000: 1.9913\n",
      "  50000/ 200000: 2.2978\n",
      "  60000/ 200000: 2.5254\n",
      "  70000/ 200000: 2.0707\n",
      "  80000/ 200000: 2.3107\n",
      "  90000/ 200000: 2.0663\n",
      " 100000/ 200000: 1.9933\n",
      " 110000/ 200000: 2.3179\n",
      " 120000/ 200000: 1.9123\n",
      " 130000/ 200000: 2.4505\n",
      " 140000/ 200000: 2.4321\n",
      " 150000/ 200000: 2.2003\n",
      " 160000/ 200000: 2.0463\n",
      " 170000/ 200000: 1.8839\n",
      " 180000/ 200000: 1.9983\n",
      " 190000/ 200000: 1.8873\n"
     ]
    }
   ],
   "source": [
    "# how to fix this?\n",
    "max_steps = 200000\n",
    "batch_size = 32\n",
    "lossi = []\n",
    "\n",
    "for i in range(max_steps):\n",
    "  \n",
    "  # minibatch construct\n",
    "  ix = torch.randint(0, X_train.shape[0], (batch_size,), generator=g)\n",
    "  Xb, Yb = X_train[ix], Y_train[ix] # batch X,Y\n",
    "  \n",
    "  # forward pass\n",
    "  embeddings = C[Xb] # embed the characters into vectors\n",
    "  embcat = embeddings.view(embeddings.shape[0], -1) # concatenate the vectors\n",
    "\n",
    "  # Linear layer\n",
    "  # In batchnorm paper the big insight was, if you'd like unit gaussian states in your network, at least in init, you can just normalize them to be gaussian\n",
    "  # let's standardize them\n",
    "\n",
    "  hpreact = embcat @ W1 + b1 # hidden layer pre-activation\n",
    "  hpreact = (hpreact - hpreact.mean(0, keepdim=True)) / hpreact.std(0, keepdim=True) # this is how you standardize them\n",
    "\n",
    "  # Non-linearity\n",
    "  h = torch.tanh(hpreact) # hidden layer\n",
    "  logits = h @ W2 + b2 # output layer\n",
    "  loss = F.cross_entropy(logits, Yb) # loss function\n",
    "  \n",
    "  # backward pass\n",
    "  for p in parameters:\n",
    "    p.grad = None\n",
    "  loss.backward()\n",
    "  \n",
    "  # update\n",
    "  learning_rate = 0.1 if i < 100000 else 0.01 # step learning rate decay\n",
    "  for p in parameters:\n",
    "    p.data += -learning_rate * p.grad\n",
    "\n",
    "  # track stats\n",
    "  if i % 10000 == 0: # print every once in a while\n",
    "    print(f'{i:7d}/{max_steps:7d}: {loss.item():.4f}')\n",
    "  lossi.append(loss.log10().item())\n"
   ]
  },
  {
   "cell_type": "code",
   "execution_count": 55,
   "metadata": {},
   "outputs": [
    {
     "name": "stdout",
     "output_type": "stream",
     "text": [
      "train 2.772512435913086\n",
      "validation 2.8000471591949463\n"
     ]
    }
   ],
   "source": [
    "@torch.no_grad() # this decorator disables gradient tracking\n",
    "def split_loss(split):\n",
    "  x, y = {\n",
    "    'train': (X_train, Y_train),\n",
    "    'validation': (X_dev, Y_dev),\n",
    "    'test': (X_test, Y_test),\n",
    "  }[split]\n",
    "  embeddings = C[x] # (N, block_size, n_embd)\n",
    "  embcat = embeddings.view(embeddings.shape[0], -1) # concat into (N, block_size * n_embd)\n",
    "  hpreact = embcat @ W1 + b1\n",
    "\n",
    "  h = torch.tanh(hpreact) # (N, n_hidden)\n",
    "  logits = h @ W2 + b2 # (N, vocab_size)\n",
    "  loss = F.cross_entropy(logits, y)\n",
    "  print(split, loss.item())\n",
    "\n",
    "split_loss('train')\n",
    "split_loss('validation')"
   ]
  },
  {
   "cell_type": "markdown",
   "metadata": {},
   "source": [
    "### Implement scale and shift\n"
   ]
  },
  {
   "cell_type": "code",
   "execution_count": 61,
   "metadata": {},
   "outputs": [
    {
     "name": "stdout",
     "output_type": "stream",
     "text": [
      "12297\n"
     ]
    }
   ],
   "source": [
    "# MLP revisited\n",
    "n_embd = 10 # the dimensionality of the character embedding vectors\n",
    "n_hidden = 200 # the number of neurons in the hidden layer of the MLP\n",
    "\n",
    "g = torch.Generator().manual_seed(2147483647) # for reproducibility\n",
    "C  = torch.randn((vocab_size, n_embd),            generator=g)\n",
    "W1 = torch.randn((n_embd * block_size, n_hidden), generator=g) * (5/3) / ((n_embd * block_size)**0.5) # tanh \n",
    "b1 = torch.randn(n_hidden,                        generator=g) * 0.01\n",
    "W2 = torch.randn((n_hidden, vocab_size),          generator=g) * 0.01 # we scale down W2, you don't want the hidden layers to be set to zero\n",
    "b2 = torch.randn(vocab_size,                      generator=g) * 0 # we basically want here the bias to be 0\n",
    "\n",
    "batch_norm_gain = torch.ones((1, n_hidden))\n",
    "batch_norm_bias = torch.zeros((1, n_hidden))\n",
    "\n",
    "parameters = [C, W1, b1, W2, b2, batch_norm_gain, batch_norm_bias]\n",
    "print(sum(p.nelement() for p in parameters)) # number of parameters in total\n",
    "for p in parameters:\n",
    "  p.requires_grad = True"
   ]
  },
  {
   "cell_type": "code",
   "execution_count": 58,
   "metadata": {},
   "outputs": [
    {
     "name": "stdout",
     "output_type": "stream",
     "text": [
      "tensor([[1., 1., 1., 1., 1., 1., 1., 1., 1., 1., 1., 1., 1., 1., 1., 1., 1., 1.,\n",
      "         1., 1., 1., 1., 1., 1., 1., 1., 1., 1., 1., 1., 1., 1., 1., 1., 1., 1.,\n",
      "         1., 1., 1., 1., 1., 1., 1., 1., 1., 1., 1., 1., 1., 1., 1., 1., 1., 1.,\n",
      "         1., 1., 1., 1., 1., 1., 1., 1., 1., 1., 1., 1., 1., 1., 1., 1., 1., 1.,\n",
      "         1., 1., 1., 1., 1., 1., 1., 1., 1., 1., 1., 1., 1., 1., 1., 1., 1., 1.,\n",
      "         1., 1., 1., 1., 1., 1., 1., 1., 1., 1., 1., 1., 1., 1., 1., 1., 1., 1.,\n",
      "         1., 1., 1., 1., 1., 1., 1., 1., 1., 1., 1., 1., 1., 1., 1., 1., 1., 1.,\n",
      "         1., 1., 1., 1., 1., 1., 1., 1., 1., 1., 1., 1., 1., 1., 1., 1., 1., 1.,\n",
      "         1., 1., 1., 1., 1., 1., 1., 1., 1., 1., 1., 1., 1., 1., 1., 1., 1., 1.,\n",
      "         1., 1., 1., 1., 1., 1., 1., 1., 1., 1., 1., 1., 1., 1., 1., 1., 1., 1.,\n",
      "         1., 1., 1., 1., 1., 1., 1., 1., 1., 1., 1., 1., 1., 1., 1., 1., 1., 1.,\n",
      "         1., 1.]])\n"
     ]
    },
    {
     "data": {
      "text/plain": [
       "torch.Size([1, 200])"
      ]
     },
     "execution_count": 58,
     "metadata": {},
     "output_type": "execute_result"
    }
   ],
   "source": [
    "print(batch_norm_gain)\n",
    "batch_norm_gain.shape"
   ]
  },
  {
   "cell_type": "code",
   "execution_count": 59,
   "metadata": {},
   "outputs": [
    {
     "data": {
      "text/plain": [
       "tensor([[0., 0., 0., 0., 0., 0., 0., 0., 0., 0., 0., 0., 0., 0., 0., 0., 0., 0., 0., 0., 0., 0., 0., 0.,\n",
       "         0., 0., 0., 0., 0., 0., 0., 0., 0., 0., 0., 0., 0., 0., 0., 0., 0., 0., 0., 0., 0., 0., 0., 0.,\n",
       "         0., 0., 0., 0., 0., 0., 0., 0., 0., 0., 0., 0., 0., 0., 0., 0., 0., 0., 0., 0., 0., 0., 0., 0.,\n",
       "         0., 0., 0., 0., 0., 0., 0., 0., 0., 0., 0., 0., 0., 0., 0., 0., 0., 0., 0., 0., 0., 0., 0., 0.,\n",
       "         0., 0., 0., 0., 0., 0., 0., 0., 0., 0., 0., 0., 0., 0., 0., 0., 0., 0., 0., 0., 0., 0., 0., 0.,\n",
       "         0., 0., 0., 0., 0., 0., 0., 0., 0., 0., 0., 0., 0., 0., 0., 0., 0., 0., 0., 0., 0., 0., 0., 0.,\n",
       "         0., 0., 0., 0., 0., 0., 0., 0., 0., 0., 0., 0., 0., 0., 0., 0., 0., 0., 0., 0., 0., 0., 0., 0.,\n",
       "         0., 0., 0., 0., 0., 0., 0., 0., 0., 0., 0., 0., 0., 0., 0., 0., 0., 0., 0., 0., 0., 0., 0., 0.,\n",
       "         0., 0., 0., 0., 0., 0., 0., 0.]])"
      ]
     },
     "execution_count": 59,
     "metadata": {},
     "output_type": "execute_result"
    }
   ],
   "source": [
    "batch_norm_bias"
   ]
  },
  {
   "cell_type": "code",
   "execution_count": 62,
   "metadata": {},
   "outputs": [
    {
     "name": "stdout",
     "output_type": "stream",
     "text": [
      "      0/ 200000: 3.3147\n",
      "  10000/ 200000: 2.1984\n",
      "  20000/ 200000: 2.3375\n",
      "  30000/ 200000: 2.4359\n",
      "  40000/ 200000: 2.0119\n",
      "  50000/ 200000: 2.2595\n",
      "  60000/ 200000: 2.4775\n",
      "  70000/ 200000: 2.1020\n",
      "  80000/ 200000: 2.2788\n",
      "  90000/ 200000: 2.1862\n",
      " 100000/ 200000: 1.9474\n",
      " 110000/ 200000: 2.3010\n",
      " 120000/ 200000: 1.9837\n",
      " 130000/ 200000: 2.4523\n",
      " 140000/ 200000: 2.3839\n",
      " 150000/ 200000: 2.1987\n",
      " 160000/ 200000: 1.9733\n",
      " 170000/ 200000: 1.8668\n",
      " 180000/ 200000: 1.9973\n",
      " 190000/ 200000: 1.8347\n"
     ]
    }
   ],
   "source": [
    "# how to fix this?\n",
    "max_steps = 200000\n",
    "batch_size = 32\n",
    "lossi = []\n",
    "\n",
    "for i in range(max_steps):\n",
    "  \n",
    "  # minibatch construct\n",
    "  ix = torch.randint(0, X_train.shape[0], (batch_size,), generator=g)\n",
    "  Xb, Yb = X_train[ix], Y_train[ix] # batch X,Y\n",
    "  \n",
    "  # forward pass\n",
    "  embeddings = C[Xb] # embed the characters into vectors\n",
    "  embcat = embeddings.view(embeddings.shape[0], -1) # concatenate the vectors\n",
    "\n",
    "  # Linear layer\n",
    "  # In batchnorm paper the big insight was, if you'd like unit gaussian states in your network, at least in init, you can just normalize them to be gaussian\n",
    "  # let's standardize them\n",
    "\n",
    "  hpreact = embcat @ W1 + b1 # hidden layer pre-activation\n",
    "  \n",
    "  # adding gain and bias will allow the initialization to be unit gaussian but then it allows it to be changed during optimization, allow back propagation and what it wants internally\n",
    "  hpreact = batch_norm_gain * (hpreact - hpreact.mean(0, keepdim=True)) / hpreact.std(0, keepdim=True) + batch_norm_bias # this is how you standardize them\n",
    "\n",
    "  # Non-linearity\n",
    "  h = torch.tanh(hpreact) # hidden layer\n",
    "  logits = h @ W2 + b2 # output layer\n",
    "  loss = F.cross_entropy(logits, Yb) # loss function\n",
    "  \n",
    "  # backward pass\n",
    "  for p in parameters:\n",
    "    p.grad = None\n",
    "  loss.backward()\n",
    "  \n",
    "  # update\n",
    "  learning_rate = 0.1 if i < 100000 else 0.01 # step learning rate decay\n",
    "  for p in parameters:\n",
    "    p.data += -learning_rate * p.grad\n",
    "\n",
    "  # track stats\n",
    "  if i % 10000 == 0: # print every once in a while\n",
    "    print(f'{i:7d}/{max_steps:7d}: {loss.item():.4f}')\n",
    "  lossi.append(loss.log10().item())\n"
   ]
  },
  {
   "cell_type": "code",
   "execution_count": 63,
   "metadata": {},
   "outputs": [
    {
     "data": {
      "text/plain": [
       "[<matplotlib.lines.Line2D at 0x7fa842acc700>]"
      ]
     },
     "execution_count": 63,
     "metadata": {},
     "output_type": "execute_result"
    },
    {
     "data": {
      "image/png": "[encoded data removed]",
      "text/plain": [
       "<Figure size 640x480 with 1 Axes>"
      ]
     },
     "metadata": {},
     "output_type": "display_data"
    }
   ],
   "source": [
    "plt.plot(lossi)"
   ]
  },
  {
   "cell_type": "code",
   "execution_count": 64,
   "metadata": {},
   "outputs": [
    {
     "name": "stdout",
     "output_type": "stream",
     "text": [
      "train 2.0668270587921143\n",
      "validation 2.104844808578491\n"
     ]
    }
   ],
   "source": [
    "@torch.no_grad() # this decorator disables gradient tracking\n",
    "def split_loss(split):\n",
    "  x, y = {\n",
    "    'train': (X_train, Y_train),\n",
    "    'validation': (X_dev, Y_dev),\n",
    "    'test': (X_test, Y_test),\n",
    "  }[split]\n",
    "  embeddings = C[x] # (N, block_size, n_embd)\n",
    "  embcat = embeddings.view(embeddings.shape[0], -1) # concat into (N, block_size * n_embd)\n",
    "  hpreact = embcat @ W1 + b1\n",
    "  hpreact = batch_norm_gain * (hpreact - hpreact.mean(0, keepdim=True)) / hpreact.std(0, keepdim=True) + batch_norm_bias # this is how you standardize them\n",
    "\n",
    "  h = torch.tanh(hpreact) # (N, n_hidden)\n",
    "  logits = h @ W2 + b2 # (N, vocab_size)\n",
    "  loss = F.cross_entropy(logits, y)\n",
    "  print(split, loss.item())\n",
    "\n",
    "split_loss('train')\n",
    "split_loss('validation')"
   ]
  },
  {
   "cell_type": "markdown",
   "metadata": {},
   "source": [
    "we are dealing with a very simple neural net that has just a single hidden layer <br>\n",
    "this is a simple case but you can imagine that if we have a deeper neural net that has lots of different types of operations (for example residual connections) <br>\n",
    "it will become basically very very difficult to tune those scales of your weight matrices such that all the activations throughout the neural nets are roughly gaussian <br>\n",
    "but it will be much much easier to sprinkle batch normalization layers throught the neural net <br>\n",
    "\n",
    "now the stability offered by batch normalization actually comes at a terrible cost <br>\n",
    "and that cost is that if you think about what's happening here something terribly strange and unnatural is happening <br>\n",
    "it used to be that we have a single example feeding into a neural net and then we calculate activations and its logits (deterministic sort of process). <br>\n",
    "Those batches of examples were processed independently and it was just an efficiency thing, but now suddenly in batch normalization <br>\n",
    "because of the normalization through the batch, we are coupling these examples mathematically and in the forward pass and the backward pass of the neural net <br>\n",
    "so now the hidden state activations, hpreact, and logits, for any one input example, are not just a function of that example and its input, <br>\n",
    "but they're also a function of all the other examples that happen to come for a ride in that batch and these examples are sampled randomly. <br>\n",
    "\n",
    "There's jitter for h and logits, but it's a good thing for training (it has this regularizing effect) <br>\n",
    "and for this reason, people have tried to get rid of it and use something else like: layer norm, instance norm, group norm."
   ]
  },
  {
   "cell_type": "code",
   "execution_count": 65,
   "metadata": {},
   "outputs": [
    {
     "name": "stdout",
     "output_type": "stream",
     "text": [
      "12297\n"
     ]
    }
   ],
   "source": [
    "# How do we do inference now?\n",
    "# NN expects batches as input now, how do we feed a single example and get a result?\n",
    "\n",
    "# MLP revisited\n",
    "n_embd = 10 # the dimensionality of the character embedding vectors\n",
    "n_hidden = 200 # the number of neurons in the hidden layer of the MLP\n",
    "\n",
    "g = torch.Generator().manual_seed(2147483647) # for reproducibility\n",
    "C  = torch.randn((vocab_size, n_embd),            generator=g)\n",
    "W1 = torch.randn((n_embd * block_size, n_hidden), generator=g) * (5/3) / ((n_embd * block_size)**0.5) # tanh \n",
    "b1 = torch.randn(n_hidden,                        generator=g) * 0.01\n",
    "W2 = torch.randn((n_hidden, vocab_size),          generator=g) * 0.01 # we scale down W2, you don't want the hidden layers to be set to zero\n",
    "b2 = torch.randn(vocab_size,                      generator=g) * 0 # we basically want here the bias to be 0\n",
    "\n",
    "batch_norm_gain = torch.ones((1, n_hidden))\n",
    "batch_norm_bias = torch.zeros((1, n_hidden))\n",
    "\n",
    "parameters = [C, W1, b1, W2, b2, batch_norm_gain, batch_norm_bias]\n",
    "print(sum(p.nelement() for p in parameters)) # number of parameters in total\n",
    "for p in parameters:\n",
    "  p.requires_grad = True"
   ]
  },
  {
   "cell_type": "code",
   "execution_count": 66,
   "metadata": {},
   "outputs": [
    {
     "name": "stdout",
     "output_type": "stream",
     "text": [
      "      0/ 200000: 3.3147\n",
      "  10000/ 200000: 2.1984\n",
      "  20000/ 200000: 2.3375\n",
      "  30000/ 200000: 2.4359\n",
      "  40000/ 200000: 2.0119\n",
      "  50000/ 200000: 2.2595\n",
      "  60000/ 200000: 2.4775\n",
      "  70000/ 200000: 2.1020\n",
      "  80000/ 200000: 2.2788\n",
      "  90000/ 200000: 2.1862\n",
      " 100000/ 200000: 1.9474\n",
      " 110000/ 200000: 2.3010\n",
      " 120000/ 200000: 1.9837\n",
      " 130000/ 200000: 2.4523\n",
      " 140000/ 200000: 2.3839\n",
      " 150000/ 200000: 2.1987\n",
      " 160000/ 200000: 1.9733\n",
      " 170000/ 200000: 1.8668\n",
      " 180000/ 200000: 1.9973\n",
      " 190000/ 200000: 1.8347\n"
     ]
    }
   ],
   "source": [
    "max_steps = 200000\n",
    "batch_size = 32\n",
    "lossi = []\n",
    "\n",
    "for i in range(max_steps):\n",
    "  \n",
    "  # minibatch construct\n",
    "  ix = torch.randint(0, X_train.shape[0], (batch_size,), generator=g)\n",
    "  Xb, Yb = X_train[ix], Y_train[ix] # batch X,Y\n",
    "  \n",
    "  # forward pass\n",
    "  embeddings = C[Xb] # embed the characters into vectors\n",
    "  embcat = embeddings.view(embeddings.shape[0], -1) # concatenate the vectors\n",
    "\n",
    "  # Linear layer\n",
    "  # In batchnorm paper the big insight was, if you'd like unit gaussian states in your network, at least in init, you can just normalize them to be gaussian\n",
    "  # let's standardize them\n",
    "\n",
    "  hpreact = embcat @ W1 + b1 # hidden layer pre-activation\n",
    "  \n",
    "  # adding gain and bias will allow the initialization to be unit gaussian but then it allows it to be changed during optimization, allow back propagation and what it wants internally\n",
    "  hpreact = batch_norm_gain * (hpreact - hpreact.mean(0, keepdim=True)) / hpreact.std(0, keepdim=True) + batch_norm_bias # this is how you standardize them\n",
    "\n",
    "  # Non-linearity\n",
    "  h = torch.tanh(hpreact) # hidden layer\n",
    "  logits = h @ W2 + b2 # output layer\n",
    "  loss = F.cross_entropy(logits, Yb) # loss function\n",
    "  \n",
    "  # backward pass\n",
    "  for p in parameters:\n",
    "    p.grad = None\n",
    "  loss.backward()\n",
    "  \n",
    "  # update\n",
    "  learning_rate = 0.1 if i < 100000 else 0.01 # step learning rate decay\n",
    "  for p in parameters:\n",
    "    p.data += -learning_rate * p.grad\n",
    "\n",
    "  # track stats\n",
    "  if i % 10000 == 0: # print every once in a while\n",
    "    print(f'{i:7d}/{max_steps:7d}: {loss.item():.4f}')\n",
    "  lossi.append(loss.log10().item())"
   ]
  },
  {
   "cell_type": "code",
   "execution_count": 67,
   "metadata": {},
   "outputs": [
    {
     "data": {
      "text/plain": [
       "[<matplotlib.lines.Line2D at 0x7fa7fe318400>]"
      ]
     },
     "execution_count": 67,
     "metadata": {},
     "output_type": "execute_result"
    },
    {
     "data": {
      "image/png": "[encoded data removed]",
      "text/plain": [
       "<Figure size 640x480 with 1 Axes>"
      ]
     },
     "metadata": {},
     "output_type": "display_data"
    }
   ],
   "source": [
    "plt.plot(lossi)"
   ]
  },
  {
   "cell_type": "code",
   "execution_count": 68,
   "metadata": {},
   "outputs": [],
   "source": [
    "# calibrate the batch norm statistics at the end of training\n",
    "\n",
    "with torch.no_grad():\n",
    "    # pass the trainign set through\n",
    "    embeddings = C[X_train]\n",
    "    embcat = embeddings.view(embeddings.shape[0], -1)\n",
    "    hpreact = embcat @ W1 + b1\n",
    "\n",
    "    # measure the mean/std estimating over the entire training set\n",
    "    batch_norm_mean = hpreact.mean(0, keepdim=True)\n",
    "    batch_norm_std = hpreact.std(0, keepdim=True)"
   ]
  },
  {
   "cell_type": "code",
   "execution_count": 69,
   "metadata": {},
   "outputs": [
    {
     "name": "stdout",
     "output_type": "stream",
     "text": [
      "train 2.0668270587921143\n",
      "validation 2.104926824569702\n"
     ]
    }
   ],
   "source": [
    "@torch.no_grad() # this decorator disables gradient tracking\n",
    "def split_loss(split):\n",
    "  x, y = {\n",
    "    'train': (X_train, Y_train),\n",
    "    'validation': (X_dev, Y_dev),\n",
    "    'test': (X_test, Y_test),\n",
    "  }[split]\n",
    "  embeddings = C[x] # (N, block_size, n_embd)\n",
    "  embcat = embeddings.view(embeddings.shape[0], -1) # concat into (N, block_size * n_embd)\n",
    "  hpreact = embcat @ W1 + b1\n",
    "  # hpreact = batch_norm_gain * (hpreact - hpreact.mean(0, keepdim=True)) / hpreact.std(0, keepdim=True) + batch_norm_bias # instead of doing this dynamically\n",
    "  hpreact = batch_norm_gain * (hpreact - batch_norm_mean) / batch_norm_std + batch_norm_bias\n",
    "\n",
    "  h = torch.tanh(hpreact) # (N, n_hidden)\n",
    "  logits = h @ W2 + b2 # (N, vocab_size)\n",
    "  loss = F.cross_entropy(logits, y)\n",
    "  print(split, loss.item())\n",
    "\n",
    "split_loss('train')\n",
    "split_loss('validation')"
   ]
  },
  {
   "cell_type": "markdown",
   "metadata": {},
   "source": [
    "Now let's include that second stage into the actual training loop to estimate the mean and std during training."
   ]
  },
  {
   "cell_type": "code",
   "execution_count": 71,
   "metadata": {},
   "outputs": [
    {
     "name": "stdout",
     "output_type": "stream",
     "text": [
      "12297\n"
     ]
    }
   ],
   "source": [
    "n_embd = 10 # the dimensionality of the character embedding vectors\n",
    "n_hidden = 200 # the number of neurons in the hidden layer of the MLP\n",
    "\n",
    "g = torch.Generator().manual_seed(2147483647) # for reproducibility\n",
    "C  = torch.randn((vocab_size, n_embd),            generator=g)\n",
    "W1 = torch.randn((n_embd * block_size, n_hidden), generator=g) * (5/3) / ((n_embd * block_size)**0.5) # tanh \n",
    "b1 = torch.randn(n_hidden,                        generator=g) * 0.01\n",
    "W2 = torch.randn((n_hidden, vocab_size),          generator=g) * 0.01 # we scale down W2, you don't want the hidden layers to be set to zero\n",
    "b2 = torch.randn(vocab_size,                      generator=g) * 0 # we basically want here the bias to be 0\n",
    "\n",
    "batch_norm_gain = torch.ones((1, n_hidden))\n",
    "batch_norm_bias = torch.zeros((1, n_hidden))\n",
    "\n",
    "# these will be update during training, but on the side of training\n",
    "batch_norm_mean_running = torch.zeros((1, n_hidden)) \n",
    "batch_norm_std_running = torch.ones((1, n_hidden))\n",
    "\n",
    "parameters = [C, W1, b1, W2, b2, batch_norm_gain, batch_norm_bias]\n",
    "print(sum(p.nelement() for p in parameters)) # number of parameters in total\n",
    "for p in parameters:\n",
    "  p.requires_grad = True"
   ]
  },
  {
   "cell_type": "code",
   "execution_count": 72,
   "metadata": {},
   "outputs": [
    {
     "name": "stdout",
     "output_type": "stream",
     "text": [
      "      0/ 200000: 3.3147\n",
      "  10000/ 200000: 2.1984\n",
      "  20000/ 200000: 2.3375\n",
      "  30000/ 200000: 2.4359\n",
      "  40000/ 200000: 2.0119\n",
      "  50000/ 200000: 2.2595\n",
      "  60000/ 200000: 2.4775\n",
      "  70000/ 200000: 2.1020\n",
      "  80000/ 200000: 2.2788\n",
      "  90000/ 200000: 2.1862\n",
      " 100000/ 200000: 1.9474\n",
      " 110000/ 200000: 2.3010\n",
      " 120000/ 200000: 1.9837\n",
      " 130000/ 200000: 2.4523\n",
      " 140000/ 200000: 2.3839\n",
      " 150000/ 200000: 2.1987\n",
      " 160000/ 200000: 1.9733\n",
      " 170000/ 200000: 1.8668\n",
      " 180000/ 200000: 1.9973\n",
      " 190000/ 200000: 1.8347\n"
     ]
    }
   ],
   "source": [
    "max_steps = 200000\n",
    "batch_size = 32\n",
    "lossi = []\n",
    "\n",
    "for i in range(max_steps):\n",
    "  \n",
    "  # minibatch construct\n",
    "  ix = torch.randint(0, X_train.shape[0], (batch_size,), generator=g)\n",
    "  Xb, Yb = X_train[ix], Y_train[ix] # batch X,Y\n",
    "  \n",
    "  # forward pass\n",
    "  embeddings = C[Xb] # embed the characters into vectors\n",
    "  embcat = embeddings.view(embeddings.shape[0], -1) # concatenate the vectors\n",
    "\n",
    "  # Linear layer\n",
    "  # In batchnorm paper the big insight was, if you'd like unit gaussian states in your network, at least in init, you can just normalize them to be gaussian\n",
    "  # let's standardize them\n",
    "\n",
    "  hpreact = embcat @ W1 + b1 # hidden layer pre-activation\n",
    "  \n",
    "  # adding gain and bias will allow the initialization to be unit gaussian but then it allows it to be changed during optimization, allow back propagation and what it wants internally\n",
    "  # includes now the calibration of the batch norm statistics\n",
    "  epsilon = 1e-5 # here this won't actually substancially change the result, but it's from the paper\n",
    "  batch_norm_mean_i = hpreact.mean(0, keepdim=True)\n",
    "  batch_norm_std_i = hpreact.std(0, keepdim=True)\n",
    "  hpreact = batch_norm_gain * (hpreact - batch_norm_mean_i) / batch_norm_std_i + epsilon + batch_norm_bias # this is how you standardize them, you can also add a small epsilon of 1e-5\n",
    "\n",
    "  with torch.no_grad():\n",
    "    batch_norm_mean_running = 0.999 * batch_norm_mean_running + 0.001 * batch_norm_mean_i\n",
    "    batch_norm_std_running = 0.999 * batch_norm_std_running + 0.001 * batch_norm_std_i\n",
    "\n",
    "  # Non-linearity\n",
    "  h = torch.tanh(hpreact) # hidden layer\n",
    "  logits = h @ W2 + b2 # output layer\n",
    "  loss = F.cross_entropy(logits, Yb) # loss function\n",
    "  \n",
    "  # backward pass\n",
    "  for p in parameters:\n",
    "    p.grad = None\n",
    "  loss.backward()\n",
    "  \n",
    "  # update\n",
    "  learning_rate = 0.1 if i < 100000 else 0.01 # step learning rate decay\n",
    "  for p in parameters:\n",
    "    p.data += -learning_rate * p.grad\n",
    "\n",
    "  # track stats\n",
    "  if i % 10000 == 0: # print every once in a while\n",
    "    print(f'{i:7d}/{max_steps:7d}: {loss.item():.4f}')\n",
    "  lossi.append(loss.log10().item())"
   ]
  },
  {
   "cell_type": "code",
   "execution_count": 73,
   "metadata": {},
   "outputs": [
    {
     "data": {
      "text/plain": [
       "[<matplotlib.lines.Line2D at 0x7fa7fe332470>]"
      ]
     },
     "execution_count": 73,
     "metadata": {},
     "output_type": "execute_result"
    },
    {
     "data": {
      "image/png": "[encoded data removed]",
      "text/plain": [
       "<Figure size 640x480 with 1 Axes>"
      ]
     },
     "metadata": {},
     "output_type": "display_data"
    }
   ],
   "source": [
    "plt.plot(lossi)"
   ]
  },
  {
   "cell_type": "code",
   "execution_count": 75,
   "metadata": {},
   "outputs": [
    {
     "name": "stdout",
     "output_type": "stream",
     "text": [
      "train 2.06659197807312\n",
      "validation 2.1050572395324707\n"
     ]
    }
   ],
   "source": [
    "@torch.no_grad() # this decorator disables gradient tracking\n",
    "def split_loss(split):\n",
    "  x, y = {\n",
    "    'train': (X_train, Y_train),\n",
    "    'validation': (X_dev, Y_dev),\n",
    "    'test': (X_test, Y_test),\n",
    "  }[split]\n",
    "  embeddings = C[x] # (N, block_size, n_embd)\n",
    "  embcat = embeddings.view(embeddings.shape[0], -1) # concat into (N, block_size * n_embd)\n",
    "  hpreact = embcat @ W1 + b1\n",
    "  # hpreact = batch_norm_gain * (hpreact - hpreact.mean(0, keepdim=True)) / hpreact.std(0, keepdim=True) + batch_norm_bias # instead of doing this dynamically\n",
    "  # hpreact = batch_norm_gain * (hpreact - batch_norm_mean) / batch_norm_std + batch_norm_bias\n",
    "  hpreact = batch_norm_gain * (hpreact - batch_norm_mean_running) / batch_norm_std_running + batch_norm_bias\n",
    "  h = torch.tanh(hpreact) # (N, n_hidden)\n",
    "  logits = h @ W2 + b2 # (N, vocab_size)\n",
    "  loss = F.cross_entropy(logits, y)\n",
    "  print(split, loss.item())\n",
    "\n",
    "split_loss('train')\n",
    "split_loss('validation')"
   ]
  },
  {
   "cell_type": "markdown",
   "metadata": {},
   "source": [
    "One more last remark,\n",
    "biases don't do anything here"
   ]
  },
  {
   "cell_type": "code",
   "execution_count": 81,
   "metadata": {},
   "outputs": [
    {
     "name": "stdout",
     "output_type": "stream",
     "text": [
      "1e-05\n"
     ]
    }
   ],
   "source": [
    "# disabled b1\n",
    "n_embd = 10 # the dimensionality of the character embedding vectors\n",
    "n_hidden = 200 # the number of neurons in the hidden layer of the MLP\n",
    "\n",
    "g = torch.Generator().manual_seed(2147483647) # for reproducibility\n",
    "C  = torch.randn((vocab_size, n_embd),            generator=g)\n",
    "W1 = torch.randn((n_embd * block_size, n_hidden), generator=g) * (5/3) / ((n_embd * block_size)**0.5) # tanh \n",
    "#b1 = torch.randn(n_hidden,                        generator=g) * 0.01\n",
    "W2 = torch.randn((n_hidden, vocab_size),          generator=g) * 0.01 # we scale down W2, you don't want the hidden layers to be set to zero\n",
    "b2 = torch.randn(vocab_size,                      generator=g) * 0 # we basically want here the bias to be 0\n",
    "\n",
    "batch_norm_gain = torch.ones((1, n_hidden))\n",
    "batch_norm_bias = torch.zeros((1, n_hidden))\n",
    "\n",
    "# these will be update during training, but on the side of training, so no grad\n",
    "batch_norm_mean_running = torch.zeros((1, n_hidden)) # \n",
    "batch_norm_std_running = torch.ones((1, n_hidden))\n",
    "\n",
    "parameters = [C, W1, W2, b2, batch_norm_gain, batch_norm_bias]\n",
    "print(sum(p.nelement() for p in parameters)) # number of parameters in total\n",
    "for p in parameters:\n",
    "  p.requires_grad = True"
   ]
  },
  {
   "cell_type": "code",
   "execution_count": null,
   "metadata": {},
   "outputs": [],
   "source": [
    "# disabled b1\n",
    "max_steps = 200000\n",
    "batch_size = 32\n",
    "lossi = []\n",
    "\n",
    "for i in range(max_steps):\n",
    "  \n",
    "  # minibatch construct\n",
    "  ix = torch.randint(0, X_train.shape[0], (batch_size,), generator=g)\n",
    "  Xb, Yb = X_train[ix], Y_train[ix] # batch X,Y\n",
    "  \n",
    "  # forward pass\n",
    "  embeddings = C[Xb] # embed the characters into vectors\n",
    "  embcat = embeddings.view(embeddings.shape[0], -1) # concatenate the vectors\n",
    "\n",
    "  # Linear layer\n",
    "  # torch.nn.Linear\n",
    "  hpreact = embcat @ W1 # + b1 # hidden layer pre-activation\n",
    "  \n",
    "  # BatchNorm Layer\n",
    "  # torch.nn.BatchNorm1D\n",
    "  # no one likes this layer, it causes a huge amount of bugs, intuitively, because it is coupling examples in the forward pass of a neural network\n",
    "  epsilon = 1e-5 # here this won't actually substantially change the result, but it's from the paper\n",
    "  batch_norm_mean_i = hpreact.mean(0, keepdim=True)\n",
    "  batch_norm_std_i = hpreact.std(0, keepdim=True)\n",
    "  hpreact = batch_norm_gain * (hpreact - batch_norm_mean_i) / batch_norm_std_i + epsilon + batch_norm_bias # this is how you standardize them, you can also add a small epsilon of 1e-5\n",
    "\n",
    "  with torch.no_grad():\n",
    "    batch_norm_mean_running = 0.999 * batch_norm_mean_running + 0.001 * batch_norm_mean_i\n",
    "    batch_norm_std_running = 0.999 * batch_norm_std_running + 0.001 * batch_norm_std_i\n",
    "\n",
    "  # Non-linearity\n",
    "  h = torch.tanh(hpreact) # hidden layer\n",
    "  logits = h @ W2 + b2 # output layer\n",
    "  loss = F.cross_entropy(logits, Yb) # loss function\n",
    "  \n",
    "  # backward pass\n",
    "  for p in parameters:\n",
    "    p.grad = None\n",
    "  loss.backward()\n",
    "  \n",
    "  # update\n",
    "  learning_rate = 0.1 if i < 100000 else 0.01 # step learning rate decay\n",
    "  for p in parameters:\n",
    "    p.data += -learning_rate * p.grad\n",
    "\n",
    "  # track stats\n",
    "  if i % 10000 == 0: # print every once in a while\n",
    "    print(f'{i:7d}/{max_steps:7d}: {loss.item():.4f}')\n",
    "  lossi.append(loss.log10().item())"
   ]
  },
  {
   "cell_type": "markdown",
   "metadata": {},
   "source": [
    "## Torchfying"
   ]
  },
  {
   "cell_type": "markdown",
   "metadata": {},
   "source": []
  }
 ],
 "metadata": {
  "kernelspec": {
   "display_name": "mlp-crlRM3oL-py3.10",
   "language": "python",
   "name": "python3"
  },
  "language_info": {
   "codemirror_mode": {
    "name": "ipython",
    "version": 3
   },
   "file_extension": ".py",
   "mimetype": "text/x-python",
   "name": "python",
   "nbconvert_exporter": "python",
   "pygments_lexer": "ipython3",
   "version": "3.10.12"
  }
 },
 "nbformat": 4,
 "nbformat_minor": 2
}
