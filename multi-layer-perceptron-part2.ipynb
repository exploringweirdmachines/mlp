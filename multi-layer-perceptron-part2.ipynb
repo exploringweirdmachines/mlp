{
 "cells": [
  {
   "cell_type": "markdown",
   "metadata": {},
   "source": [
    "# SECOND VIDEO STARTS HERE\n",
    "https://www.youtube.com/watch?v=TCH_1BHY58I"
   ]
  },
  {
   "cell_type": "markdown",
   "metadata": {},
   "source": [
    "## Now let's try to predict more than one character"
   ]
  },
  {
   "cell_type": "markdown",
   "metadata": {},
   "source": [
    "Next character in a sequence quickly blow up, the table size of counts table grows exponentially, if we only take a single character at a time, that's 27 posibilities, but if we take 2 characters and try to predict the next one, then 27 x 27, there's 729 posibilities, then if we take into context three chars, then suddenly we have 20000 posibilities, so there's way just too many rows of the matrix N, and doesn't work very well."
   ]
  },
  {
   "cell_type": "code",
   "execution_count": 13,
   "metadata": {},
   "outputs": [],
   "source": [
    "import torch\n",
    "import torch.nn.functional as F\n",
    "import matplotlib.pyplot as plt\n",
    "%matplotlib inline"
   ]
  },
  {
   "cell_type": "code",
   "execution_count": 14,
   "metadata": {},
   "outputs": [
    {
     "data": {
      "text/plain": [
       "['emma', 'olivia', 'ava', 'isabella', 'sophia', 'charlotte', 'mia', 'amelia']"
      ]
     },
     "execution_count": 14,
     "metadata": {},
     "output_type": "execute_result"
    }
   ],
   "source": [
    "words = open(\"names.txt\", 'r').read().splitlines()\n",
    "words[:8]"
   ]
  },
  {
   "cell_type": "code",
   "execution_count": 15,
   "metadata": {},
   "outputs": [
    {
     "data": {
      "text/plain": [
       "32033"
      ]
     },
     "execution_count": 15,
     "metadata": {},
     "output_type": "execute_result"
    }
   ],
   "source": [
    "len(words)"
   ]
  },
  {
   "cell_type": "code",
   "execution_count": 16,
   "metadata": {},
   "outputs": [
    {
     "data": {
      "text/plain": [
       "{1: 'a',\n",
       " 2: 'b',\n",
       " 3: 'c',\n",
       " 4: 'd',\n",
       " 5: 'e',\n",
       " 6: 'f',\n",
       " 7: 'g',\n",
       " 8: 'h',\n",
       " 9: 'i',\n",
       " 10: 'j',\n",
       " 11: 'k',\n",
       " 12: 'l',\n",
       " 13: 'm',\n",
       " 14: 'n',\n",
       " 15: 'o',\n",
       " 16: 'p',\n",
       " 17: 'q',\n",
       " 18: 'r',\n",
       " 19: 's',\n",
       " 20: 't',\n",
       " 21: 'u',\n",
       " 22: 'v',\n",
       " 23: 'w',\n",
       " 24: 'x',\n",
       " 25: 'y',\n",
       " 26: 'z',\n",
       " 0: '.'}"
      ]
     },
     "execution_count": 16,
     "metadata": {},
     "output_type": "execute_result"
    }
   ],
   "source": [
    "# build the vocabulary of characters and mappings to/from integers\n",
    "\n",
    "chars = sorted(list(set(''.join(words))))\n",
    "stoi = {s:i+1 for i,s in enumerate(chars)}\n",
    "stoi['.'] = 0\n",
    "itos = {i:s for s,i in stoi.items()}\n",
    "itos"
   ]
  },
  {
   "cell_type": "code",
   "execution_count": 17,
   "metadata": {},
   "outputs": [
    {
     "name": "stdout",
     "output_type": "stream",
     "text": [
      "emma\n",
      "... ----> e\n",
      "..e ----> m\n",
      ".em ----> m\n",
      "emm ----> a\n",
      "mma ----> .\n",
      "olivia\n",
      "... ----> o\n",
      "..o ----> l\n",
      ".ol ----> i\n",
      "oli ----> v\n",
      "liv ----> i\n",
      "ivi ----> a\n",
      "via ----> .\n",
      "ava\n",
      "... ----> a\n",
      "..a ----> v\n",
      ".av ----> a\n",
      "ava ----> .\n",
      "isabella\n",
      "... ----> i\n",
      "..i ----> s\n",
      ".is ----> a\n",
      "isa ----> b\n",
      "sab ----> e\n",
      "abe ----> l\n",
      "bel ----> l\n",
      "ell ----> a\n",
      "lla ----> .\n",
      "sophia\n",
      "... ----> s\n",
      "..s ----> o\n",
      ".so ----> p\n",
      "sop ----> h\n",
      "oph ----> i\n",
      "phi ----> a\n",
      "hia ----> .\n"
     ]
    }
   ],
   "source": [
    "# build the dataset\n",
    "\n",
    "block_size = 3 # context length: how many characters do we take to predict the next one\n",
    "X, Y = [], []\n",
    "\n",
    "for w in words[:5]:\n",
    "    print(w)\n",
    "    context = [0] * block_size\n",
    "\n",
    "    for ch in w + '.':\n",
    "        ix = stoi[ch]\n",
    "        X.append(context)\n",
    "        Y.append(ix)\n",
    "        print(''.join(itos[i] for i in context), '---->', itos[ix])\n",
    "        context = context[1:] + [ix] # crop and append\n",
    "\n",
    "X = torch.tensor(X)\n",
    "Y = torch.tensor(Y)\n",
    "# this is kind of like a rolling window of context\n"
   ]
  },
  {
   "cell_type": "code",
   "execution_count": 18,
   "metadata": {},
   "outputs": [
    {
     "data": {
      "text/plain": [
       "(torch.Size([32, 3]), torch.int64, torch.Size([32]), torch.int64)"
      ]
     },
     "execution_count": 18,
     "metadata": {},
     "output_type": "execute_result"
    }
   ],
   "source": [
    "X.shape, X.dtype, Y.shape, Y.dtype"
   ]
  },
  {
   "cell_type": "code",
   "execution_count": 19,
   "metadata": {},
   "outputs": [
    {
     "name": "stderr",
     "output_type": "stream",
     "text": [
      "/tmp/ipykernel_50797/871842550.py:3: UserWarning: Named tensors and all their associated APIs are an experimental feature and subject to change. Please do not use them for anything important until they are released as stable. (Triggered internally at ../c10/core/TensorImpl.h:1900.)\n",
      "  C = torch.randn((27, 2), names=[\"characters\", \"embeddings_2D\"])\n"
     ]
    },
    {
     "data": {
      "text/plain": [
       "tensor([[ 1.1648, -0.1378],\n",
       "        [ 1.7277,  1.8922],\n",
       "        [ 1.4556,  0.9094],\n",
       "        [-0.8434, -1.8390],\n",
       "        [ 0.1272,  1.5051],\n",
       "        [-0.2540,  1.5209],\n",
       "        [-0.3342,  0.4010],\n",
       "        [ 0.7950, -0.3917],\n",
       "        [ 0.2725, -0.7805],\n",
       "        [ 0.5074, -0.2264],\n",
       "        [-0.5915,  0.1337],\n",
       "        [-0.2139,  0.3216],\n",
       "        [ 0.0087,  0.0958],\n",
       "        [-0.3569,  0.8148],\n",
       "        [ 1.9910, -0.1962],\n",
       "        [ 0.6446, -0.1950],\n",
       "        [ 1.9922, -0.5181],\n",
       "        [-0.0569,  0.8269],\n",
       "        [-1.3216, -0.6827],\n",
       "        [ 0.1031,  0.8188],\n",
       "        [-0.4455, -0.9279],\n",
       "        [ 0.7379, -0.6009],\n",
       "        [-0.3339, -2.4705],\n",
       "        [ 1.0739, -1.0943],\n",
       "        [ 1.1200,  1.9541],\n",
       "        [ 0.3015, -0.7300],\n",
       "        [-0.5678,  0.1848]], names=('characters', 'embeddings_2D'))"
      ]
     },
     "execution_count": 19,
     "metadata": {},
     "output_type": "execute_result"
    }
   ],
   "source": [
    "# Let's cram the 27 possible characters into a two-dimensional space\n",
    "\n",
    "C = torch.randn((27, 2), names=[\"characters\", \"embeddings_2D\"])\n",
    "C"
   ]
  },
  {
   "cell_type": "code",
   "execution_count": 20,
   "metadata": {},
   "outputs": [
    {
     "data": {
      "text/plain": [
       "tensor([-0.2540,  1.5209], names=('embeddings_2D',))"
      ]
     },
     "execution_count": 20,
     "metadata": {},
     "output_type": "execute_result"
    }
   ],
   "source": [
    "# let's encode number 5, plucking out the sixth entry\n",
    "C[5]"
   ]
  },
  {
   "cell_type": "code",
   "execution_count": 21,
   "metadata": {},
   "outputs": [
    {
     "data": {
      "text/plain": [
       "tensor([-0.2540,  1.5209], names=('embeddings_2D',))"
      ]
     },
     "execution_count": 21,
     "metadata": {},
     "output_type": "execute_result"
    }
   ],
   "source": [
    "F.one_hot(torch.tensor(5), num_classes=27).float() @ C"
   ]
  },
  {
   "cell_type": "code",
   "execution_count": 22,
   "metadata": {},
   "outputs": [
    {
     "data": {
      "text/plain": [
       "tensor([[-0.2540,  1.5209],\n",
       "        [-0.3342,  0.4010],\n",
       "        [ 0.7950, -0.3917]])"
      ]
     },
     "execution_count": 22,
     "metadata": {},
     "output_type": "execute_result"
    }
   ],
   "source": [
    "C = C.rename(None)\n",
    "C[[5, 6, 7]].rename(None)"
   ]
  },
  {
   "cell_type": "code",
   "execution_count": 23,
   "metadata": {},
   "outputs": [
    {
     "data": {
      "text/plain": [
       "tensor([[-0.2540,  1.5209],\n",
       "        [-0.3342,  0.4010],\n",
       "        [ 0.7950, -0.3917]])"
      ]
     },
     "execution_count": 23,
     "metadata": {},
     "output_type": "execute_result"
    }
   ],
   "source": [
    "C[torch.tensor([5, 6, 7])]"
   ]
  },
  {
   "cell_type": "code",
   "execution_count": 24,
   "metadata": {},
   "outputs": [
    {
     "data": {
      "text/plain": [
       "tensor([[-0.2540,  1.5209],\n",
       "        [-0.3342,  0.4010],\n",
       "        [ 0.7950, -0.3917],\n",
       "        [ 0.7950, -0.3917],\n",
       "        [ 0.7950, -0.3917],\n",
       "        [ 0.7950, -0.3917]])"
      ]
     },
     "execution_count": 24,
     "metadata": {},
     "output_type": "execute_result"
    }
   ],
   "source": [
    "C[torch.tensor([5, 6, 7, 7, 7, 7])]"
   ]
  },
  {
   "cell_type": "code",
   "execution_count": 25,
   "metadata": {},
   "outputs": [
    {
     "data": {
      "text/plain": [
       "torch.Size([32, 3, 2])"
      ]
     },
     "execution_count": 25,
     "metadata": {},
     "output_type": "execute_result"
    }
   ],
   "source": [
    "# torch indexing is awesome\n",
    "C[X].shape"
   ]
  },
  {
   "cell_type": "code",
   "execution_count": 26,
   "metadata": {},
   "outputs": [
    {
     "data": {
      "text/plain": [
       "tensor([[ 0,  0,  0],\n",
       "        [ 0,  0,  5],\n",
       "        [ 0,  5, 13],\n",
       "        [ 5, 13, 13],\n",
       "        [13, 13,  1],\n",
       "        [ 0,  0,  0],\n",
       "        [ 0,  0, 15],\n",
       "        [ 0, 15, 12],\n",
       "        [15, 12,  9],\n",
       "        [12,  9, 22],\n",
       "        [ 9, 22,  9],\n",
       "        [22,  9,  1],\n",
       "        [ 0,  0,  0],\n",
       "        [ 0,  0,  1],\n",
       "        [ 0,  1, 22],\n",
       "        [ 1, 22,  1],\n",
       "        [ 0,  0,  0],\n",
       "        [ 0,  0,  9],\n",
       "        [ 0,  9, 19],\n",
       "        [ 9, 19,  1],\n",
       "        [19,  1,  2],\n",
       "        [ 1,  2,  5],\n",
       "        [ 2,  5, 12],\n",
       "        [ 5, 12, 12],\n",
       "        [12, 12,  1],\n",
       "        [ 0,  0,  0],\n",
       "        [ 0,  0, 19],\n",
       "        [ 0, 19, 15],\n",
       "        [19, 15, 16],\n",
       "        [15, 16,  8],\n",
       "        [16,  8,  9],\n",
       "        [ 8,  9,  1]])"
      ]
     },
     "execution_count": 26,
     "metadata": {},
     "output_type": "execute_result"
    }
   ],
   "source": [
    "X"
   ]
  },
  {
   "cell_type": "code",
   "execution_count": 27,
   "metadata": {},
   "outputs": [
    {
     "data": {
      "text/plain": [
       "tensor([ 5, 13, 13,  1,  0, 15, 12,  9, 22,  9,  1,  0,  1, 22,  1,  0,  9, 19,\n",
       "         1,  2,  5, 12, 12,  1,  0, 19, 15, 16,  8,  9,  1,  0])"
      ]
     },
     "execution_count": 27,
     "metadata": {},
     "output_type": "execute_result"
    }
   ],
   "source": [
    "Y"
   ]
  },
  {
   "cell_type": "code",
   "execution_count": 28,
   "metadata": {},
   "outputs": [
    {
     "data": {
      "text/plain": [
       "tensor([1.7277, 1.8922])"
      ]
     },
     "execution_count": 28,
     "metadata": {},
     "output_type": "execute_result"
    }
   ],
   "source": [
    "C[X][13, 2]"
   ]
  },
  {
   "cell_type": "code",
   "execution_count": 29,
   "metadata": {},
   "outputs": [
    {
     "data": {
      "text/plain": [
       "tensor([1.7277, 1.8922])"
      ]
     },
     "execution_count": 29,
     "metadata": {},
     "output_type": "execute_result"
    }
   ],
   "source": [
    "C[1]"
   ]
  },
  {
   "cell_type": "code",
   "execution_count": 30,
   "metadata": {},
   "outputs": [
    {
     "data": {
      "text/plain": [
       "tensor([[ 1.1648, -0.1378],\n",
       "        [ 1.7277,  1.8922],\n",
       "        [ 1.4556,  0.9094],\n",
       "        [-0.8434, -1.8390],\n",
       "        [ 0.1272,  1.5051],\n",
       "        [-0.2540,  1.5209],\n",
       "        [-0.3342,  0.4010],\n",
       "        [ 0.7950, -0.3917],\n",
       "        [ 0.2725, -0.7805],\n",
       "        [ 0.5074, -0.2264],\n",
       "        [-0.5915,  0.1337],\n",
       "        [-0.2139,  0.3216],\n",
       "        [ 0.0087,  0.0958],\n",
       "        [-0.3569,  0.8148],\n",
       "        [ 1.9910, -0.1962],\n",
       "        [ 0.6446, -0.1950],\n",
       "        [ 1.9922, -0.5181],\n",
       "        [-0.0569,  0.8269],\n",
       "        [-1.3216, -0.6827],\n",
       "        [ 0.1031,  0.8188],\n",
       "        [-0.4455, -0.9279],\n",
       "        [ 0.7379, -0.6009],\n",
       "        [-0.3339, -2.4705],\n",
       "        [ 1.0739, -1.0943],\n",
       "        [ 1.1200,  1.9541],\n",
       "        [ 0.3015, -0.7300],\n",
       "        [-0.5678,  0.1848]])"
      ]
     },
     "execution_count": 30,
     "metadata": {},
     "output_type": "execute_result"
    }
   ],
   "source": [
    "C"
   ]
  },
  {
   "cell_type": "code",
   "execution_count": 31,
   "metadata": {},
   "outputs": [
    {
     "data": {
      "text/plain": [
       "torch.Size([32, 3, 2])"
      ]
     },
     "execution_count": 31,
     "metadata": {},
     "output_type": "execute_result"
    }
   ],
   "source": [
    "# lookup table C\n",
    "embeddings = C[X]\n",
    "embeddings.shape"
   ]
  },
  {
   "cell_type": "code",
   "execution_count": 32,
   "metadata": {},
   "outputs": [
    {
     "data": {
      "text/plain": [
       "tensor([[[ 1.1648, -0.1378],\n",
       "         [ 1.1648, -0.1378],\n",
       "         [ 1.1648, -0.1378]],\n",
       "\n",
       "        [[ 1.1648, -0.1378],\n",
       "         [ 1.1648, -0.1378],\n",
       "         [-0.2540,  1.5209]],\n",
       "\n",
       "        [[ 1.1648, -0.1378],\n",
       "         [-0.2540,  1.5209],\n",
       "         [-0.3569,  0.8148]],\n",
       "\n",
       "        [[-0.2540,  1.5209],\n",
       "         [-0.3569,  0.8148],\n",
       "         [-0.3569,  0.8148]],\n",
       "\n",
       "        [[-0.3569,  0.8148],\n",
       "         [-0.3569,  0.8148],\n",
       "         [ 1.7277,  1.8922]],\n",
       "\n",
       "        [[ 1.1648, -0.1378],\n",
       "         [ 1.1648, -0.1378],\n",
       "         [ 1.1648, -0.1378]],\n",
       "\n",
       "        [[ 1.1648, -0.1378],\n",
       "         [ 1.1648, -0.1378],\n",
       "         [ 0.6446, -0.1950]],\n",
       "\n",
       "        [[ 1.1648, -0.1378],\n",
       "         [ 0.6446, -0.1950],\n",
       "         [ 0.0087,  0.0958]],\n",
       "\n",
       "        [[ 0.6446, -0.1950],\n",
       "         [ 0.0087,  0.0958],\n",
       "         [ 0.5074, -0.2264]],\n",
       "\n",
       "        [[ 0.0087,  0.0958],\n",
       "         [ 0.5074, -0.2264],\n",
       "         [-0.3339, -2.4705]],\n",
       "\n",
       "        [[ 0.5074, -0.2264],\n",
       "         [-0.3339, -2.4705],\n",
       "         [ 0.5074, -0.2264]],\n",
       "\n",
       "        [[-0.3339, -2.4705],\n",
       "         [ 0.5074, -0.2264],\n",
       "         [ 1.7277,  1.8922]],\n",
       "\n",
       "        [[ 1.1648, -0.1378],\n",
       "         [ 1.1648, -0.1378],\n",
       "         [ 1.1648, -0.1378]],\n",
       "\n",
       "        [[ 1.1648, -0.1378],\n",
       "         [ 1.1648, -0.1378],\n",
       "         [ 1.7277,  1.8922]],\n",
       "\n",
       "        [[ 1.1648, -0.1378],\n",
       "         [ 1.7277,  1.8922],\n",
       "         [-0.3339, -2.4705]],\n",
       "\n",
       "        [[ 1.7277,  1.8922],\n",
       "         [-0.3339, -2.4705],\n",
       "         [ 1.7277,  1.8922]],\n",
       "\n",
       "        [[ 1.1648, -0.1378],\n",
       "         [ 1.1648, -0.1378],\n",
       "         [ 1.1648, -0.1378]],\n",
       "\n",
       "        [[ 1.1648, -0.1378],\n",
       "         [ 1.1648, -0.1378],\n",
       "         [ 0.5074, -0.2264]],\n",
       "\n",
       "        [[ 1.1648, -0.1378],\n",
       "         [ 0.5074, -0.2264],\n",
       "         [ 0.1031,  0.8188]],\n",
       "\n",
       "        [[ 0.5074, -0.2264],\n",
       "         [ 0.1031,  0.8188],\n",
       "         [ 1.7277,  1.8922]],\n",
       "\n",
       "        [[ 0.1031,  0.8188],\n",
       "         [ 1.7277,  1.8922],\n",
       "         [ 1.4556,  0.9094]],\n",
       "\n",
       "        [[ 1.7277,  1.8922],\n",
       "         [ 1.4556,  0.9094],\n",
       "         [-0.2540,  1.5209]],\n",
       "\n",
       "        [[ 1.4556,  0.9094],\n",
       "         [-0.2540,  1.5209],\n",
       "         [ 0.0087,  0.0958]],\n",
       "\n",
       "        [[-0.2540,  1.5209],\n",
       "         [ 0.0087,  0.0958],\n",
       "         [ 0.0087,  0.0958]],\n",
       "\n",
       "        [[ 0.0087,  0.0958],\n",
       "         [ 0.0087,  0.0958],\n",
       "         [ 1.7277,  1.8922]],\n",
       "\n",
       "        [[ 1.1648, -0.1378],\n",
       "         [ 1.1648, -0.1378],\n",
       "         [ 1.1648, -0.1378]],\n",
       "\n",
       "        [[ 1.1648, -0.1378],\n",
       "         [ 1.1648, -0.1378],\n",
       "         [ 0.1031,  0.8188]],\n",
       "\n",
       "        [[ 1.1648, -0.1378],\n",
       "         [ 0.1031,  0.8188],\n",
       "         [ 0.6446, -0.1950]],\n",
       "\n",
       "        [[ 0.1031,  0.8188],\n",
       "         [ 0.6446, -0.1950],\n",
       "         [ 1.9922, -0.5181]],\n",
       "\n",
       "        [[ 0.6446, -0.1950],\n",
       "         [ 1.9922, -0.5181],\n",
       "         [ 0.2725, -0.7805]],\n",
       "\n",
       "        [[ 1.9922, -0.5181],\n",
       "         [ 0.2725, -0.7805],\n",
       "         [ 0.5074, -0.2264]],\n",
       "\n",
       "        [[ 0.2725, -0.7805],\n",
       "         [ 0.5074, -0.2264],\n",
       "         [ 1.7277,  1.8922]]])"
      ]
     },
     "execution_count": 32,
     "metadata": {},
     "output_type": "execute_result"
    }
   ],
   "source": [
    "embeddings"
   ]
  },
  {
   "cell_type": "code",
   "execution_count": 33,
   "metadata": {},
   "outputs": [
    {
     "data": {
      "text/plain": [
       "(6, 2, 1)"
      ]
     },
     "execution_count": 33,
     "metadata": {},
     "output_type": "execute_result"
    }
   ],
   "source": [
    "embeddings.stride()"
   ]
  },
  {
   "cell_type": "code",
   "execution_count": 34,
   "metadata": {},
   "outputs": [],
   "source": [
    "# implementing the hidden layer\n",
    "\n",
    "W1 = torch.randn((6, 100)) # the number of inputs to this layer will be 3 x 2 = 6, because we have two dimensional embeddings and we have three of them; let's do 100 neurons\n",
    "b1 = torch.randn(100)"
   ]
  },
  {
   "cell_type": "code",
   "execution_count": 35,
   "metadata": {},
   "outputs": [
    {
     "data": {
      "text/plain": [
       "(tensor([[ 1.1648, -0.1378],\n",
       "         [ 1.1648, -0.1378],\n",
       "         [ 1.1648, -0.1378],\n",
       "         [-0.2540,  1.5209],\n",
       "         [-0.3569,  0.8148],\n",
       "         [ 1.1648, -0.1378],\n",
       "         [ 1.1648, -0.1378],\n",
       "         [ 1.1648, -0.1378],\n",
       "         [ 0.6446, -0.1950],\n",
       "         [ 0.0087,  0.0958],\n",
       "         [ 0.5074, -0.2264],\n",
       "         [-0.3339, -2.4705],\n",
       "         [ 1.1648, -0.1378],\n",
       "         [ 1.1648, -0.1378],\n",
       "         [ 1.1648, -0.1378],\n",
       "         [ 1.7277,  1.8922],\n",
       "         [ 1.1648, -0.1378],\n",
       "         [ 1.1648, -0.1378],\n",
       "         [ 1.1648, -0.1378],\n",
       "         [ 0.5074, -0.2264],\n",
       "         [ 0.1031,  0.8188],\n",
       "         [ 1.7277,  1.8922],\n",
       "         [ 1.4556,  0.9094],\n",
       "         [-0.2540,  1.5209],\n",
       "         [ 0.0087,  0.0958],\n",
       "         [ 1.1648, -0.1378],\n",
       "         [ 1.1648, -0.1378],\n",
       "         [ 1.1648, -0.1378],\n",
       "         [ 0.1031,  0.8188],\n",
       "         [ 0.6446, -0.1950],\n",
       "         [ 1.9922, -0.5181],\n",
       "         [ 0.2725, -0.7805]]),\n",
       " tensor([[ 1.1648, -0.1378],\n",
       "         [ 1.1648, -0.1378],\n",
       "         [-0.2540,  1.5209],\n",
       "         [-0.3569,  0.8148],\n",
       "         [-0.3569,  0.8148],\n",
       "         [ 1.1648, -0.1378],\n",
       "         [ 1.1648, -0.1378],\n",
       "         [ 0.6446, -0.1950],\n",
       "         [ 0.0087,  0.0958],\n",
       "         [ 0.5074, -0.2264],\n",
       "         [-0.3339, -2.4705],\n",
       "         [ 0.5074, -0.2264],\n",
       "         [ 1.1648, -0.1378],\n",
       "         [ 1.1648, -0.1378],\n",
       "         [ 1.7277,  1.8922],\n",
       "         [-0.3339, -2.4705],\n",
       "         [ 1.1648, -0.1378],\n",
       "         [ 1.1648, -0.1378],\n",
       "         [ 0.5074, -0.2264],\n",
       "         [ 0.1031,  0.8188],\n",
       "         [ 1.7277,  1.8922],\n",
       "         [ 1.4556,  0.9094],\n",
       "         [-0.2540,  1.5209],\n",
       "         [ 0.0087,  0.0958],\n",
       "         [ 0.0087,  0.0958],\n",
       "         [ 1.1648, -0.1378],\n",
       "         [ 1.1648, -0.1378],\n",
       "         [ 0.1031,  0.8188],\n",
       "         [ 0.6446, -0.1950],\n",
       "         [ 1.9922, -0.5181],\n",
       "         [ 0.2725, -0.7805],\n",
       "         [ 0.5074, -0.2264]]),\n",
       " tensor([[ 1.1648, -0.1378],\n",
       "         [-0.2540,  1.5209],\n",
       "         [-0.3569,  0.8148],\n",
       "         [-0.3569,  0.8148],\n",
       "         [ 1.7277,  1.8922],\n",
       "         [ 1.1648, -0.1378],\n",
       "         [ 0.6446, -0.1950],\n",
       "         [ 0.0087,  0.0958],\n",
       "         [ 0.5074, -0.2264],\n",
       "         [-0.3339, -2.4705],\n",
       "         [ 0.5074, -0.2264],\n",
       "         [ 1.7277,  1.8922],\n",
       "         [ 1.1648, -0.1378],\n",
       "         [ 1.7277,  1.8922],\n",
       "         [-0.3339, -2.4705],\n",
       "         [ 1.7277,  1.8922],\n",
       "         [ 1.1648, -0.1378],\n",
       "         [ 0.5074, -0.2264],\n",
       "         [ 0.1031,  0.8188],\n",
       "         [ 1.7277,  1.8922],\n",
       "         [ 1.4556,  0.9094],\n",
       "         [-0.2540,  1.5209],\n",
       "         [ 0.0087,  0.0958],\n",
       "         [ 0.0087,  0.0958],\n",
       "         [ 1.7277,  1.8922],\n",
       "         [ 1.1648, -0.1378],\n",
       "         [ 0.1031,  0.8188],\n",
       "         [ 0.6446, -0.1950],\n",
       "         [ 1.9922, -0.5181],\n",
       "         [ 0.2725, -0.7805],\n",
       "         [ 0.5074, -0.2264],\n",
       "         [ 1.7277,  1.8922]]))"
      ]
     },
     "execution_count": 35,
     "metadata": {},
     "output_type": "execute_result"
    }
   ],
   "source": [
    "# we can't do embeddings @ W1 + b1 because the embeddings are stacked up and tensor dimensions aren't fit with each other\n",
    "# there are usually many ways to implement this, some are faster, some are shorter etc. torch is large\n",
    "\n",
    "embeddings[:, 0, :], embeddings[:, 1, :], embeddings[:, 2, :]"
   ]
  },
  {
   "cell_type": "code",
   "execution_count": 36,
   "metadata": {},
   "outputs": [
    {
     "data": {
      "text/plain": [
       "torch.Size([32, 6])"
      ]
     },
     "execution_count": 36,
     "metadata": {},
     "output_type": "execute_result"
    }
   ],
   "source": [
    "torch.cat([embeddings[:, 0, :], embeddings[:, 1, :], embeddings[:, 2, :]], 1).shape"
   ]
  },
  {
   "cell_type": "code",
   "execution_count": 37,
   "metadata": {},
   "outputs": [
    {
     "data": {
      "text/plain": [
       "torch.Size([32, 6])"
      ]
     },
     "execution_count": 37,
     "metadata": {},
     "output_type": "execute_result"
    }
   ],
   "source": [
    "torch.cat(torch.unbind(embeddings, 1), 1).shape"
   ]
  },
  {
   "cell_type": "code",
   "execution_count": 38,
   "metadata": {},
   "outputs": [
    {
     "data": {
      "text/plain": [
       "tensor([ 0,  1,  2,  3,  4,  5,  6,  7,  8,  9, 10, 11, 12, 13, 14, 15, 16, 17])"
      ]
     },
     "execution_count": 38,
     "metadata": {},
     "output_type": "execute_result"
    }
   ],
   "source": [
    "a = torch.arange(18)\n",
    "a"
   ]
  },
  {
   "cell_type": "code",
   "execution_count": 39,
   "metadata": {},
   "outputs": [
    {
     "data": {
      "text/plain": [
       "tensor([ 0,  1,  2,  3,  4,  5,  6,  7,  8,  9, 10, 11, 12, 13, 14, 15, 16, 17])"
      ]
     },
     "execution_count": 39,
     "metadata": {},
     "output_type": "execute_result"
    }
   ],
   "source": [
    "a"
   ]
  },
  {
   "cell_type": "code",
   "execution_count": 40,
   "metadata": {},
   "outputs": [],
   "source": [
    "# .view is extremely efficient\n",
    "b = a.view(3, 3, 2)"
   ]
  },
  {
   "cell_type": "code",
   "execution_count": 41,
   "metadata": {},
   "outputs": [
    {
     "name": "stderr",
     "output_type": "stream",
     "text": [
      "/tmp/ipykernel_50797/3076968323.py:1: UserWarning: TypedStorage is deprecated. It will be removed in the future and UntypedStorage will be the only storage class. This should only matter to you if you are using storages directly.  To access UntypedStorage directly, use tensor.untyped_storage() instead of tensor.storage()\n",
      "  b.storage()\n"
     ]
    },
    {
     "data": {
      "text/plain": [
       " 0\n",
       " 1\n",
       " 2\n",
       " 3\n",
       " 4\n",
       " 5\n",
       " 6\n",
       " 7\n",
       " 8\n",
       " 9\n",
       " 10\n",
       " 11\n",
       " 12\n",
       " 13\n",
       " 14\n",
       " 15\n",
       " 16\n",
       " 17\n",
       "[torch.storage.TypedStorage(dtype=torch.int64, device=cpu) of size 18]"
      ]
     },
     "execution_count": 41,
     "metadata": {},
     "output_type": "execute_result"
    }
   ],
   "source": [
    "b.storage()"
   ]
  },
  {
   "cell_type": "code",
   "execution_count": 42,
   "metadata": {},
   "outputs": [
    {
     "data": {
      "text/plain": [
       "tensor([[ 1.1648, -0.1378,  1.1648, -0.1378,  1.1648, -0.1378],\n",
       "        [ 1.1648, -0.1378,  1.1648, -0.1378, -0.2540,  1.5209],\n",
       "        [ 1.1648, -0.1378, -0.2540,  1.5209, -0.3569,  0.8148],\n",
       "        [-0.2540,  1.5209, -0.3569,  0.8148, -0.3569,  0.8148],\n",
       "        [-0.3569,  0.8148, -0.3569,  0.8148,  1.7277,  1.8922],\n",
       "        [ 1.1648, -0.1378,  1.1648, -0.1378,  1.1648, -0.1378],\n",
       "        [ 1.1648, -0.1378,  1.1648, -0.1378,  0.6446, -0.1950],\n",
       "        [ 1.1648, -0.1378,  0.6446, -0.1950,  0.0087,  0.0958],\n",
       "        [ 0.6446, -0.1950,  0.0087,  0.0958,  0.5074, -0.2264],\n",
       "        [ 0.0087,  0.0958,  0.5074, -0.2264, -0.3339, -2.4705],\n",
       "        [ 0.5074, -0.2264, -0.3339, -2.4705,  0.5074, -0.2264],\n",
       "        [-0.3339, -2.4705,  0.5074, -0.2264,  1.7277,  1.8922],\n",
       "        [ 1.1648, -0.1378,  1.1648, -0.1378,  1.1648, -0.1378],\n",
       "        [ 1.1648, -0.1378,  1.1648, -0.1378,  1.7277,  1.8922],\n",
       "        [ 1.1648, -0.1378,  1.7277,  1.8922, -0.3339, -2.4705],\n",
       "        [ 1.7277,  1.8922, -0.3339, -2.4705,  1.7277,  1.8922],\n",
       "        [ 1.1648, -0.1378,  1.1648, -0.1378,  1.1648, -0.1378],\n",
       "        [ 1.1648, -0.1378,  1.1648, -0.1378,  0.5074, -0.2264],\n",
       "        [ 1.1648, -0.1378,  0.5074, -0.2264,  0.1031,  0.8188],\n",
       "        [ 0.5074, -0.2264,  0.1031,  0.8188,  1.7277,  1.8922],\n",
       "        [ 0.1031,  0.8188,  1.7277,  1.8922,  1.4556,  0.9094],\n",
       "        [ 1.7277,  1.8922,  1.4556,  0.9094, -0.2540,  1.5209],\n",
       "        [ 1.4556,  0.9094, -0.2540,  1.5209,  0.0087,  0.0958],\n",
       "        [-0.2540,  1.5209,  0.0087,  0.0958,  0.0087,  0.0958],\n",
       "        [ 0.0087,  0.0958,  0.0087,  0.0958,  1.7277,  1.8922],\n",
       "        [ 1.1648, -0.1378,  1.1648, -0.1378,  1.1648, -0.1378],\n",
       "        [ 1.1648, -0.1378,  1.1648, -0.1378,  0.1031,  0.8188],\n",
       "        [ 1.1648, -0.1378,  0.1031,  0.8188,  0.6446, -0.1950],\n",
       "        [ 0.1031,  0.8188,  0.6446, -0.1950,  1.9922, -0.5181],\n",
       "        [ 0.6446, -0.1950,  1.9922, -0.5181,  0.2725, -0.7805],\n",
       "        [ 1.9922, -0.5181,  0.2725, -0.7805,  0.5074, -0.2264],\n",
       "        [ 0.2725, -0.7805,  0.5074, -0.2264,  1.7277,  1.8922]])"
      ]
     },
     "execution_count": 42,
     "metadata": {},
     "output_type": "execute_result"
    }
   ],
   "source": [
    "embeddings.view(32, 6)"
   ]
  },
  {
   "cell_type": "code",
   "execution_count": 43,
   "metadata": {},
   "outputs": [
    {
     "data": {
      "text/plain": [
       "True"
      ]
     },
     "execution_count": 43,
     "metadata": {},
     "output_type": "execute_result"
    }
   ],
   "source": [
    "embeddings.view(32, 6).shape == torch.cat(torch.unbind(embeddings, 1), 1).shape == torch.cat([embeddings[:, 0, :], embeddings[:, 1, :], embeddings[:, 2, :]], 1).shape"
   ]
  },
  {
   "cell_type": "code",
   "execution_count": 44,
   "metadata": {},
   "outputs": [
    {
     "data": {
      "text/plain": [
       "torch.Size([32, 6])"
      ]
     },
     "execution_count": 44,
     "metadata": {},
     "output_type": "execute_result"
    }
   ],
   "source": [
    "# using -1, so we won't hardcode numbers, when we do -1, torch will infer what this should be\n",
    "h = embeddings.view(-1, 6)\n",
    "h.shape"
   ]
  },
  {
   "cell_type": "code",
   "execution_count": 45,
   "metadata": {},
   "outputs": [
    {
     "name": "stdout",
     "output_type": "stream",
     "text": [
      "torch.Size([32, 100])\n",
      "torch.Size([100])\n"
     ]
    },
    {
     "data": {
      "text/plain": [
       "tensor([[ 0.9900, -0.9859,  0.9878,  ..., -0.9742, -0.9980,  0.4739],\n",
       "        [ 0.5073, -0.5398,  0.9974,  ..., -0.9272, -1.0000, -0.8574],\n",
       "        [ 0.9546,  0.1871,  0.9988,  ..., -0.9990, -0.9918,  0.8317],\n",
       "        ...,\n",
       "        [ 0.9959, -0.9877,  0.8253,  ...,  0.9675, -0.9902,  0.4562],\n",
       "        [ 1.0000,  0.9229,  0.9824,  ..., -0.9555, -0.9661,  0.3665],\n",
       "        [-0.9975, -0.9991,  0.9411,  ..., -0.9996, -1.0000, -0.2284]])"
      ]
     },
     "execution_count": 45,
     "metadata": {},
     "output_type": "execute_result"
    }
   ],
   "source": [
    "W1 = torch.randn((6, 100)) # the number of inputs to this layer will be 3 x 2 = 6, because we have two dimensional embeddings and we have three of them; let's do 100 neurons\n",
    "b1 = torch.randn(100)\n",
    "h = torch.tanh(embeddings.view(-1, 6) @ W1 + b1) # bias will be added to all elements in the rows\n",
    "print(h.shape)\n",
    "print(b1.shape)\n",
    "h"
   ]
  },
  {
   "cell_type": "code",
   "execution_count": 46,
   "metadata": {},
   "outputs": [
    {
     "data": {
      "text/plain": [
       "tensor([[ -0.3963,  -4.1686,  12.4045,  -2.4204, -15.3439,   1.2735,   4.5355,\n",
       "          -2.7824,   1.5581,   5.3886,  10.1223,   6.5240,  -3.9795,   1.0713,\n",
       "           8.8394,  -7.8710,   1.6664, -18.9376,  -5.9171,   2.8753,  -8.9827,\n",
       "          -5.1345,   5.6168,   1.1265,  10.5386,   2.6010,   6.9520],\n",
       "        [  4.5442,  -2.7826,  19.1731,   1.0080,  -6.7958,  -1.4848,   1.7074,\n",
       "          -2.0462,  -4.4853,  -3.9645,   8.8982,   5.4513,  -3.8133,   3.1692,\n",
       "          12.2262,  -4.0793,  -2.1051,   0.9600,   8.7585,   7.3781, -16.7119,\n",
       "           1.2086,   3.2636,   4.8897,   5.0548,  12.8442,  -0.6450],\n",
       "        [ -5.6363,  -6.9298,  10.2612,  -3.4710,  -4.3298,   0.6812,  -1.2318,\n",
       "          -8.8883,  -7.0266,  -8.3140,  -9.4251,   5.6370,  -1.2150,   8.9701,\n",
       "          -7.2594,  -0.0453,   1.4932,  -3.3244,   4.9648,   0.3808,  -8.8114,\n",
       "           4.7079,   8.7959,   8.2579,   1.9624,   6.5827,   9.2515]])"
      ]
     },
     "execution_count": 46,
     "metadata": {},
     "output_type": "execute_result"
    }
   ],
   "source": [
    "# let's create the final layer\n",
    "\n",
    "W2 = torch.randn((100, 27)) # the input now will be 100 because the hidden layer has 100 outputs, the output number of these neurons will be 27 because we have 27 possible characters\n",
    "b2 = torch.randn(27) # biases will be 27 as well\n",
    "\n",
    "logits = h @ W2 + b2\n",
    "logits[:3]"
   ]
  },
  {
   "cell_type": "code",
   "execution_count": 47,
   "metadata": {},
   "outputs": [
    {
     "data": {
      "text/plain": [
       "torch.Size([32, 27])"
      ]
     },
     "execution_count": 47,
     "metadata": {},
     "output_type": "execute_result"
    }
   ],
   "source": [
    "logits.shape"
   ]
  },
  {
   "cell_type": "code",
   "execution_count": 48,
   "metadata": {},
   "outputs": [
    {
     "data": {
      "text/plain": [
       "tensor([[6.7278e-01, 1.5473e-02, 2.4391e+05, 8.8884e-02, 2.1688e-07, 3.5732e+00,\n",
       "         9.3269e+01, 6.1887e-02, 4.7499e+00, 2.1890e+02, 2.4892e+04, 6.8128e+02,\n",
       "         1.8696e-02, 2.9193e+00, 6.9009e+03, 3.8167e-04, 5.2930e+00, 5.9633e-09,\n",
       "         2.6930e-03, 1.7731e+01, 1.2556e-04, 5.8897e-03, 2.7501e+02, 3.0849e+00,\n",
       "         3.7745e+04, 1.3477e+01, 1.0452e+03],\n",
       "        [9.4086e+01, 6.1876e-02, 2.1220e+08, 2.7402e+00, 1.1185e-03, 2.2655e-01,\n",
       "         5.5146e+00, 1.2922e-01, 1.1273e-02, 1.8977e-02, 7.3191e+03, 2.3305e+02,\n",
       "         2.2076e-02, 2.3789e+01, 2.0407e+05, 1.6920e-02, 1.2184e-01, 2.6117e+00,\n",
       "         6.3645e+03, 1.6005e+03, 5.5223e-08, 3.3486e+00, 2.6145e+01, 1.3292e+02,\n",
       "         1.5677e+02, 3.7860e+05, 5.2467e-01],\n",
       "        [3.5661e-03, 9.7820e-04, 2.8602e+04, 3.1086e-02, 1.3170e-02, 1.9763e+00,\n",
       "         2.9175e-01, 1.3799e-04, 8.8797e-04, 2.4507e-04, 8.0675e-05, 2.8062e+02,\n",
       "         2.9672e-01, 7.8647e+03, 7.0351e-04, 9.5573e-01, 4.4512e+00, 3.5994e-02,\n",
       "         1.4327e+02, 1.4635e+00, 1.4902e-04, 1.1082e+02, 6.6073e+03, 3.8581e+03,\n",
       "         7.1162e+00, 7.2249e+02, 1.0420e+04]])"
      ]
     },
     "execution_count": 48,
     "metadata": {},
     "output_type": "execute_result"
    }
   ],
   "source": [
    "counts = logits.exp()\n",
    "counts[:3]"
   ]
  },
  {
   "cell_type": "code",
   "execution_count": 49,
   "metadata": {},
   "outputs": [
    {
     "data": {
      "text/plain": [
       "tensor([[2.1303e-06, 4.8996e-08, 7.7232e-01, 2.8145e-07, 6.8673e-13, 1.1314e-05,\n",
       "         2.9533e-04, 1.9596e-07, 1.5040e-05, 6.9314e-04, 7.8821e-02, 2.1572e-03,\n",
       "         5.9199e-08, 9.2438e-06, 2.1851e-02, 1.2085e-09, 1.6760e-05, 1.8882e-14,\n",
       "         8.5273e-09, 5.6144e-05, 3.9759e-10, 1.8650e-08, 8.7079e-04, 9.7683e-06,\n",
       "         1.1952e-01, 4.2674e-05, 3.3097e-03],\n",
       "        [4.4213e-07, 2.9077e-10, 9.9719e-01, 1.2877e-08, 5.2559e-12, 1.0646e-09,\n",
       "         2.5914e-08, 6.0724e-10, 5.2974e-11, 8.9176e-11, 3.4394e-05, 1.0952e-06,\n",
       "         1.0374e-10, 1.1179e-07, 9.5897e-04, 7.9510e-11, 5.7254e-10, 1.2273e-08,\n",
       "         2.9908e-05, 7.5210e-06, 2.5951e-16, 1.5736e-08, 1.2286e-07, 6.2461e-07,\n",
       "         7.3668e-07, 1.7791e-03, 2.4655e-09],\n",
       "        [6.0828e-08, 1.6685e-08, 4.8787e-01, 5.3024e-07, 2.2464e-07, 3.3710e-05,\n",
       "         4.9765e-06, 2.3538e-09, 1.5146e-08, 4.1803e-09, 1.3761e-09, 4.7866e-03,\n",
       "         5.0613e-06, 1.3415e-01, 1.2000e-08, 1.6302e-05, 7.5925e-05, 6.1396e-07,\n",
       "         2.4439e-03, 2.4963e-05, 2.5419e-09, 1.8904e-03, 1.1270e-01, 6.5809e-02,\n",
       "         1.2138e-04, 1.2324e-02, 1.7774e-01]])"
      ]
     },
     "execution_count": 49,
     "metadata": {},
     "output_type": "execute_result"
    }
   ],
   "source": [
    "prob = counts / counts.sum(1, keepdim=True)\n",
    "prob[:3]"
   ]
  },
  {
   "cell_type": "code",
   "execution_count": 50,
   "metadata": {},
   "outputs": [
    {
     "data": {
      "text/plain": [
       "tensor(1.0000)"
      ]
     },
     "execution_count": 50,
     "metadata": {},
     "output_type": "execute_result"
    }
   ],
   "source": [
    "prob[0].sum()"
   ]
  },
  {
   "cell_type": "code",
   "execution_count": 51,
   "metadata": {},
   "outputs": [
    {
     "data": {
      "text/plain": [
       "tensor([ 5, 13, 13,  1,  0, 15, 12,  9, 22,  9,  1,  0,  1, 22,  1,  0,  9, 19,\n",
       "         1,  2,  5, 12, 12,  1,  0, 19, 15, 16,  8,  9,  1,  0])"
      ]
     },
     "execution_count": 51,
     "metadata": {},
     "output_type": "execute_result"
    }
   ],
   "source": [
    "# index into the rows of prob and in each row pluck out the probability assigned to the correct character\n",
    "Y"
   ]
  },
  {
   "cell_type": "code",
   "execution_count": 52,
   "metadata": {},
   "outputs": [
    {
     "data": {
      "text/plain": [
       "tensor([1.1314e-05, 1.1179e-07, 1.3415e-01, 9.0262e-14, 2.1714e-05, 1.2085e-09,\n",
       "        5.5044e-09, 1.5758e-06, 1.0937e-04, 9.7413e-08, 1.0084e-13, 1.9065e-07,\n",
       "        4.8996e-08, 6.2953e-09, 6.8417e-09, 5.2594e-09, 6.9314e-04, 4.4991e-03,\n",
       "        3.4007e-11, 7.2993e-01, 5.2819e-02, 2.3706e-12, 2.4036e-09, 3.1107e-13,\n",
       "        7.2089e-09, 5.6144e-05, 3.6032e-10, 8.6830e-04, 8.5906e-09, 4.1779e-04,\n",
       "        5.5915e-08, 1.4338e-08])"
      ]
     },
     "execution_count": 52,
     "metadata": {},
     "output_type": "execute_result"
    }
   ],
   "source": [
    "prob[torch.arange(32), Y]"
   ]
  },
  {
   "cell_type": "code",
   "execution_count": 53,
   "metadata": {},
   "outputs": [
    {
     "data": {
      "text/plain": [
       "tensor(15.6633)"
      ]
     },
     "execution_count": 53,
     "metadata": {},
     "output_type": "execute_result"
    }
   ],
   "source": [
    "loss = -prob[torch.arange(32), Y].log().mean()\n",
    "loss"
   ]
  },
  {
   "cell_type": "markdown",
   "metadata": {},
   "source": [
    "### Rewrite"
   ]
  },
  {
   "cell_type": "markdown",
   "metadata": {},
   "source": [
    "In machine learning, parameters and hyperparameters are fundamental concepts.\n",
    "\n",
    "    Parameters: Parameters are the internal variables whose values are learned from the training data during the model fitting process. These parameters define the structure and behavior of the model. For example, in a simple linear regression model, parameters would be the coefficients and the intercept. In a neural network, parameters would include the weights and biases of the neurons in each layer.\n",
    "\n",
    "    Hyperparameters: Hyperparameters are external configuration settings that are not learned from the data but are set prior to the training process. They control the learning process and the overall behavior of the model. Examples of hyperparameters include the learning rate, regularization strength, number of hidden layers in a neural network, and the choice of algorithm itself.\n",
    "\n",
    "The key differences between parameters and hyperparameters are:\n",
    "\n",
    "    Parameters are learned during the training process, while hyperparameters are set before the training process.\n",
    "    Parameters are specific to the model and its structure, while hyperparameters are external factors that affect the learning process.\n",
    "\n",
    "Tuning hyperparameters effectively is crucial for optimizing a model's performance. This process often involves experimentation, such as using techniques like grid search or random search to find the best combination of hyperparameters for a given task and dataset."
   ]
  },
  {
   "cell_type": "markdown",
   "metadata": {},
   "source": [
    "    C, W1, b1, W2, and b2 are tensors. These tensors represent the weights and biases of a neural network. They are learned during the training process and directly affect the behavior of the model based on the data. Therefore, they are parameters.\n",
    "\n",
    "    Hyperparameters, on the other hand, are external settings that control the learning process itself, such as the learning rate, regularization strength, or the structure of the network (e.g., number of layers, number of neurons per layer). These hyperparameters are not learned from the data but are set by the user before the training process begins."
   ]
  },
  {
   "cell_type": "code",
   "execution_count": 54,
   "metadata": {},
   "outputs": [
    {
     "data": {
      "text/plain": [
       "(torch.Size([32, 3]), torch.Size([32]))"
      ]
     },
     "execution_count": 54,
     "metadata": {},
     "output_type": "execute_result"
    }
   ],
   "source": [
    "X.shape, Y.shape"
   ]
  },
  {
   "cell_type": "code",
   "execution_count": 55,
   "metadata": {},
   "outputs": [],
   "source": [
    "g = torch.Generator().manual_seed(2147483647) \n",
    "C = torch.randn((27, 2), generator=g)\n",
    "W1 = torch.randn((6, 100), generator=g)\n",
    "b1 = torch.randn(100, generator=g)\n",
    "W2 = torch.randn((100, 27), generator=g)\n",
    "b2 = torch.randn((27), generator=g)\n",
    "parameters = [C, W1, b1, W2, b2]"
   ]
  },
  {
   "cell_type": "code",
   "execution_count": 56,
   "metadata": {},
   "outputs": [
    {
     "data": {
      "text/plain": [
       "3481"
      ]
     },
     "execution_count": 56,
     "metadata": {},
     "output_type": "execute_result"
    }
   ],
   "source": [
    "sum(p.nelement() for p in parameters) # number of parameters in total"
   ]
  },
  {
   "cell_type": "code",
   "execution_count": 57,
   "metadata": {},
   "outputs": [
    {
     "data": {
      "text/plain": [
       "tensor(17.7697)"
      ]
     },
     "execution_count": 57,
     "metadata": {},
     "output_type": "execute_result"
    }
   ],
   "source": [
    "# forward pass\n",
    "embeddings = C[X] # (32, 3, 2)\n",
    "h = torch.tanh(embeddings.view(-1, 6) @ W1 + b1) # (32, 100) \n",
    "logits = h @ W2 + b2 # (32, 27)\n",
    "\n",
    "# embeddings = C[X] performs the first step of the forward pass, where the input X is used to index into the tensor C to obtain the corresponding embeddings. This step transforms the input into a higher-dimensional representation based on the embedding matrix C.\n",
    "# h = torch.tanh(embeddings.view(-1, 6) @ W1 + b1) represents the propagation of the transformed input through the first hidden layer of the neural network. It computes the activations of the neurons in the hidden layer using the hyperbolic tangent (tanh) activation function.\n",
    "# logits = h @ W2 + b2 calculates the final logits by propagating the activations from the hidden layer through the output layer of the neural network.\n",
    "# These three lines together constitute the forward pass of the neural network, where input data is processed through the layers of the network to generate predictions.\n",
    "\n",
    "# counts = logits.exp()                             |\n",
    "# prob = counts / counts.sum(1, keepdims=True)      |  ---> negative log likelihood loss\n",
    "# loss = -prob[torch.arange(32), Y].log().mean()    |\n",
    "\n",
    "# softmax\n",
    "counts = logits.exp()\n",
    "prob = counts / counts.sum(1, keepdim=True)\n",
    "\n",
    "# loss\n",
    "loss = -prob[torch.arange(32), Y].log().mean()\n",
    "loss"
   ]
  },
  {
   "cell_type": "code",
   "execution_count": 58,
   "metadata": {},
   "outputs": [
    {
     "data": {
      "text/plain": [
       "tensor(17.7697)"
      ]
     },
     "execution_count": 58,
     "metadata": {},
     "output_type": "execute_result"
    }
   ],
   "source": [
    "# let's make this even more respectable\n",
    "\n",
    "# counts = logits.exp()                             |\n",
    "# prob = counts / counts.sum(1, keepdims=True)      |  ---> negative log likelihood loss\n",
    "# loss = -prob[torch.arange(32), Y].log().mean()    |\n",
    "\n",
    "# what we did in the cell above is classification and for this there's cross_entropy function in pytorch.\n",
    "# we can simply call F.cross_entropy, pass in the logits and the array of targets Y, and this calculates the exact same loss\n",
    "\n",
    "F.cross_entropy(logits, Y)\n",
    "\n",
    "# when you use f.cross entropy by torch will not actually create all those intermediate tensors from the above cell, because these are all new tensors in memory and all this is fairly inefficient to run"
   ]
  },
  {
   "cell_type": "code",
   "execution_count": 59,
   "metadata": {},
   "outputs": [
    {
     "name": "stdout",
     "output_type": "stream",
     "text": [
      "tensor([3.7835e-44, 4.9787e-02, 1.0000e+00,        inf])\n"
     ]
    },
    {
     "data": {
      "text/plain": [
       "tensor([0., 0., 0., nan])"
      ]
     },
     "execution_count": 59,
     "metadata": {},
     "output_type": "execute_result"
    }
   ],
   "source": [
    "# also cross_entropy is very well behaved\n",
    "# bad behavior down here, when one logit is very positive, you get a nan\n",
    "\n",
    "logits = torch.tensor([-100, -3, 0, 100])\n",
    "counts = logits.exp()\n",
    "probs = counts / counts.sum()\n",
    "print(counts)\n",
    "probs"
   ]
  },
  {
   "cell_type": "code",
   "execution_count": 60,
   "metadata": {},
   "outputs": [
    {
     "data": {
      "text/plain": [
       "tensor([0.0000e+00, 1.4013e-45, 3.7835e-44, 1.0000e+00])"
      ]
     },
     "execution_count": 60,
     "metadata": {},
     "output_type": "execute_result"
    }
   ],
   "source": [
    "# the way pytorch solved this is by offsetting the problematic number by itself.\n",
    "\n",
    "logits = torch.tensor([-100, -3, 0, 100]) - 100\n",
    "counts = logits.exp()\n",
    "probs = counts / counts.sum()\n",
    "probs"
   ]
  },
  {
   "cell_type": "markdown",
   "metadata": {},
   "source": [
    "### implementing the training loop, overfitting one batch"
   ]
  },
  {
   "cell_type": "code",
   "execution_count": 61,
   "metadata": {},
   "outputs": [],
   "source": [
    "for p in parameters:\n",
    "    p.requires_grad = True"
   ]
  },
  {
   "cell_type": "code",
   "execution_count": 62,
   "metadata": {},
   "outputs": [
    {
     "name": "stdout",
     "output_type": "stream",
     "text": [
      "17.76971435546875\n",
      "13.656401634216309\n",
      "11.298768997192383\n",
      "9.452455520629883\n",
      "7.984262466430664\n",
      "6.891321182250977\n",
      "6.100014686584473\n",
      "5.452036380767822\n",
      "4.898151874542236\n",
      "4.414664268493652\n"
     ]
    }
   ],
   "source": [
    "for _ in range(10):\n",
    "    # forward pass\n",
    "    embeddings = C[X] # (32, 3, 2)\n",
    "    h = torch.tanh(embeddings.view(-1, 6) @ W1 + b1) # (32, 100) \n",
    "    logits = h @ W2 + b2 # (32, 27)\n",
    "\n",
    "    loss = F.cross_entropy(logits, Y)\n",
    "\n",
    "    print(loss.item())\n",
    "\n",
    "    # backward pass\n",
    "    for p in parameters:\n",
    "        p.grad = None\n",
    "    loss.backward()\n",
    "\n",
    "    # update\n",
    "    for p in parameters:\n",
    "        p.data += -0.1 * p.grad"
   ]
  },
  {
   "cell_type": "code",
   "execution_count": 63,
   "metadata": {},
   "outputs": [
    {
     "name": "stdout",
     "output_type": "stream",
     "text": [
      "0.25609633326530457\n"
     ]
    }
   ],
   "source": [
    "# run for a thousand times we get a very very low loss and that means that we're making very good predictions\n",
    "# now the reason that this is so straightforward right now is because we're only overfitting 32 examples,\n",
    "# so we only have 32 examples of the first 5 words and therefore it's very easy to make this neural net fit only these two 32 examples\n",
    "# because we have 3400 parameters and only 32 examples so we're doing what's called overfitting a single batch of the data and getting a very low loss and good predictions, but that's just because we have so many parameters for so few examples so it's easy to make this be very low\n",
    "\n",
    "for _ in range(1000):\n",
    "    # forward pass\n",
    "    embeddings = C[X] # (32, 3, 2)\n",
    "    h = torch.tanh(embeddings.view(-1, 6) @ W1 + b1) # (32, 100) \n",
    "    logits = h @ W2 + b2 # (32, 27)\n",
    "\n",
    "    loss = F.cross_entropy(logits, Y)\n",
    "\n",
    "    # backward pass\n",
    "    for p in parameters:\n",
    "        p.grad = None\n",
    "    loss.backward()\n",
    "\n",
    "    # update\n",
    "    for p in parameters:\n",
    "        p.data += -0.1 * p.grad\n",
    "\n",
    "print(loss.item())"
   ]
  },
  {
   "cell_type": "code",
   "execution_count": 64,
   "metadata": {},
   "outputs": [],
   "source": [
    "# Moving tensors to the GPU\n",
    "\n",
    "g = torch.Generator().manual_seed(2147483647) \n",
    "C = torch.randn((27, 2), generator=g)\n",
    "W1 = torch.randn((6, 100), generator=g)\n",
    "b1 = torch.randn(100, generator=g)\n",
    "W2 = torch.randn((100, 27), generator=g)\n",
    "b2 = torch.randn((27), generator=g)\n",
    "\n",
    "# Define the parameters list\n",
    "parameters = [C, W1, b1, W2, b2]\n",
    "for p in parameters:\n",
    "    p.requires_grad = True\n",
    "\n",
    "# Move tensors to GPU\n",
    "device = torch.device(\"cuda\" if torch.cuda.is_available() else \"cpu\")\n",
    "C = C.to(device)\n",
    "W1 = W1.to(device)\n",
    "b1 = b1.to(device)\n",
    "W2 = W2.to(device)\n",
    "b2 = b2.to(device)\n",
    "X = X.to(device)\n",
    "Y = Y.to(device)"
   ]
  },
  {
   "cell_type": "code",
   "execution_count": 65,
   "metadata": {},
   "outputs": [
    {
     "name": "stdout",
     "output_type": "stream",
     "text": [
      "17.769710540771484\n"
     ]
    }
   ],
   "source": [
    "# Training loop\n",
    "for _ in range(1000):\n",
    "    with torch.cuda.device(device):\n",
    "        # Forward pass\n",
    "        embeddings = C[X]  # (32, 3, 2)\n",
    "        h = torch.tanh(embeddings.view(-1, 6) @ W1 + b1)  # (32, 100)\n",
    "        logits = h @ W2 + b2  # (32, 27)\n",
    "\n",
    "        loss = F.cross_entropy(logits, Y)\n",
    "\n",
    "        # Backward pass\n",
    "        for p in parameters:\n",
    "            p.grad = None\n",
    "        loss.backward()\n",
    "\n",
    "        # Update\n",
    "        for p in parameters:\n",
    "            p.data += -0.1 * p.grad\n",
    "\n",
    "print(loss.item())"
   ]
  },
  {
   "cell_type": "code",
   "execution_count": 66,
   "metadata": {},
   "outputs": [
    {
     "data": {
      "text/plain": [
       "torch.return_types.max(\n",
       "values=tensor([21.6638, 26.2643, 25.9028, 20.5271, 19.7233, 21.6638, 27.8875, 18.4312,\n",
       "        17.8855, 12.3067, 16.3167, 14.7824, 21.6638, 20.7853, 14.9944, 17.8890,\n",
       "        21.6638, 21.3690, 18.6206, 17.2354, 11.1006, 17.4859, 15.9277, 13.6605,\n",
       "        15.6246, 21.6638, 21.0790, 14.4026, 14.7089, 23.1252, 15.9744, 24.1714],\n",
       "       device='cuda:0', grad_fn=<MaxBackward0>),\n",
       "indices=tensor([10, 10,  9, 14, 10, 10, 10, 26,  9, 21,  2, 14, 10, 10, 10, 22, 10, 10,\n",
       "        10, 10, 14, 10, 26, 23, 20, 10, 10, 10, 23,  9, 14, 10],\n",
       "       device='cuda:0'))"
      ]
     },
     "execution_count": 66,
     "metadata": {},
     "output_type": "execute_result"
    }
   ],
   "source": [
    "logits.max(1) # we cannot make loss be 0 because we have three dots have possible outcomes such as e, o, a, i, an so on. out of the dataset"
   ]
  },
  {
   "cell_type": "code",
   "execution_count": 67,
   "metadata": {},
   "outputs": [
    {
     "data": {
      "text/plain": [
       "tensor([ 5, 13, 13,  1,  0, 15, 12,  9, 22,  9,  1,  0,  1, 22,  1,  0,  9, 19,\n",
       "         1,  2,  5, 12, 12,  1,  0, 19, 15, 16,  8,  9,  1,  0],\n",
       "       device='cuda:0')"
      ]
     },
     "execution_count": 67,
     "metadata": {},
     "output_type": "execute_result"
    }
   ],
   "source": [
    "Y"
   ]
  },
  {
   "cell_type": "code",
   "execution_count": 68,
   "metadata": {},
   "outputs": [],
   "source": [
    "# build the dataset\n",
    "\n",
    "block_size = 3 # context length: how many characters do we take to predict the next one\n",
    "X, Y = [], []\n",
    "\n",
    "for w in words:\n",
    "    #print(w)\n",
    "    context = [0] * block_size\n",
    "\n",
    "    for ch in w + '.':\n",
    "        ix = stoi[ch]\n",
    "        X.append(context)\n",
    "        Y.append(ix)\n",
    "        #print(''.join(itos[i] for i in context), '---->', itos[ix])\n",
    "        context = context[1:] + [ix] # crop and append\n",
    "\n",
    "X = torch.tensor(X)\n",
    "Y = torch.tensor(Y)\n",
    "# this is kind of like a rolling window of context"
   ]
  },
  {
   "cell_type": "code",
   "execution_count": 69,
   "metadata": {},
   "outputs": [
    {
     "data": {
      "text/plain": [
       "(torch.Size([228146, 3]), torch.int64, torch.Size([228146]), torch.int64)"
      ]
     },
     "execution_count": 69,
     "metadata": {},
     "output_type": "execute_result"
    }
   ],
   "source": [
    "X.shape, X.dtype, Y.shape, Y.dtype"
   ]
  },
  {
   "cell_type": "code",
   "execution_count": 70,
   "metadata": {},
   "outputs": [],
   "source": [
    "C = torch.randn((27, 2))"
   ]
  },
  {
   "cell_type": "code",
   "execution_count": 71,
   "metadata": {},
   "outputs": [
    {
     "data": {
      "text/plain": [
       "torch.Size([228146, 3, 2])"
      ]
     },
     "execution_count": 71,
     "metadata": {},
     "output_type": "execute_result"
    }
   ],
   "source": [
    "embeddings = C[X]\n",
    "embeddings.shape"
   ]
  },
  {
   "cell_type": "code",
   "execution_count": 72,
   "metadata": {},
   "outputs": [],
   "source": [
    "# Moving tensors to the GPU\n",
    "device = torch.device(\"cuda\" if torch.cuda.is_available() else \"cpu\")\n",
    "\n",
    "g = torch.Generator().manual_seed(2147483647) \n",
    "C = torch.randn((27, 2), generator=g).to(device)\n",
    "W1 = torch.randn((6, 100), generator=g).to(device)\n",
    "b1 = torch.randn(100, generator=g).to(device)\n",
    "W2 = torch.randn((100, 27), generator=g).to(device)\n",
    "b2 = torch.randn((27), generator=g).to(device)\n",
    "\n",
    "\n",
    "\n",
    "# Define the parameters list\n",
    "parameters = [C, W1, b1, W2, b2]\n",
    "for p in parameters:\n",
    "    p.requires_grad = True\n",
    "\n",
    "# Move tensors to GPU\n",
    "\n",
    "embeddings = C[X]\n",
    "embeddings.to(device)\n",
    "\n",
    "X = X.to(device)\n",
    "Y = Y.to(device)"
   ]
  },
  {
   "cell_type": "code",
   "execution_count": 73,
   "metadata": {},
   "outputs": [
    {
     "data": {
      "text/plain": [
       "3481"
      ]
     },
     "execution_count": 73,
     "metadata": {},
     "output_type": "execute_result"
    }
   ],
   "source": [
    "sum(p.nelement() for p in parameters) # number of parameters in total"
   ]
  },
  {
   "cell_type": "code",
   "execution_count": 74,
   "metadata": {},
   "outputs": [
    {
     "name": "stdout",
     "output_type": "stream",
     "text": [
      "19.505231857299805\n",
      "17.084461212158203\n",
      "15.776474952697754\n",
      "14.833340644836426\n",
      "14.002630233764648\n",
      "13.25328540802002\n",
      "12.579960823059082\n",
      "11.983065605163574\n",
      "11.470518112182617\n",
      "11.051850318908691\n"
     ]
    }
   ],
   "source": [
    "# Training loop\n",
    "for _ in range(10):\n",
    "    #with torch.cuda.device(device):\n",
    "        # Forward pass\n",
    "        embeddings = C[X]  # (32, 3, 2)\n",
    "        h = torch.tanh(embeddings.view(-1, 6) @ W1 + b1)  # (32, 100)\n",
    "        logits = h @ W2 + b2  # (32, 27)\n",
    "\n",
    "        loss = F.cross_entropy(logits, Y)\n",
    "        print(loss.item())\n",
    "\n",
    "        # Backward pass\n",
    "        for p in parameters:\n",
    "            p.grad = None\n",
    "        loss.backward()\n",
    "\n",
    "        # Update\n",
    "        for p in parameters:\n",
    "            p.data += -0.1 * p.grad\n"
   ]
  },
  {
   "cell_type": "code",
   "execution_count": 75,
   "metadata": {},
   "outputs": [
    {
     "data": {
      "text/plain": [
       "tensor([3, 3, 3, 4, 3, 2, 3, 2, 1, 1, 0, 1, 1, 4, 3, 0, 2, 1, 2, 0, 2, 0, 3, 3,\n",
       "        3, 3, 3, 3, 4, 3, 4, 0])"
      ]
     },
     "execution_count": 75,
     "metadata": {},
     "output_type": "execute_result"
    }
   ],
   "source": [
    "# we're doing way too much work forwarding and backwarding 220000 examples\n",
    "# in practice what people usually do is they perform forward and backward pass and update on minibatches of the data\n",
    "# will do a random select of some portion of the dataset, that's a minibatch, and then only forward backward and update on that little mini batch and then we iterate on those many batches\n",
    "\n",
    "torch.randint(0, 5, (32,))"
   ]
  },
  {
   "cell_type": "code",
   "execution_count": 76,
   "metadata": {},
   "outputs": [
    {
     "data": {
      "text/plain": [
       "tensor([216236,  45160,  32676, 213439,   2949, 179586,   3713,  26587, 171252,\n",
       "         38121,  72109, 223856, 180362, 212878, 217569, 153152,  96354,  97886,\n",
       "         91221, 191517, 153593,  53033,  53776, 165232,  69853,  21930, 151724,\n",
       "        118758,  63668,  27198,  90861,  14161])"
      ]
     },
     "execution_count": 76,
     "metadata": {},
     "output_type": "execute_result"
    }
   ],
   "source": [
    "torch.randint(0, X.shape[0], (32,))"
   ]
  },
  {
   "cell_type": "code",
   "execution_count": 77,
   "metadata": {},
   "outputs": [
    {
     "name": "stdout",
     "output_type": "stream",
     "text": [
      "10.646188735961914\n",
      "10.909506797790527\n",
      "10.919975280761719\n",
      "8.260517120361328\n",
      "7.557425022125244\n",
      "6.380773067474365\n",
      "9.862829208374023\n",
      "9.230061531066895\n",
      "11.670668601989746\n",
      "8.328222274780273\n"
     ]
    }
   ],
   "source": [
    "# Training loop\n",
    "\n",
    "for _ in range(10):\n",
    "    #with torch.cuda.device(device):\n",
    "        \n",
    "        # minibatch construct\n",
    "        ix = torch.randint(0, X.shape[0], (32,)) # added here to grab 32 rows of X\n",
    "\n",
    "        # Forward pass\n",
    "        embeddings = C[X[ix]]  # (32, 3, 2)\n",
    "        h = torch.tanh(embeddings.view(-1, 6) @ W1 + b1)  # (32, 100)\n",
    "        logits = h @ W2 + b2  # (32, 27)\n",
    "\n",
    "        loss = F.cross_entropy(logits, Y[ix])\n",
    "        print(loss.item())\n",
    "\n",
    "        # Backward pass\n",
    "        for p in parameters:\n",
    "            p.grad = None\n",
    "        loss.backward()\n",
    "\n",
    "        # Update\n",
    "        for p in parameters:\n",
    "            p.data += -0.1 * p.grad\n",
    "\n",
    "# the quality of our gradient is lower, the direction is not as reliable it's not the actual gradient direction\n",
    "# it's much better to have an approximate gradient and just make more steps than it is to evaluate the exact gradient and take fewer steps so that's why in practice, this works quite well         "
   ]
  },
  {
   "cell_type": "code",
   "execution_count": 78,
   "metadata": {},
   "outputs": [
    {
     "data": {
      "text/plain": [
       "tensor(8.5898, device='cuda:0', grad_fn=<NllLossBackward0>)"
      ]
     },
     "execution_count": 78,
     "metadata": {},
     "output_type": "execute_result"
    }
   ],
   "source": [
    "# the total loss\n",
    "\n",
    "embeddings = C[X]  # (32, 3, 2)\n",
    "h = torch.tanh(embeddings.view(-1, 6) @ W1 + b1)  # (32, 100)\n",
    "logits = h @ W2 + b2  # (32, 27)\n",
    "loss = F.cross_entropy(logits, Y)\n",
    "loss"
   ]
  },
  {
   "cell_type": "code",
   "execution_count": 79,
   "metadata": {},
   "outputs": [
    {
     "name": "stdout",
     "output_type": "stream",
     "text": [
      "2.8714537620544434\n"
     ]
    }
   ],
   "source": [
    "# Training loop\n",
    "\n",
    "for _ in range(100):\n",
    "    #with torch.cuda.device(device):\n",
    "        \n",
    "        # minibatch construct\n",
    "        ix = torch.randint(0, X.shape[0], (32,))\n",
    "\n",
    "        # Forward pass\n",
    "        embeddings = C[X[ix]]  # (32, 3, 2)\n",
    "        h = torch.tanh(embeddings.view(-1, 6) @ W1 + b1)  # (32, 100)\n",
    "        logits = h @ W2 + b2  # (32, 27)\n",
    "\n",
    "        loss = F.cross_entropy(logits, Y[ix])\n",
    "        \n",
    "\n",
    "        # Backward pass\n",
    "        for p in parameters:\n",
    "            p.grad = None\n",
    "        loss.backward()\n",
    "\n",
    "        # Update\n",
    "        for p in parameters:\n",
    "            p.data += -0.1 * p.grad\n",
    "print(loss.item())\n",
    "# the quality of our gradient is lower so the direction is not as reliable it's not the actual gradient direction"
   ]
  },
  {
   "cell_type": "code",
   "execution_count": 80,
   "metadata": {},
   "outputs": [
    {
     "data": {
      "text/plain": [
       "tensor(3.5005, device='cuda:0', grad_fn=<NllLossBackward0>)"
      ]
     },
     "execution_count": 80,
     "metadata": {},
     "output_type": "execute_result"
    }
   ],
   "source": [
    "# the total loss, for all of X and all of Y\n",
    "\n",
    "embeddings = C[X]  # (32, 3, 2)\n",
    "h = torch.tanh(embeddings.view(-1, 6) @ W1 + b1)  # (32, 100)\n",
    "logits = h @ W2 + b2  # (32, 27)\n",
    "loss = F.cross_entropy(logits, Y)\n",
    "loss"
   ]
  },
  {
   "cell_type": "code",
   "execution_count": 81,
   "metadata": {},
   "outputs": [
    {
     "name": "stdout",
     "output_type": "stream",
     "text": [
      "1.0\n"
     ]
    }
   ],
   "source": [
    "print(1e0)"
   ]
  },
  {
   "cell_type": "code",
   "execution_count": 82,
   "metadata": {},
   "outputs": [
    {
     "name": "stdout",
     "output_type": "stream",
     "text": [
      "tensor([-3.0000, -2.9970, -2.9940, -2.9910, -2.9880, -2.9850, -2.9820, -2.9790,\n",
      "        -2.9760, -2.9730])\n"
     ]
    },
    {
     "data": {
      "text/plain": [
       "tensor([-0.1471, -0.1441, -0.1411, -0.1381, -0.1351, -0.1321, -0.1291, -0.1261,\n",
       "        -0.1231, -0.1201, -0.1171, -0.1141, -0.1111, -0.1081, -0.1051, -0.1021,\n",
       "        -0.0991, -0.0961, -0.0931, -0.0901, -0.0871, -0.0841, -0.0811, -0.0781,\n",
       "        -0.0751, -0.0721, -0.0691, -0.0661, -0.0631, -0.0601, -0.0571, -0.0541,\n",
       "        -0.0511, -0.0480, -0.0450, -0.0420, -0.0390, -0.0360, -0.0330, -0.0300,\n",
       "        -0.0270, -0.0240, -0.0210, -0.0180, -0.0150, -0.0120, -0.0090, -0.0060,\n",
       "        -0.0030,  0.0000])"
      ]
     },
     "execution_count": 82,
     "metadata": {},
     "output_type": "execute_result"
    }
   ],
   "source": [
    "import torch\n",
    "\n",
    "learn_rate = torch.linspace(-3, 0, 1000)   # torch.linspace(0.001, 1, 1000)\n",
    "print(learn_rate[0:10])\n",
    "learn_rate[-50:]"
   ]
  },
  {
   "cell_type": "code",
   "execution_count": 83,
   "metadata": {},
   "outputs": [
    {
     "data": {
      "text/plain": [
       "0.001"
      ]
     },
     "execution_count": 83,
     "metadata": {},
     "output_type": "execute_result"
    }
   ],
   "source": [
    "10**-3"
   ]
  },
  {
   "cell_type": "code",
   "execution_count": 84,
   "metadata": {},
   "outputs": [
    {
     "data": {
      "text/plain": [
       "tensor([0.0010, 0.0010, 0.0010, 0.0010, 0.0010, 0.0010, 0.0010, 0.0010, 0.0011,\n",
       "        0.0011, 0.0011, 0.0011, 0.0011, 0.0011, 0.0011, 0.0011, 0.0011, 0.0011,\n",
       "        0.0011, 0.0011, 0.0011, 0.0012, 0.0012, 0.0012, 0.0012, 0.0012, 0.0012,\n",
       "        0.0012, 0.0012, 0.0012, 0.0012, 0.0012, 0.0012, 0.0013, 0.0013, 0.0013,\n",
       "        0.0013, 0.0013, 0.0013, 0.0013, 0.0013, 0.0013, 0.0013, 0.0013, 0.0014,\n",
       "        0.0014, 0.0014, 0.0014, 0.0014, 0.0014, 0.0014, 0.0014, 0.0014, 0.0014,\n",
       "        0.0015, 0.0015, 0.0015, 0.0015, 0.0015, 0.0015, 0.0015, 0.0015, 0.0015,\n",
       "        0.0015, 0.0016, 0.0016, 0.0016, 0.0016, 0.0016, 0.0016, 0.0016, 0.0016,\n",
       "        0.0016, 0.0017, 0.0017, 0.0017, 0.0017, 0.0017, 0.0017, 0.0017, 0.0017,\n",
       "        0.0018, 0.0018, 0.0018, 0.0018, 0.0018, 0.0018, 0.0018, 0.0018, 0.0019,\n",
       "        0.0019, 0.0019, 0.0019, 0.0019, 0.0019, 0.0019, 0.0019, 0.0020, 0.0020,\n",
       "        0.0020, 0.0020, 0.0020, 0.0020, 0.0020, 0.0021, 0.0021, 0.0021, 0.0021,\n",
       "        0.0021, 0.0021, 0.0021, 0.0022, 0.0022, 0.0022, 0.0022, 0.0022, 0.0022,\n",
       "        0.0022, 0.0023, 0.0023, 0.0023, 0.0023, 0.0023, 0.0023, 0.0024, 0.0024,\n",
       "        0.0024, 0.0024, 0.0024, 0.0024, 0.0025, 0.0025, 0.0025, 0.0025, 0.0025,\n",
       "        0.0025, 0.0026, 0.0026, 0.0026, 0.0026, 0.0026, 0.0027, 0.0027, 0.0027,\n",
       "        0.0027, 0.0027, 0.0027, 0.0028, 0.0028, 0.0028, 0.0028, 0.0028, 0.0029,\n",
       "        0.0029, 0.0029, 0.0029, 0.0029, 0.0030, 0.0030, 0.0030, 0.0030, 0.0030,\n",
       "        0.0031, 0.0031, 0.0031, 0.0031, 0.0032, 0.0032, 0.0032, 0.0032, 0.0032,\n",
       "        0.0033, 0.0033, 0.0033, 0.0033, 0.0034, 0.0034, 0.0034, 0.0034, 0.0034,\n",
       "        0.0035, 0.0035, 0.0035, 0.0035, 0.0036, 0.0036, 0.0036, 0.0036, 0.0037,\n",
       "        0.0037, 0.0037, 0.0037, 0.0038, 0.0038, 0.0038, 0.0039, 0.0039, 0.0039,\n",
       "        0.0039, 0.0040, 0.0040, 0.0040, 0.0040, 0.0041, 0.0041, 0.0041, 0.0042,\n",
       "        0.0042, 0.0042, 0.0042, 0.0043, 0.0043, 0.0043, 0.0044, 0.0044, 0.0044,\n",
       "        0.0045, 0.0045, 0.0045, 0.0045, 0.0046, 0.0046, 0.0046, 0.0047, 0.0047,\n",
       "        0.0047, 0.0048, 0.0048, 0.0048, 0.0049, 0.0049, 0.0049, 0.0050, 0.0050,\n",
       "        0.0050, 0.0051, 0.0051, 0.0051, 0.0052, 0.0052, 0.0053, 0.0053, 0.0053,\n",
       "        0.0054, 0.0054, 0.0054, 0.0055, 0.0055, 0.0056, 0.0056, 0.0056, 0.0057,\n",
       "        0.0057, 0.0058, 0.0058, 0.0058, 0.0059, 0.0059, 0.0060, 0.0060, 0.0060,\n",
       "        0.0061, 0.0061, 0.0062, 0.0062, 0.0062, 0.0063, 0.0063, 0.0064, 0.0064,\n",
       "        0.0065, 0.0065, 0.0066, 0.0066, 0.0067, 0.0067, 0.0067, 0.0068, 0.0068,\n",
       "        0.0069, 0.0069, 0.0070, 0.0070, 0.0071, 0.0071, 0.0072, 0.0072, 0.0073,\n",
       "        0.0073, 0.0074, 0.0074, 0.0075, 0.0075, 0.0076, 0.0076, 0.0077, 0.0077,\n",
       "        0.0078, 0.0079, 0.0079, 0.0080, 0.0080, 0.0081, 0.0081, 0.0082, 0.0082,\n",
       "        0.0083, 0.0084, 0.0084, 0.0085, 0.0085, 0.0086, 0.0086, 0.0087, 0.0088,\n",
       "        0.0088, 0.0089, 0.0090, 0.0090, 0.0091, 0.0091, 0.0092, 0.0093, 0.0093,\n",
       "        0.0094, 0.0095, 0.0095, 0.0096, 0.0097, 0.0097, 0.0098, 0.0099, 0.0099,\n",
       "        0.0100, 0.0101, 0.0101, 0.0102, 0.0103, 0.0104, 0.0104, 0.0105, 0.0106,\n",
       "        0.0106, 0.0107, 0.0108, 0.0109, 0.0109, 0.0110, 0.0111, 0.0112, 0.0112,\n",
       "        0.0113, 0.0114, 0.0115, 0.0116, 0.0116, 0.0117, 0.0118, 0.0119, 0.0120,\n",
       "        0.0121, 0.0121, 0.0122, 0.0123, 0.0124, 0.0125, 0.0126, 0.0127, 0.0127,\n",
       "        0.0128, 0.0129, 0.0130, 0.0131, 0.0132, 0.0133, 0.0134, 0.0135, 0.0136,\n",
       "        0.0137, 0.0137, 0.0138, 0.0139, 0.0140, 0.0141, 0.0142, 0.0143, 0.0144,\n",
       "        0.0145, 0.0146, 0.0147, 0.0148, 0.0149, 0.0150, 0.0151, 0.0152, 0.0154,\n",
       "        0.0155, 0.0156, 0.0157, 0.0158, 0.0159, 0.0160, 0.0161, 0.0162, 0.0163,\n",
       "        0.0165, 0.0166, 0.0167, 0.0168, 0.0169, 0.0170, 0.0171, 0.0173, 0.0174,\n",
       "        0.0175, 0.0176, 0.0178, 0.0179, 0.0180, 0.0181, 0.0182, 0.0184, 0.0185,\n",
       "        0.0186, 0.0188, 0.0189, 0.0190, 0.0192, 0.0193, 0.0194, 0.0196, 0.0197,\n",
       "        0.0198, 0.0200, 0.0201, 0.0202, 0.0204, 0.0205, 0.0207, 0.0208, 0.0210,\n",
       "        0.0211, 0.0212, 0.0214, 0.0215, 0.0217, 0.0218, 0.0220, 0.0221, 0.0223,\n",
       "        0.0225, 0.0226, 0.0228, 0.0229, 0.0231, 0.0232, 0.0234, 0.0236, 0.0237,\n",
       "        0.0239, 0.0241, 0.0242, 0.0244, 0.0246, 0.0247, 0.0249, 0.0251, 0.0253,\n",
       "        0.0254, 0.0256, 0.0258, 0.0260, 0.0261, 0.0263, 0.0265, 0.0267, 0.0269,\n",
       "        0.0271, 0.0273, 0.0274, 0.0276, 0.0278, 0.0280, 0.0282, 0.0284, 0.0286,\n",
       "        0.0288, 0.0290, 0.0292, 0.0294, 0.0296, 0.0298, 0.0300, 0.0302, 0.0304,\n",
       "        0.0307, 0.0309, 0.0311, 0.0313, 0.0315, 0.0317, 0.0320, 0.0322, 0.0324,\n",
       "        0.0326, 0.0328, 0.0331, 0.0333, 0.0335, 0.0338, 0.0340, 0.0342, 0.0345,\n",
       "        0.0347, 0.0350, 0.0352, 0.0354, 0.0357, 0.0359, 0.0362, 0.0364, 0.0367,\n",
       "        0.0369, 0.0372, 0.0375, 0.0377, 0.0380, 0.0382, 0.0385, 0.0388, 0.0390,\n",
       "        0.0393, 0.0396, 0.0399, 0.0401, 0.0404, 0.0407, 0.0410, 0.0413, 0.0416,\n",
       "        0.0418, 0.0421, 0.0424, 0.0427, 0.0430, 0.0433, 0.0436, 0.0439, 0.0442,\n",
       "        0.0445, 0.0448, 0.0451, 0.0455, 0.0458, 0.0461, 0.0464, 0.0467, 0.0471,\n",
       "        0.0474, 0.0477, 0.0480, 0.0484, 0.0487, 0.0491, 0.0494, 0.0497, 0.0501,\n",
       "        0.0504, 0.0508, 0.0511, 0.0515, 0.0518, 0.0522, 0.0526, 0.0529, 0.0533,\n",
       "        0.0537, 0.0540, 0.0544, 0.0548, 0.0552, 0.0556, 0.0559, 0.0563, 0.0567,\n",
       "        0.0571, 0.0575, 0.0579, 0.0583, 0.0587, 0.0591, 0.0595, 0.0599, 0.0604,\n",
       "        0.0608, 0.0612, 0.0616, 0.0621, 0.0625, 0.0629, 0.0634, 0.0638, 0.0642,\n",
       "        0.0647, 0.0651, 0.0656, 0.0660, 0.0665, 0.0670, 0.0674, 0.0679, 0.0684,\n",
       "        0.0688, 0.0693, 0.0698, 0.0703, 0.0708, 0.0713, 0.0718, 0.0723, 0.0728,\n",
       "        0.0733, 0.0738, 0.0743, 0.0748, 0.0753, 0.0758, 0.0764, 0.0769, 0.0774,\n",
       "        0.0780, 0.0785, 0.0790, 0.0796, 0.0802, 0.0807, 0.0813, 0.0818, 0.0824,\n",
       "        0.0830, 0.0835, 0.0841, 0.0847, 0.0853, 0.0859, 0.0865, 0.0871, 0.0877,\n",
       "        0.0883, 0.0889, 0.0895, 0.0901, 0.0908, 0.0914, 0.0920, 0.0927, 0.0933,\n",
       "        0.0940, 0.0946, 0.0953, 0.0959, 0.0966, 0.0973, 0.0979, 0.0986, 0.0993,\n",
       "        0.1000, 0.1007, 0.1014, 0.1021, 0.1028, 0.1035, 0.1042, 0.1050, 0.1057,\n",
       "        0.1064, 0.1072, 0.1079, 0.1087, 0.1094, 0.1102, 0.1109, 0.1117, 0.1125,\n",
       "        0.1133, 0.1140, 0.1148, 0.1156, 0.1164, 0.1172, 0.1181, 0.1189, 0.1197,\n",
       "        0.1205, 0.1214, 0.1222, 0.1231, 0.1239, 0.1248, 0.1256, 0.1265, 0.1274,\n",
       "        0.1283, 0.1292, 0.1301, 0.1310, 0.1319, 0.1328, 0.1337, 0.1346, 0.1356,\n",
       "        0.1365, 0.1374, 0.1384, 0.1394, 0.1403, 0.1413, 0.1423, 0.1433, 0.1443,\n",
       "        0.1453, 0.1463, 0.1473, 0.1483, 0.1493, 0.1504, 0.1514, 0.1525, 0.1535,\n",
       "        0.1546, 0.1557, 0.1567, 0.1578, 0.1589, 0.1600, 0.1611, 0.1623, 0.1634,\n",
       "        0.1645, 0.1657, 0.1668, 0.1680, 0.1691, 0.1703, 0.1715, 0.1727, 0.1739,\n",
       "        0.1751, 0.1763, 0.1775, 0.1788, 0.1800, 0.1812, 0.1825, 0.1838, 0.1850,\n",
       "        0.1863, 0.1876, 0.1889, 0.1902, 0.1916, 0.1929, 0.1942, 0.1956, 0.1969,\n",
       "        0.1983, 0.1997, 0.2010, 0.2024, 0.2038, 0.2053, 0.2067, 0.2081, 0.2096,\n",
       "        0.2110, 0.2125, 0.2140, 0.2154, 0.2169, 0.2184, 0.2200, 0.2215, 0.2230,\n",
       "        0.2246, 0.2261, 0.2277, 0.2293, 0.2309, 0.2325, 0.2341, 0.2357, 0.2373,\n",
       "        0.2390, 0.2406, 0.2423, 0.2440, 0.2457, 0.2474, 0.2491, 0.2508, 0.2526,\n",
       "        0.2543, 0.2561, 0.2579, 0.2597, 0.2615, 0.2633, 0.2651, 0.2669, 0.2688,\n",
       "        0.2707, 0.2725, 0.2744, 0.2763, 0.2783, 0.2802, 0.2821, 0.2841, 0.2861,\n",
       "        0.2880, 0.2900, 0.2921, 0.2941, 0.2961, 0.2982, 0.3002, 0.3023, 0.3044,\n",
       "        0.3065, 0.3087, 0.3108, 0.3130, 0.3151, 0.3173, 0.3195, 0.3217, 0.3240,\n",
       "        0.3262, 0.3285, 0.3308, 0.3331, 0.3354, 0.3377, 0.3400, 0.3424, 0.3448,\n",
       "        0.3472, 0.3496, 0.3520, 0.3544, 0.3569, 0.3594, 0.3619, 0.3644, 0.3669,\n",
       "        0.3695, 0.3720, 0.3746, 0.3772, 0.3798, 0.3825, 0.3851, 0.3878, 0.3905,\n",
       "        0.3932, 0.3959, 0.3987, 0.4014, 0.4042, 0.4070, 0.4098, 0.4127, 0.4155,\n",
       "        0.4184, 0.4213, 0.4243, 0.4272, 0.4302, 0.4331, 0.4362, 0.4392, 0.4422,\n",
       "        0.4453, 0.4484, 0.4515, 0.4546, 0.4578, 0.4610, 0.4642, 0.4674, 0.4706,\n",
       "        0.4739, 0.4772, 0.4805, 0.4838, 0.4872, 0.4906, 0.4940, 0.4974, 0.5008,\n",
       "        0.5043, 0.5078, 0.5113, 0.5149, 0.5185, 0.5221, 0.5257, 0.5293, 0.5330,\n",
       "        0.5367, 0.5404, 0.5442, 0.5479, 0.5517, 0.5556, 0.5594, 0.5633, 0.5672,\n",
       "        0.5712, 0.5751, 0.5791, 0.5831, 0.5872, 0.5913, 0.5954, 0.5995, 0.6036,\n",
       "        0.6078, 0.6120, 0.6163, 0.6206, 0.6249, 0.6292, 0.6336, 0.6380, 0.6424,\n",
       "        0.6469, 0.6513, 0.6559, 0.6604, 0.6650, 0.6696, 0.6743, 0.6789, 0.6837,\n",
       "        0.6884, 0.6932, 0.6980, 0.7028, 0.7077, 0.7126, 0.7176, 0.7225, 0.7275,\n",
       "        0.7326, 0.7377, 0.7428, 0.7480, 0.7531, 0.7584, 0.7636, 0.7689, 0.7743,\n",
       "        0.7796, 0.7850, 0.7905, 0.7960, 0.8015, 0.8071, 0.8127, 0.8183, 0.8240,\n",
       "        0.8297, 0.8355, 0.8412, 0.8471, 0.8530, 0.8589, 0.8648, 0.8708, 0.8769,\n",
       "        0.8830, 0.8891, 0.8953, 0.9015, 0.9077, 0.9140, 0.9204, 0.9268, 0.9332,\n",
       "        0.9397, 0.9462, 0.9528, 0.9594, 0.9660, 0.9727, 0.9795, 0.9863, 0.9931,\n",
       "        1.0000])"
      ]
     },
     "execution_count": 84,
     "metadata": {},
     "output_type": "execute_result"
    }
   ],
   "source": [
    "learn_rate = torch.linspace(-3, 0, 1000)\n",
    "learn_rate_exponent = 10**learn_rate # spaced exponentially in this interval we get the same as the linear way of using linspace..see above comment.. 10**-3 = 0.001\n",
    "learn_rate_exponent"
   ]
  },
  {
   "cell_type": "code",
   "execution_count": 85,
   "metadata": {},
   "outputs": [
    {
     "name": "stdout",
     "output_type": "stream",
     "text": [
      "6.281491279602051\n"
     ]
    }
   ],
   "source": [
    "# continuing the optimization\n",
    "\n",
    "# Training loop\n",
    "lri = [] # the learning rates that we used\n",
    "lossi = [] #losses\n",
    "\n",
    "for i in range(1000):\n",
    "    #with torch.cuda.device(device):\n",
    "        \n",
    "        # minibatch construct\n",
    "        ix = torch.randint(0, X.shape[0], (32,))\n",
    "\n",
    "        # Forward pass\n",
    "        embeddings = C[X[ix]]  # (32, 3, 2)\n",
    "        h = torch.tanh(embeddings.view(-1, 6) @ W1 + b1)  # (32, 100)\n",
    "        logits = h @ W2 + b2  # (32, 27)\n",
    "\n",
    "        loss = F.cross_entropy(logits, Y[ix])\n",
    "        \n",
    "\n",
    "        # Backward pass\n",
    "        for p in parameters:\n",
    "            p.grad = None\n",
    "        loss.backward()\n",
    "\n",
    "        # Update\n",
    "        learning_rate = learn_rate_exponent[i]\n",
    "        for p in parameters:\n",
    "            p.data += -learning_rate * p.grad\n",
    "\n",
    "        # track stats\n",
    "        lri.append(learning_rate)\n",
    "        lossi.append(loss.item())\n",
    "    \n",
    "print(loss.item())\n",
    "# the quality of our gradient is lower so the direction is not as reliable it's not the actual gradient direction"
   ]
  },
  {
   "cell_type": "code",
   "execution_count": 86,
   "metadata": {},
   "outputs": [
    {
     "data": {
      "text/plain": [
       "tensor(6.1893, device='cuda:0', grad_fn=<NllLossBackward0>)"
      ]
     },
     "execution_count": 86,
     "metadata": {},
     "output_type": "execute_result"
    }
   ],
   "source": [
    "# the total loss\n",
    "\n",
    "embeddings = C[X]  # (32, 3, 2)\n",
    "h = torch.tanh(embeddings.view(-1, 6) @ W1 + b1)  # (32, 100)\n",
    "logits = h @ W2 + b2  # (32, 27)\n",
    "loss = F.cross_entropy(logits, Y)\n",
    "loss"
   ]
  },
  {
   "cell_type": "code",
   "execution_count": 87,
   "metadata": {},
   "outputs": [
    {
     "data": {
      "text/plain": [
       "[<matplotlib.lines.Line2D at 0x7f409989f730>]"
      ]
     },
     "execution_count": 87,
     "metadata": {},
     "output_type": "execute_result"
    },
    {
     "data": {
      "image/png": "[encoded data removed]",
      "text/plain": [
       "<Figure size 640x480 with 1 Axes>"
      ]
     },
     "metadata": {},
     "output_type": "display_data"
    }
   ],
   "source": [
    "# plot where in the beginning you had very low learning rates so the nice spot is somewhere around 0.1 or 0.2 learning rate\n",
    "plt.plot(lri, lossi)"
   ]
  },
  {
   "cell_type": "code",
   "execution_count": 88,
   "metadata": {},
   "outputs": [
    {
     "name": "stdout",
     "output_type": "stream",
     "text": [
      "8.27756118774414\n"
     ]
    }
   ],
   "source": [
    "# continuing the optimization\n",
    "learn_rate = torch.linspace(-3, 0, 1000)\n",
    "learn_rate_exponent = 10**learn_rate\n",
    "\n",
    "# Training loop\n",
    "lri = []\n",
    "lossi = []\n",
    "\n",
    "for i in range(1000):\n",
    "    #with torch.cuda.device(device):\n",
    "        \n",
    "        # minibatch construct\n",
    "        ix = torch.randint(0, X.shape[0], (32,))\n",
    "\n",
    "        # Forward pass\n",
    "        embeddings = C[X[ix]]  # (32, 3, 2)\n",
    "        h = torch.tanh(embeddings.view(-1, 6) @ W1 + b1)  # (32, 100)\n",
    "        logits = h @ W2 + b2  # (32, 27)\n",
    "\n",
    "        loss = F.cross_entropy(logits, Y[ix])\n",
    "        \n",
    "\n",
    "        # Backward pass\n",
    "        for p in parameters:\n",
    "            p.grad = None\n",
    "        loss.backward()\n",
    "\n",
    "        # Update\n",
    "        learning_rate = learn_rate_exponent[i]\n",
    "        for p in parameters:\n",
    "            p.data += -learning_rate * p.grad\n",
    "\n",
    "        # track stats\n",
    "        lri.append(learn_rate[i]) # added i here\n",
    "        lossi.append(loss.item())\n",
    "    \n",
    "print(loss.item())\n",
    "# the quality of our gradient is lower so the direction is not as reliable it's not the actual gradient direction"
   ]
  },
  {
   "cell_type": "code",
   "execution_count": 89,
   "metadata": {},
   "outputs": [
    {
     "data": {
      "text/plain": [
       "tensor(6.9401, device='cuda:0', grad_fn=<NllLossBackward0>)"
      ]
     },
     "execution_count": 89,
     "metadata": {},
     "output_type": "execute_result"
    }
   ],
   "source": [
    "# the total loss\n",
    "\n",
    "embeddings = C[X]  # (32, 3, 2)\n",
    "h = torch.tanh(embeddings.view(-1, 6) @ W1 + b1)  # (32, 100)\n",
    "logits = h @ W2 + b2  # (32, 27)\n",
    "loss = F.cross_entropy(logits, Y)\n",
    "loss"
   ]
  },
  {
   "cell_type": "code",
   "execution_count": 90,
   "metadata": {},
   "outputs": [
    {
     "data": {
      "text/plain": [
       "[<matplotlib.lines.Line2D at 0x7f405769e770>]"
      ]
     },
     "execution_count": 90,
     "metadata": {},
     "output_type": "execute_result"
    },
    {
     "data": {
      "image/png": "[encoded data removed]",
      "text/plain": [
       "<Figure size 640x480 with 1 Axes>"
      ]
     },
     "metadata": {},
     "output_type": "display_data"
    }
   ],
   "source": [
    "# now on the x axis we have the exponent of the learning rate and so we can see the exponent of the learning rate that is good to use. Lowest point in the valley, so 10**-1 is 0.1, and this is actually what we have used before and is a pretty good setting (hyperparameter)\n",
    "plt.plot(lri, lossi)"
   ]
  },
  {
   "cell_type": "code",
   "execution_count": 92,
   "metadata": {},
   "outputs": [],
   "source": [
    "# continuing the optimization\n",
    "# learn_rate = torch.linspace(-3, 0, 1000)\n",
    "# learn_rate_exponent = 10**learn_rate\n",
    "\n",
    "# Training loop\n",
    "# lri = []\n",
    "# lossi = []\n",
    "\n",
    "for i in range(20000): # we crank up iterations\n",
    "        # minibatch construct\n",
    "        ix = torch.randint(0, X.shape[0], (32,))\n",
    "\n",
    "        # Forward pass\n",
    "        embeddings = C[X[ix]]  # (32, 3, 2)\n",
    "        h = torch.tanh(embeddings.view(-1, 6) @ W1 + b1)  # (32, 100)\n",
    "        logits = h @ W2 + b2  # (32, 27)\n",
    "\n",
    "        loss = F.cross_entropy(logits, Y[ix])\n",
    "        \n",
    "\n",
    "        # Backward pass\n",
    "        for p in parameters:\n",
    "            p.grad = None\n",
    "        loss.backward()\n",
    "\n",
    "        # Update\n",
    "        #learning_rate = learn_rate_exponent[i]\n",
    "        learning_rate = 0.1 # we have our good hyperparameter here\n",
    "\n",
    "        for p in parameters:\n",
    "            p.data += -learning_rate * p.grad\n",
    "\n",
    "        # track stats\n",
    "        # lri.append(learn_rate[i]) # added i here\n",
    "        # lossi.append(loss.item())\n",
    "    \n",
    "#print(loss.item())"
   ]
  },
  {
   "cell_type": "code",
   "execution_count": 93,
   "metadata": {},
   "outputs": [
    {
     "data": {
      "text/plain": [
       "tensor(2.3474, device='cuda:0', grad_fn=<NllLossBackward0>)"
      ]
     },
     "execution_count": 93,
     "metadata": {},
     "output_type": "execute_result"
    }
   ],
   "source": [
    "# the total loss\n",
    "\n",
    "embeddings = C[X]  # (32, 3, 2)\n",
    "h = torch.tanh(embeddings.view(-1, 6) @ W1 + b1)  # (32, 100)\n",
    "logits = h @ W2 + b2  # (32, 27)\n",
    "loss = F.cross_entropy(logits, Y)\n",
    "loss"
   ]
  },
  {
   "cell_type": "code",
   "execution_count": 94,
   "metadata": {},
   "outputs": [],
   "source": [
    "for i in range(10000): # we crank up iterations\n",
    "        # minibatch construct\n",
    "        ix = torch.randint(0, X.shape[0], (32,))\n",
    "\n",
    "        # Forward pass\n",
    "        embeddings = C[X[ix]]  # (32, 3, 2)\n",
    "        h = torch.tanh(embeddings.view(-1, 6) @ W1 + b1)  # (32, 100)\n",
    "        logits = h @ W2 + b2  # (32, 27)\n",
    "\n",
    "        loss = F.cross_entropy(logits, Y[ix])\n",
    "        \n",
    "\n",
    "        # Backward pass\n",
    "        for p in parameters:\n",
    "            p.grad = None\n",
    "        loss.backward()\n",
    "\n",
    "        # Update\n",
    "        learning_rate = 0.01 # now we do learning rate decay in our last round of training by changing the learning rate by a factor of 10..so instead of 0.1 we use 0.01 now, so the score has a chance to improve \n",
    "\n",
    "        for p in parameters:\n",
    "            p.data += -learning_rate * p.grad\n",
    "\n",
    "        # track stats\n",
    "\n",
    "    \n",
    "#print(loss.item())"
   ]
  },
  {
   "cell_type": "code",
   "execution_count": 100,
   "metadata": {},
   "outputs": [
    {
     "data": {
      "text/plain": [
       "tensor(2.2951, device='cuda:0', grad_fn=<NllLossBackward0>)"
      ]
     },
     "execution_count": 100,
     "metadata": {},
     "output_type": "execute_result"
    }
   ],
   "source": [
    "# the total loss\n",
    "\n",
    "embeddings = C[X]  # (32, 3, 2)\n",
    "h = torch.tanh(embeddings.view(-1, 6) @ W1 + b1)  # (32, 100)\n",
    "logits = h @ W2 + b2  # (32, 27)\n",
    "loss = F.cross_entropy(logits, Y)\n",
    "loss"
   ]
  },
  {
   "cell_type": "code",
   "execution_count": null,
   "metadata": {},
   "outputs": [
    {
     "data": {
      "text/plain": [
       "3481"
      ]
     },
     "execution_count": 129,
     "metadata": {},
     "output_type": "execute_result"
    }
   ],
   "source": [
    "# if we increase the number of parameters, our model has the potential to overfit data, if we get to big numbers like milions of billions, and have a small dataset, we will most likely overfit (loss could be as low as 0), and loss on test data might be very high\n",
    "sum(p.nelement() for p in parameters) # number of parameters in total"
   ]
  },
  {
   "cell_type": "code",
   "execution_count": 102,
   "metadata": {},
   "outputs": [
    {
     "name": "stdout",
     "output_type": "stream",
     "text": [
      "torch.Size([182625, 3]) torch.Size([182625])\n",
      "torch.Size([22655, 3]) torch.Size([22655])\n",
      "torch.Size([22866, 3]) torch.Size([22866])\n"
     ]
    }
   ],
   "source": [
    "# training split, dev/validation split, test split. Training set of data is used for training parameters(obviously), dev/validation split is used for training the hyperparameters, and test split is used to evaluate the performance of the model\n",
    "# 80%, 10%, 10%\n",
    "# on the test split we evaluate our test loss very very sparingly, a few times, because every single time you evaluate your test loss, you are basically starting to also train on the test split\n",
    "words = open(\"names.txt\", 'r').read().splitlines()\n",
    "# build the vocabulary of characters and mappings to/from integers\n",
    "\n",
    "chars = sorted(list(set(''.join(words))))\n",
    "stoi = {s:i+1 for i,s in enumerate(chars)}\n",
    "stoi['.'] = 0\n",
    "itos = {i:s for s,i in stoi.items()}\n",
    "\n",
    "def build_dataset(words):\n",
    "    block_size = 3 # context length: how many character do we take to predict the next one\n",
    "    X, Y = [], []\n",
    "\n",
    "    for w in words:\n",
    "        context = [0] * block_size\n",
    "        for ch in w + '.':\n",
    "            ix = stoi[ch]\n",
    "            X.append(context)\n",
    "            Y.append(ix)\n",
    "            context = context[1:] + [ix] # crop and append\n",
    "    \n",
    "    X = torch.tensor(X)\n",
    "    Y = torch.tensor(Y)\n",
    "    print(X.shape, Y.shape)\n",
    "\n",
    "    return X, Y\n",
    "\n",
    "# shuffling of the words\n",
    "\n",
    "import random\n",
    "\n",
    "random.seed(42)\n",
    "random.shuffle(words) # the words are now shuffled between themselves\n",
    "\n",
    "split_80 = int(0.8*len(words)) # used to index 80% of the words\n",
    "split_90 = int(0.9*len(words)) # used to index 10%\n",
    "\n",
    "X_train, Y_train = build_dataset(words[:split_80])\n",
    "X_dev, Y_dev = build_dataset(words[split_80:split_90])\n",
    "X_test, Y_test = build_dataset(words[split_90:])"
   ]
  },
  {
   "cell_type": "code",
   "execution_count": 104,
   "metadata": {},
   "outputs": [
    {
     "data": {
      "text/plain": [
       "(25626, 28829)"
      ]
     },
     "execution_count": 104,
     "metadata": {},
     "output_type": "execute_result"
    }
   ],
   "source": [
    "split_80, split_90"
   ]
  }
 ],
 "metadata": {
  "kernelspec": {
   "display_name": "mlp-crlRM3oL-py3.10",
   "language": "python",
   "name": "python3"
  },
  "language_info": {
   "codemirror_mode": {
    "name": "ipython",
    "version": 3
   },
   "file_extension": ".py",
   "mimetype": "text/x-python",
   "name": "python",
   "nbconvert_exporter": "python",
   "pygments_lexer": "ipython3",
   "version": "3.10.12"
  }
 },
 "nbformat": 4,
 "nbformat_minor": 2
}
