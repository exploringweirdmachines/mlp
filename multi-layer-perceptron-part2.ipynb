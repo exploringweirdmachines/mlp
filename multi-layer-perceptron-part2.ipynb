{
 "cells": [
  {
   "cell_type": "markdown",
   "metadata": {},
   "source": [
    "# SECOND VIDEO STARTS HERE\n",
    "https://www.youtube.com/watch?v=TCH_1BHY58I"
   ]
  },
  {
   "cell_type": "markdown",
   "metadata": {},
   "source": [
    "## Now let's try to predict more than one character"
   ]
  },
  {
   "cell_type": "markdown",
   "metadata": {},
   "source": [
    "Next character in a sequence quickly blow up, the table size of counts table grows exponentially, if we only take a single character at a time, that's 27 posibilities, but if we take 2 characters and try to predict the next one, then 27 x 27, there's 729 posibilities, then if we take into context three chars, then suddenly we have 20000 posibilities, so there's way just too many rows of the matrix N, and doesn't work very well."
   ]
  },
  {
   "cell_type": "code",
   "execution_count": 3,
   "metadata": {},
   "outputs": [],
   "source": [
    "import torch\n",
    "import torch.nn.functional as F\n",
    "import matplotlib.pyplot as plt\n",
    "%matplotlib inline"
   ]
  },
  {
   "cell_type": "code",
   "execution_count": 4,
   "metadata": {},
   "outputs": [
    {
     "data": {
      "text/plain": [
       "['emma', 'olivia', 'ava', 'isabella', 'sophia', 'charlotte', 'mia', 'amelia']"
      ]
     },
     "execution_count": 4,
     "metadata": {},
     "output_type": "execute_result"
    }
   ],
   "source": [
    "words = open(\"names.txt\", 'r').read().splitlines()\n",
    "words[:8]"
   ]
  },
  {
   "cell_type": "code",
   "execution_count": 5,
   "metadata": {},
   "outputs": [
    {
     "data": {
      "text/plain": [
       "32033"
      ]
     },
     "execution_count": 5,
     "metadata": {},
     "output_type": "execute_result"
    }
   ],
   "source": [
    "len(words)"
   ]
  },
  {
   "cell_type": "code",
   "execution_count": 6,
   "metadata": {},
   "outputs": [
    {
     "data": {
      "text/plain": [
       "{1: 'a',\n",
       " 2: 'b',\n",
       " 3: 'c',\n",
       " 4: 'd',\n",
       " 5: 'e',\n",
       " 6: 'f',\n",
       " 7: 'g',\n",
       " 8: 'h',\n",
       " 9: 'i',\n",
       " 10: 'j',\n",
       " 11: 'k',\n",
       " 12: 'l',\n",
       " 13: 'm',\n",
       " 14: 'n',\n",
       " 15: 'o',\n",
       " 16: 'p',\n",
       " 17: 'q',\n",
       " 18: 'r',\n",
       " 19: 's',\n",
       " 20: 't',\n",
       " 21: 'u',\n",
       " 22: 'v',\n",
       " 23: 'w',\n",
       " 24: 'x',\n",
       " 25: 'y',\n",
       " 26: 'z',\n",
       " 0: '.'}"
      ]
     },
     "execution_count": 6,
     "metadata": {},
     "output_type": "execute_result"
    }
   ],
   "source": [
    "# build the vocabulary of characters and mappings to/from integers\n",
    "\n",
    "chars = sorted(list(set(''.join(words))))\n",
    "stoi = {s:i+1 for i,s in enumerate(chars)}\n",
    "stoi['.'] = 0\n",
    "itos = {i:s for s,i in stoi.items()}\n",
    "itos"
   ]
  },
  {
   "cell_type": "code",
   "execution_count": 7,
   "metadata": {},
   "outputs": [
    {
     "name": "stdout",
     "output_type": "stream",
     "text": [
      "emma\n",
      "... ----> e\n",
      "..e ----> m\n",
      ".em ----> m\n",
      "emm ----> a\n",
      "mma ----> .\n",
      "olivia\n",
      "... ----> o\n",
      "..o ----> l\n",
      ".ol ----> i\n",
      "oli ----> v\n",
      "liv ----> i\n",
      "ivi ----> a\n",
      "via ----> .\n",
      "ava\n",
      "... ----> a\n",
      "..a ----> v\n",
      ".av ----> a\n",
      "ava ----> .\n",
      "isabella\n",
      "... ----> i\n",
      "..i ----> s\n",
      ".is ----> a\n",
      "isa ----> b\n",
      "sab ----> e\n",
      "abe ----> l\n",
      "bel ----> l\n",
      "ell ----> a\n",
      "lla ----> .\n",
      "sophia\n",
      "... ----> s\n",
      "..s ----> o\n",
      ".so ----> p\n",
      "sop ----> h\n",
      "oph ----> i\n",
      "phi ----> a\n",
      "hia ----> .\n"
     ]
    }
   ],
   "source": [
    "# build the dataset\n",
    "\n",
    "block_size = 3 # context length: how many characters do we take to predict the next one\n",
    "X, Y = [], []\n",
    "\n",
    "for w in words[:5]:\n",
    "    print(w)\n",
    "    context = [0] * block_size\n",
    "\n",
    "    for ch in w + '.':\n",
    "        ix = stoi[ch]\n",
    "        X.append(context)\n",
    "        Y.append(ix)\n",
    "        print(''.join(itos[i] for i in context), '---->', itos[ix])\n",
    "        context = context[1:] + [ix] # crop and append\n",
    "\n",
    "X = torch.tensor(X)\n",
    "Y = torch.tensor(Y)\n",
    "# this is kind of like a rolling window of context\n"
   ]
  },
  {
   "cell_type": "code",
   "execution_count": 8,
   "metadata": {},
   "outputs": [
    {
     "data": {
      "text/plain": [
       "(torch.Size([32, 3]), torch.int64, torch.Size([32]), torch.int64)"
      ]
     },
     "execution_count": 8,
     "metadata": {},
     "output_type": "execute_result"
    }
   ],
   "source": [
    "X.shape, X.dtype, Y.shape, Y.dtype"
   ]
  },
  {
   "cell_type": "code",
   "execution_count": 9,
   "metadata": {},
   "outputs": [
    {
     "name": "stderr",
     "output_type": "stream",
     "text": [
      "/tmp/ipykernel_408443/871842550.py:3: UserWarning: Named tensors and all their associated APIs are an experimental feature and subject to change. Please do not use them for anything important until they are released as stable. (Triggered internally at ../c10/core/TensorImpl.h:1900.)\n",
      "  C = torch.randn((27, 2), names=[\"characters\", \"embeddings_2D\"])\n"
     ]
    },
    {
     "data": {
      "text/plain": [
       "tensor([[-1.5386e+00,  1.8487e+00],\n",
       "        [-6.7712e-01,  1.9750e+00],\n",
       "        [ 6.4264e-01,  7.5298e-01],\n",
       "        [ 4.1627e-01, -1.3786e+00],\n",
       "        [-4.4313e-01,  7.5561e-01],\n",
       "        [ 1.6538e+00, -1.6568e+00],\n",
       "        [-2.1692e+00,  1.2204e+00],\n",
       "        [ 4.9455e-02,  1.2173e-03],\n",
       "        [ 7.0645e-01, -6.2030e-01],\n",
       "        [ 1.7211e+00,  1.4553e+00],\n",
       "        [-4.0264e-01,  7.8527e-01],\n",
       "        [ 1.6993e+00,  1.3837e+00],\n",
       "        [ 7.3711e-01,  4.8597e-01],\n",
       "        [ 2.2373e-02, -1.1911e-01],\n",
       "        [ 4.6678e-01,  1.4867e+00],\n",
       "        [ 1.7984e-03,  1.6052e+00],\n",
       "        [ 9.0456e-01,  6.3669e-01],\n",
       "        [ 3.4110e-01, -1.7836e+00],\n",
       "        [-1.0568e+00, -1.0574e-01],\n",
       "        [-4.7952e-01, -1.0606e+00],\n",
       "        [-1.5863e+00, -5.8871e-01],\n",
       "        [-2.9061e-02,  1.1486e+00],\n",
       "        [ 2.8026e-01, -1.0524e+00],\n",
       "        [-1.2587e+00,  4.4348e-01],\n",
       "        [-7.2958e-01, -1.6767e+00],\n",
       "        [-3.1377e-01,  7.8485e-01],\n",
       "        [ 2.8619e-01, -2.7903e-01]], names=('characters', 'embeddings_2D'))"
      ]
     },
     "execution_count": 9,
     "metadata": {},
     "output_type": "execute_result"
    }
   ],
   "source": [
    "# Let's cram the 27 possible characters into a two-dimensional space\n",
    "\n",
    "C = torch.randn((27, 2), names=[\"characters\", \"embeddings_2D\"])\n",
    "C"
   ]
  },
  {
   "cell_type": "code",
   "execution_count": 10,
   "metadata": {},
   "outputs": [
    {
     "data": {
      "text/plain": [
       "tensor([ 1.6538, -1.6568], names=('embeddings_2D',))"
      ]
     },
     "execution_count": 10,
     "metadata": {},
     "output_type": "execute_result"
    }
   ],
   "source": [
    "# let's encode number 5, plucking out the sixth entry\n",
    "C[5]"
   ]
  },
  {
   "cell_type": "code",
   "execution_count": 11,
   "metadata": {},
   "outputs": [
    {
     "data": {
      "text/plain": [
       "tensor([ 1.6538, -1.6568], names=('embeddings_2D',))"
      ]
     },
     "execution_count": 11,
     "metadata": {},
     "output_type": "execute_result"
    }
   ],
   "source": [
    "F.one_hot(torch.tensor(5), num_classes=27).float() @ C"
   ]
  },
  {
   "cell_type": "code",
   "execution_count": 12,
   "metadata": {},
   "outputs": [
    {
     "data": {
      "text/plain": [
       "tensor([[ 1.6538e+00, -1.6568e+00],\n",
       "        [-2.1692e+00,  1.2204e+00],\n",
       "        [ 4.9455e-02,  1.2173e-03]])"
      ]
     },
     "execution_count": 12,
     "metadata": {},
     "output_type": "execute_result"
    }
   ],
   "source": [
    "C = C.rename(None)\n",
    "C[[5, 6, 7]].rename(None)"
   ]
  },
  {
   "cell_type": "code",
   "execution_count": 13,
   "metadata": {},
   "outputs": [
    {
     "data": {
      "text/plain": [
       "tensor([[ 1.6538e+00, -1.6568e+00],\n",
       "        [-2.1692e+00,  1.2204e+00],\n",
       "        [ 4.9455e-02,  1.2173e-03]])"
      ]
     },
     "execution_count": 13,
     "metadata": {},
     "output_type": "execute_result"
    }
   ],
   "source": [
    "C[torch.tensor([5, 6, 7])]"
   ]
  },
  {
   "cell_type": "code",
   "execution_count": 14,
   "metadata": {},
   "outputs": [
    {
     "data": {
      "text/plain": [
       "tensor([[ 1.6538e+00, -1.6568e+00],\n",
       "        [-2.1692e+00,  1.2204e+00],\n",
       "        [ 4.9455e-02,  1.2173e-03],\n",
       "        [ 4.9455e-02,  1.2173e-03],\n",
       "        [ 4.9455e-02,  1.2173e-03],\n",
       "        [ 4.9455e-02,  1.2173e-03]])"
      ]
     },
     "execution_count": 14,
     "metadata": {},
     "output_type": "execute_result"
    }
   ],
   "source": [
    "C[torch.tensor([5, 6, 7, 7, 7, 7])]"
   ]
  },
  {
   "cell_type": "code",
   "execution_count": 15,
   "metadata": {},
   "outputs": [
    {
     "data": {
      "text/plain": [
       "torch.Size([32, 3, 2])"
      ]
     },
     "execution_count": 15,
     "metadata": {},
     "output_type": "execute_result"
    }
   ],
   "source": [
    "# torch indexing is awesome\n",
    "C[X].shape"
   ]
  },
  {
   "cell_type": "code",
   "execution_count": 16,
   "metadata": {},
   "outputs": [
    {
     "data": {
      "text/plain": [
       "tensor([[ 0,  0,  0],\n",
       "        [ 0,  0,  5],\n",
       "        [ 0,  5, 13],\n",
       "        [ 5, 13, 13],\n",
       "        [13, 13,  1],\n",
       "        [ 0,  0,  0],\n",
       "        [ 0,  0, 15],\n",
       "        [ 0, 15, 12],\n",
       "        [15, 12,  9],\n",
       "        [12,  9, 22],\n",
       "        [ 9, 22,  9],\n",
       "        [22,  9,  1],\n",
       "        [ 0,  0,  0],\n",
       "        [ 0,  0,  1],\n",
       "        [ 0,  1, 22],\n",
       "        [ 1, 22,  1],\n",
       "        [ 0,  0,  0],\n",
       "        [ 0,  0,  9],\n",
       "        [ 0,  9, 19],\n",
       "        [ 9, 19,  1],\n",
       "        [19,  1,  2],\n",
       "        [ 1,  2,  5],\n",
       "        [ 2,  5, 12],\n",
       "        [ 5, 12, 12],\n",
       "        [12, 12,  1],\n",
       "        [ 0,  0,  0],\n",
       "        [ 0,  0, 19],\n",
       "        [ 0, 19, 15],\n",
       "        [19, 15, 16],\n",
       "        [15, 16,  8],\n",
       "        [16,  8,  9],\n",
       "        [ 8,  9,  1]])"
      ]
     },
     "execution_count": 16,
     "metadata": {},
     "output_type": "execute_result"
    }
   ],
   "source": [
    "X"
   ]
  },
  {
   "cell_type": "code",
   "execution_count": 17,
   "metadata": {},
   "outputs": [
    {
     "data": {
      "text/plain": [
       "tensor([ 5, 13, 13,  1,  0, 15, 12,  9, 22,  9,  1,  0,  1, 22,  1,  0,  9, 19,\n",
       "         1,  2,  5, 12, 12,  1,  0, 19, 15, 16,  8,  9,  1,  0])"
      ]
     },
     "execution_count": 17,
     "metadata": {},
     "output_type": "execute_result"
    }
   ],
   "source": [
    "Y"
   ]
  },
  {
   "cell_type": "code",
   "execution_count": 18,
   "metadata": {},
   "outputs": [
    {
     "data": {
      "text/plain": [
       "tensor([-0.6771,  1.9750])"
      ]
     },
     "execution_count": 18,
     "metadata": {},
     "output_type": "execute_result"
    }
   ],
   "source": [
    "C[X][13, 2]"
   ]
  },
  {
   "cell_type": "code",
   "execution_count": 19,
   "metadata": {},
   "outputs": [
    {
     "data": {
      "text/plain": [
       "tensor([-0.6771,  1.9750])"
      ]
     },
     "execution_count": 19,
     "metadata": {},
     "output_type": "execute_result"
    }
   ],
   "source": [
    "C[1]"
   ]
  },
  {
   "cell_type": "code",
   "execution_count": 20,
   "metadata": {},
   "outputs": [
    {
     "data": {
      "text/plain": [
       "tensor([[-1.5386e+00,  1.8487e+00],\n",
       "        [-6.7712e-01,  1.9750e+00],\n",
       "        [ 6.4264e-01,  7.5298e-01],\n",
       "        [ 4.1627e-01, -1.3786e+00],\n",
       "        [-4.4313e-01,  7.5561e-01],\n",
       "        [ 1.6538e+00, -1.6568e+00],\n",
       "        [-2.1692e+00,  1.2204e+00],\n",
       "        [ 4.9455e-02,  1.2173e-03],\n",
       "        [ 7.0645e-01, -6.2030e-01],\n",
       "        [ 1.7211e+00,  1.4553e+00],\n",
       "        [-4.0264e-01,  7.8527e-01],\n",
       "        [ 1.6993e+00,  1.3837e+00],\n",
       "        [ 7.3711e-01,  4.8597e-01],\n",
       "        [ 2.2373e-02, -1.1911e-01],\n",
       "        [ 4.6678e-01,  1.4867e+00],\n",
       "        [ 1.7984e-03,  1.6052e+00],\n",
       "        [ 9.0456e-01,  6.3669e-01],\n",
       "        [ 3.4110e-01, -1.7836e+00],\n",
       "        [-1.0568e+00, -1.0574e-01],\n",
       "        [-4.7952e-01, -1.0606e+00],\n",
       "        [-1.5863e+00, -5.8871e-01],\n",
       "        [-2.9061e-02,  1.1486e+00],\n",
       "        [ 2.8026e-01, -1.0524e+00],\n",
       "        [-1.2587e+00,  4.4348e-01],\n",
       "        [-7.2958e-01, -1.6767e+00],\n",
       "        [-3.1377e-01,  7.8485e-01],\n",
       "        [ 2.8619e-01, -2.7903e-01]])"
      ]
     },
     "execution_count": 20,
     "metadata": {},
     "output_type": "execute_result"
    }
   ],
   "source": [
    "C"
   ]
  },
  {
   "cell_type": "code",
   "execution_count": 21,
   "metadata": {},
   "outputs": [
    {
     "data": {
      "text/plain": [
       "torch.Size([32, 3, 2])"
      ]
     },
     "execution_count": 21,
     "metadata": {},
     "output_type": "execute_result"
    }
   ],
   "source": [
    "# lookup table C\n",
    "embeddings = C[X]\n",
    "embeddings.shape"
   ]
  },
  {
   "cell_type": "code",
   "execution_count": 22,
   "metadata": {},
   "outputs": [
    {
     "data": {
      "text/plain": [
       "tensor([[[-1.5386e+00,  1.8487e+00],\n",
       "         [-1.5386e+00,  1.8487e+00],\n",
       "         [-1.5386e+00,  1.8487e+00]],\n",
       "\n",
       "        [[-1.5386e+00,  1.8487e+00],\n",
       "         [-1.5386e+00,  1.8487e+00],\n",
       "         [ 1.6538e+00, -1.6568e+00]],\n",
       "\n",
       "        [[-1.5386e+00,  1.8487e+00],\n",
       "         [ 1.6538e+00, -1.6568e+00],\n",
       "         [ 2.2373e-02, -1.1911e-01]],\n",
       "\n",
       "        [[ 1.6538e+00, -1.6568e+00],\n",
       "         [ 2.2373e-02, -1.1911e-01],\n",
       "         [ 2.2373e-02, -1.1911e-01]],\n",
       "\n",
       "        [[ 2.2373e-02, -1.1911e-01],\n",
       "         [ 2.2373e-02, -1.1911e-01],\n",
       "         [-6.7712e-01,  1.9750e+00]],\n",
       "\n",
       "        [[-1.5386e+00,  1.8487e+00],\n",
       "         [-1.5386e+00,  1.8487e+00],\n",
       "         [-1.5386e+00,  1.8487e+00]],\n",
       "\n",
       "        [[-1.5386e+00,  1.8487e+00],\n",
       "         [-1.5386e+00,  1.8487e+00],\n",
       "         [ 1.7984e-03,  1.6052e+00]],\n",
       "\n",
       "        [[-1.5386e+00,  1.8487e+00],\n",
       "         [ 1.7984e-03,  1.6052e+00],\n",
       "         [ 7.3711e-01,  4.8597e-01]],\n",
       "\n",
       "        [[ 1.7984e-03,  1.6052e+00],\n",
       "         [ 7.3711e-01,  4.8597e-01],\n",
       "         [ 1.7211e+00,  1.4553e+00]],\n",
       "\n",
       "        [[ 7.3711e-01,  4.8597e-01],\n",
       "         [ 1.7211e+00,  1.4553e+00],\n",
       "         [ 2.8026e-01, -1.0524e+00]],\n",
       "\n",
       "        [[ 1.7211e+00,  1.4553e+00],\n",
       "         [ 2.8026e-01, -1.0524e+00],\n",
       "         [ 1.7211e+00,  1.4553e+00]],\n",
       "\n",
       "        [[ 2.8026e-01, -1.0524e+00],\n",
       "         [ 1.7211e+00,  1.4553e+00],\n",
       "         [-6.7712e-01,  1.9750e+00]],\n",
       "\n",
       "        [[-1.5386e+00,  1.8487e+00],\n",
       "         [-1.5386e+00,  1.8487e+00],\n",
       "         [-1.5386e+00,  1.8487e+00]],\n",
       "\n",
       "        [[-1.5386e+00,  1.8487e+00],\n",
       "         [-1.5386e+00,  1.8487e+00],\n",
       "         [-6.7712e-01,  1.9750e+00]],\n",
       "\n",
       "        [[-1.5386e+00,  1.8487e+00],\n",
       "         [-6.7712e-01,  1.9750e+00],\n",
       "         [ 2.8026e-01, -1.0524e+00]],\n",
       "\n",
       "        [[-6.7712e-01,  1.9750e+00],\n",
       "         [ 2.8026e-01, -1.0524e+00],\n",
       "         [-6.7712e-01,  1.9750e+00]],\n",
       "\n",
       "        [[-1.5386e+00,  1.8487e+00],\n",
       "         [-1.5386e+00,  1.8487e+00],\n",
       "         [-1.5386e+00,  1.8487e+00]],\n",
       "\n",
       "        [[-1.5386e+00,  1.8487e+00],\n",
       "         [-1.5386e+00,  1.8487e+00],\n",
       "         [ 1.7211e+00,  1.4553e+00]],\n",
       "\n",
       "        [[-1.5386e+00,  1.8487e+00],\n",
       "         [ 1.7211e+00,  1.4553e+00],\n",
       "         [-4.7952e-01, -1.0606e+00]],\n",
       "\n",
       "        [[ 1.7211e+00,  1.4553e+00],\n",
       "         [-4.7952e-01, -1.0606e+00],\n",
       "         [-6.7712e-01,  1.9750e+00]],\n",
       "\n",
       "        [[-4.7952e-01, -1.0606e+00],\n",
       "         [-6.7712e-01,  1.9750e+00],\n",
       "         [ 6.4264e-01,  7.5298e-01]],\n",
       "\n",
       "        [[-6.7712e-01,  1.9750e+00],\n",
       "         [ 6.4264e-01,  7.5298e-01],\n",
       "         [ 1.6538e+00, -1.6568e+00]],\n",
       "\n",
       "        [[ 6.4264e-01,  7.5298e-01],\n",
       "         [ 1.6538e+00, -1.6568e+00],\n",
       "         [ 7.3711e-01,  4.8597e-01]],\n",
       "\n",
       "        [[ 1.6538e+00, -1.6568e+00],\n",
       "         [ 7.3711e-01,  4.8597e-01],\n",
       "         [ 7.3711e-01,  4.8597e-01]],\n",
       "\n",
       "        [[ 7.3711e-01,  4.8597e-01],\n",
       "         [ 7.3711e-01,  4.8597e-01],\n",
       "         [-6.7712e-01,  1.9750e+00]],\n",
       "\n",
       "        [[-1.5386e+00,  1.8487e+00],\n",
       "         [-1.5386e+00,  1.8487e+00],\n",
       "         [-1.5386e+00,  1.8487e+00]],\n",
       "\n",
       "        [[-1.5386e+00,  1.8487e+00],\n",
       "         [-1.5386e+00,  1.8487e+00],\n",
       "         [-4.7952e-01, -1.0606e+00]],\n",
       "\n",
       "        [[-1.5386e+00,  1.8487e+00],\n",
       "         [-4.7952e-01, -1.0606e+00],\n",
       "         [ 1.7984e-03,  1.6052e+00]],\n",
       "\n",
       "        [[-4.7952e-01, -1.0606e+00],\n",
       "         [ 1.7984e-03,  1.6052e+00],\n",
       "         [ 9.0456e-01,  6.3669e-01]],\n",
       "\n",
       "        [[ 1.7984e-03,  1.6052e+00],\n",
       "         [ 9.0456e-01,  6.3669e-01],\n",
       "         [ 7.0645e-01, -6.2030e-01]],\n",
       "\n",
       "        [[ 9.0456e-01,  6.3669e-01],\n",
       "         [ 7.0645e-01, -6.2030e-01],\n",
       "         [ 1.7211e+00,  1.4553e+00]],\n",
       "\n",
       "        [[ 7.0645e-01, -6.2030e-01],\n",
       "         [ 1.7211e+00,  1.4553e+00],\n",
       "         [-6.7712e-01,  1.9750e+00]]])"
      ]
     },
     "execution_count": 22,
     "metadata": {},
     "output_type": "execute_result"
    }
   ],
   "source": [
    "embeddings"
   ]
  },
  {
   "cell_type": "code",
   "execution_count": 23,
   "metadata": {},
   "outputs": [
    {
     "data": {
      "text/plain": [
       "(6, 2, 1)"
      ]
     },
     "execution_count": 23,
     "metadata": {},
     "output_type": "execute_result"
    }
   ],
   "source": [
    "embeddings.stride()"
   ]
  },
  {
   "cell_type": "code",
   "execution_count": 24,
   "metadata": {},
   "outputs": [],
   "source": [
    "# implementing the hidden layer\n",
    "\n",
    "W1 = torch.randn((6, 100)) # the number of inputs to this layer will be 3 x 2 = 6, because we have two dimensional embeddings and we have three of them; let's do 100 neurons\n",
    "b1 = torch.randn(100)"
   ]
  },
  {
   "cell_type": "code",
   "execution_count": 25,
   "metadata": {},
   "outputs": [
    {
     "data": {
      "text/plain": [
       "(tensor([[-1.5386e+00,  1.8487e+00],\n",
       "         [-1.5386e+00,  1.8487e+00],\n",
       "         [-1.5386e+00,  1.8487e+00],\n",
       "         [ 1.6538e+00, -1.6568e+00],\n",
       "         [ 2.2373e-02, -1.1911e-01],\n",
       "         [-1.5386e+00,  1.8487e+00],\n",
       "         [-1.5386e+00,  1.8487e+00],\n",
       "         [-1.5386e+00,  1.8487e+00],\n",
       "         [ 1.7984e-03,  1.6052e+00],\n",
       "         [ 7.3711e-01,  4.8597e-01],\n",
       "         [ 1.7211e+00,  1.4553e+00],\n",
       "         [ 2.8026e-01, -1.0524e+00],\n",
       "         [-1.5386e+00,  1.8487e+00],\n",
       "         [-1.5386e+00,  1.8487e+00],\n",
       "         [-1.5386e+00,  1.8487e+00],\n",
       "         [-6.7712e-01,  1.9750e+00],\n",
       "         [-1.5386e+00,  1.8487e+00],\n",
       "         [-1.5386e+00,  1.8487e+00],\n",
       "         [-1.5386e+00,  1.8487e+00],\n",
       "         [ 1.7211e+00,  1.4553e+00],\n",
       "         [-4.7952e-01, -1.0606e+00],\n",
       "         [-6.7712e-01,  1.9750e+00],\n",
       "         [ 6.4264e-01,  7.5298e-01],\n",
       "         [ 1.6538e+00, -1.6568e+00],\n",
       "         [ 7.3711e-01,  4.8597e-01],\n",
       "         [-1.5386e+00,  1.8487e+00],\n",
       "         [-1.5386e+00,  1.8487e+00],\n",
       "         [-1.5386e+00,  1.8487e+00],\n",
       "         [-4.7952e-01, -1.0606e+00],\n",
       "         [ 1.7984e-03,  1.6052e+00],\n",
       "         [ 9.0456e-01,  6.3669e-01],\n",
       "         [ 7.0645e-01, -6.2030e-01]]),\n",
       " tensor([[-1.5386e+00,  1.8487e+00],\n",
       "         [-1.5386e+00,  1.8487e+00],\n",
       "         [ 1.6538e+00, -1.6568e+00],\n",
       "         [ 2.2373e-02, -1.1911e-01],\n",
       "         [ 2.2373e-02, -1.1911e-01],\n",
       "         [-1.5386e+00,  1.8487e+00],\n",
       "         [-1.5386e+00,  1.8487e+00],\n",
       "         [ 1.7984e-03,  1.6052e+00],\n",
       "         [ 7.3711e-01,  4.8597e-01],\n",
       "         [ 1.7211e+00,  1.4553e+00],\n",
       "         [ 2.8026e-01, -1.0524e+00],\n",
       "         [ 1.7211e+00,  1.4553e+00],\n",
       "         [-1.5386e+00,  1.8487e+00],\n",
       "         [-1.5386e+00,  1.8487e+00],\n",
       "         [-6.7712e-01,  1.9750e+00],\n",
       "         [ 2.8026e-01, -1.0524e+00],\n",
       "         [-1.5386e+00,  1.8487e+00],\n",
       "         [-1.5386e+00,  1.8487e+00],\n",
       "         [ 1.7211e+00,  1.4553e+00],\n",
       "         [-4.7952e-01, -1.0606e+00],\n",
       "         [-6.7712e-01,  1.9750e+00],\n",
       "         [ 6.4264e-01,  7.5298e-01],\n",
       "         [ 1.6538e+00, -1.6568e+00],\n",
       "         [ 7.3711e-01,  4.8597e-01],\n",
       "         [ 7.3711e-01,  4.8597e-01],\n",
       "         [-1.5386e+00,  1.8487e+00],\n",
       "         [-1.5386e+00,  1.8487e+00],\n",
       "         [-4.7952e-01, -1.0606e+00],\n",
       "         [ 1.7984e-03,  1.6052e+00],\n",
       "         [ 9.0456e-01,  6.3669e-01],\n",
       "         [ 7.0645e-01, -6.2030e-01],\n",
       "         [ 1.7211e+00,  1.4553e+00]]),\n",
       " tensor([[-1.5386e+00,  1.8487e+00],\n",
       "         [ 1.6538e+00, -1.6568e+00],\n",
       "         [ 2.2373e-02, -1.1911e-01],\n",
       "         [ 2.2373e-02, -1.1911e-01],\n",
       "         [-6.7712e-01,  1.9750e+00],\n",
       "         [-1.5386e+00,  1.8487e+00],\n",
       "         [ 1.7984e-03,  1.6052e+00],\n",
       "         [ 7.3711e-01,  4.8597e-01],\n",
       "         [ 1.7211e+00,  1.4553e+00],\n",
       "         [ 2.8026e-01, -1.0524e+00],\n",
       "         [ 1.7211e+00,  1.4553e+00],\n",
       "         [-6.7712e-01,  1.9750e+00],\n",
       "         [-1.5386e+00,  1.8487e+00],\n",
       "         [-6.7712e-01,  1.9750e+00],\n",
       "         [ 2.8026e-01, -1.0524e+00],\n",
       "         [-6.7712e-01,  1.9750e+00],\n",
       "         [-1.5386e+00,  1.8487e+00],\n",
       "         [ 1.7211e+00,  1.4553e+00],\n",
       "         [-4.7952e-01, -1.0606e+00],\n",
       "         [-6.7712e-01,  1.9750e+00],\n",
       "         [ 6.4264e-01,  7.5298e-01],\n",
       "         [ 1.6538e+00, -1.6568e+00],\n",
       "         [ 7.3711e-01,  4.8597e-01],\n",
       "         [ 7.3711e-01,  4.8597e-01],\n",
       "         [-6.7712e-01,  1.9750e+00],\n",
       "         [-1.5386e+00,  1.8487e+00],\n",
       "         [-4.7952e-01, -1.0606e+00],\n",
       "         [ 1.7984e-03,  1.6052e+00],\n",
       "         [ 9.0456e-01,  6.3669e-01],\n",
       "         [ 7.0645e-01, -6.2030e-01],\n",
       "         [ 1.7211e+00,  1.4553e+00],\n",
       "         [-6.7712e-01,  1.9750e+00]]))"
      ]
     },
     "execution_count": 25,
     "metadata": {},
     "output_type": "execute_result"
    }
   ],
   "source": [
    "# we can't do embeddings @ W1 + b1 because the embeddings are stacked up and tensor dimensions aren't fit with each other\n",
    "# there are usually many ways to implement this, some are faster, some are shorter etc. torch is large\n",
    "\n",
    "embeddings[:, 0, :], embeddings[:, 1, :], embeddings[:, 2, :]"
   ]
  },
  {
   "cell_type": "code",
   "execution_count": 26,
   "metadata": {},
   "outputs": [
    {
     "data": {
      "text/plain": [
       "torch.Size([32, 6])"
      ]
     },
     "execution_count": 26,
     "metadata": {},
     "output_type": "execute_result"
    }
   ],
   "source": [
    "torch.cat([embeddings[:, 0, :], embeddings[:, 1, :], embeddings[:, 2, :]], 1).shape"
   ]
  },
  {
   "cell_type": "code",
   "execution_count": 27,
   "metadata": {},
   "outputs": [
    {
     "data": {
      "text/plain": [
       "torch.Size([32, 6])"
      ]
     },
     "execution_count": 27,
     "metadata": {},
     "output_type": "execute_result"
    }
   ],
   "source": [
    "torch.cat(torch.unbind(embeddings, 1), 1).shape"
   ]
  },
  {
   "cell_type": "code",
   "execution_count": 28,
   "metadata": {},
   "outputs": [
    {
     "data": {
      "text/plain": [
       "tensor([ 0,  1,  2,  3,  4,  5,  6,  7,  8,  9, 10, 11, 12, 13, 14, 15, 16, 17])"
      ]
     },
     "execution_count": 28,
     "metadata": {},
     "output_type": "execute_result"
    }
   ],
   "source": [
    "a = torch.arange(18)\n",
    "a"
   ]
  },
  {
   "cell_type": "code",
   "execution_count": 29,
   "metadata": {},
   "outputs": [
    {
     "data": {
      "text/plain": [
       "tensor([ 0,  1,  2,  3,  4,  5,  6,  7,  8,  9, 10, 11, 12, 13, 14, 15, 16, 17])"
      ]
     },
     "execution_count": 29,
     "metadata": {},
     "output_type": "execute_result"
    }
   ],
   "source": [
    "a"
   ]
  },
  {
   "cell_type": "code",
   "execution_count": 30,
   "metadata": {},
   "outputs": [],
   "source": [
    "# .view is extremely efficient\n",
    "b = a.view(3, 3, 2)"
   ]
  },
  {
   "cell_type": "code",
   "execution_count": 31,
   "metadata": {},
   "outputs": [
    {
     "name": "stderr",
     "output_type": "stream",
     "text": [
      "/tmp/ipykernel_408443/3076968323.py:1: UserWarning: TypedStorage is deprecated. It will be removed in the future and UntypedStorage will be the only storage class. This should only matter to you if you are using storages directly.  To access UntypedStorage directly, use tensor.untyped_storage() instead of tensor.storage()\n",
      "  b.storage()\n"
     ]
    },
    {
     "data": {
      "text/plain": [
       " 0\n",
       " 1\n",
       " 2\n",
       " 3\n",
       " 4\n",
       " 5\n",
       " 6\n",
       " 7\n",
       " 8\n",
       " 9\n",
       " 10\n",
       " 11\n",
       " 12\n",
       " 13\n",
       " 14\n",
       " 15\n",
       " 16\n",
       " 17\n",
       "[torch.storage.TypedStorage(dtype=torch.int64, device=cpu) of size 18]"
      ]
     },
     "execution_count": 31,
     "metadata": {},
     "output_type": "execute_result"
    }
   ],
   "source": [
    "b.storage()"
   ]
  },
  {
   "cell_type": "code",
   "execution_count": 32,
   "metadata": {},
   "outputs": [
    {
     "data": {
      "text/plain": [
       "tensor([[-1.5386e+00,  1.8487e+00, -1.5386e+00,  1.8487e+00, -1.5386e+00,\n",
       "          1.8487e+00],\n",
       "        [-1.5386e+00,  1.8487e+00, -1.5386e+00,  1.8487e+00,  1.6538e+00,\n",
       "         -1.6568e+00],\n",
       "        [-1.5386e+00,  1.8487e+00,  1.6538e+00, -1.6568e+00,  2.2373e-02,\n",
       "         -1.1911e-01],\n",
       "        [ 1.6538e+00, -1.6568e+00,  2.2373e-02, -1.1911e-01,  2.2373e-02,\n",
       "         -1.1911e-01],\n",
       "        [ 2.2373e-02, -1.1911e-01,  2.2373e-02, -1.1911e-01, -6.7712e-01,\n",
       "          1.9750e+00],\n",
       "        [-1.5386e+00,  1.8487e+00, -1.5386e+00,  1.8487e+00, -1.5386e+00,\n",
       "          1.8487e+00],\n",
       "        [-1.5386e+00,  1.8487e+00, -1.5386e+00,  1.8487e+00,  1.7984e-03,\n",
       "          1.6052e+00],\n",
       "        [-1.5386e+00,  1.8487e+00,  1.7984e-03,  1.6052e+00,  7.3711e-01,\n",
       "          4.8597e-01],\n",
       "        [ 1.7984e-03,  1.6052e+00,  7.3711e-01,  4.8597e-01,  1.7211e+00,\n",
       "          1.4553e+00],\n",
       "        [ 7.3711e-01,  4.8597e-01,  1.7211e+00,  1.4553e+00,  2.8026e-01,\n",
       "         -1.0524e+00],\n",
       "        [ 1.7211e+00,  1.4553e+00,  2.8026e-01, -1.0524e+00,  1.7211e+00,\n",
       "          1.4553e+00],\n",
       "        [ 2.8026e-01, -1.0524e+00,  1.7211e+00,  1.4553e+00, -6.7712e-01,\n",
       "          1.9750e+00],\n",
       "        [-1.5386e+00,  1.8487e+00, -1.5386e+00,  1.8487e+00, -1.5386e+00,\n",
       "          1.8487e+00],\n",
       "        [-1.5386e+00,  1.8487e+00, -1.5386e+00,  1.8487e+00, -6.7712e-01,\n",
       "          1.9750e+00],\n",
       "        [-1.5386e+00,  1.8487e+00, -6.7712e-01,  1.9750e+00,  2.8026e-01,\n",
       "         -1.0524e+00],\n",
       "        [-6.7712e-01,  1.9750e+00,  2.8026e-01, -1.0524e+00, -6.7712e-01,\n",
       "          1.9750e+00],\n",
       "        [-1.5386e+00,  1.8487e+00, -1.5386e+00,  1.8487e+00, -1.5386e+00,\n",
       "          1.8487e+00],\n",
       "        [-1.5386e+00,  1.8487e+00, -1.5386e+00,  1.8487e+00,  1.7211e+00,\n",
       "          1.4553e+00],\n",
       "        [-1.5386e+00,  1.8487e+00,  1.7211e+00,  1.4553e+00, -4.7952e-01,\n",
       "         -1.0606e+00],\n",
       "        [ 1.7211e+00,  1.4553e+00, -4.7952e-01, -1.0606e+00, -6.7712e-01,\n",
       "          1.9750e+00],\n",
       "        [-4.7952e-01, -1.0606e+00, -6.7712e-01,  1.9750e+00,  6.4264e-01,\n",
       "          7.5298e-01],\n",
       "        [-6.7712e-01,  1.9750e+00,  6.4264e-01,  7.5298e-01,  1.6538e+00,\n",
       "         -1.6568e+00],\n",
       "        [ 6.4264e-01,  7.5298e-01,  1.6538e+00, -1.6568e+00,  7.3711e-01,\n",
       "          4.8597e-01],\n",
       "        [ 1.6538e+00, -1.6568e+00,  7.3711e-01,  4.8597e-01,  7.3711e-01,\n",
       "          4.8597e-01],\n",
       "        [ 7.3711e-01,  4.8597e-01,  7.3711e-01,  4.8597e-01, -6.7712e-01,\n",
       "          1.9750e+00],\n",
       "        [-1.5386e+00,  1.8487e+00, -1.5386e+00,  1.8487e+00, -1.5386e+00,\n",
       "          1.8487e+00],\n",
       "        [-1.5386e+00,  1.8487e+00, -1.5386e+00,  1.8487e+00, -4.7952e-01,\n",
       "         -1.0606e+00],\n",
       "        [-1.5386e+00,  1.8487e+00, -4.7952e-01, -1.0606e+00,  1.7984e-03,\n",
       "          1.6052e+00],\n",
       "        [-4.7952e-01, -1.0606e+00,  1.7984e-03,  1.6052e+00,  9.0456e-01,\n",
       "          6.3669e-01],\n",
       "        [ 1.7984e-03,  1.6052e+00,  9.0456e-01,  6.3669e-01,  7.0645e-01,\n",
       "         -6.2030e-01],\n",
       "        [ 9.0456e-01,  6.3669e-01,  7.0645e-01, -6.2030e-01,  1.7211e+00,\n",
       "          1.4553e+00],\n",
       "        [ 7.0645e-01, -6.2030e-01,  1.7211e+00,  1.4553e+00, -6.7712e-01,\n",
       "          1.9750e+00]])"
      ]
     },
     "execution_count": 32,
     "metadata": {},
     "output_type": "execute_result"
    }
   ],
   "source": [
    "embeddings.view(32, 6)"
   ]
  },
  {
   "cell_type": "code",
   "execution_count": 33,
   "metadata": {},
   "outputs": [
    {
     "data": {
      "text/plain": [
       "True"
      ]
     },
     "execution_count": 33,
     "metadata": {},
     "output_type": "execute_result"
    }
   ],
   "source": [
    "embeddings.view(32, 6).shape == torch.cat(torch.unbind(embeddings, 1), 1).shape == torch.cat([embeddings[:, 0, :], embeddings[:, 1, :], embeddings[:, 2, :]], 1).shape"
   ]
  },
  {
   "cell_type": "code",
   "execution_count": 34,
   "metadata": {},
   "outputs": [
    {
     "data": {
      "text/plain": [
       "torch.Size([32, 6])"
      ]
     },
     "execution_count": 34,
     "metadata": {},
     "output_type": "execute_result"
    }
   ],
   "source": [
    "# using -1, so we won't hardcode numbers, when we do -1, torch will infer what this should be\n",
    "h = embeddings.view(-1, 6)\n",
    "h.shape"
   ]
  },
  {
   "cell_type": "code",
   "execution_count": 35,
   "metadata": {},
   "outputs": [
    {
     "name": "stdout",
     "output_type": "stream",
     "text": [
      "torch.Size([32, 100])\n",
      "torch.Size([100])\n"
     ]
    },
    {
     "data": {
      "text/plain": [
       "tensor([[-0.8156, -0.5897,  0.9998,  ..., -0.4826,  0.8758, -0.9777],\n",
       "        [-0.9547, -0.7934, -0.9582,  ..., -0.9687, -0.9975,  0.9994],\n",
       "        [-0.9855,  0.2595,  0.1929,  ...,  0.9708,  0.8989,  0.9980],\n",
       "        ...,\n",
       "        [-0.9946, -0.0194, -0.4549,  ..., -0.6456, -0.9958, -0.1482],\n",
       "        [-0.9993, -0.9951, -0.9984,  ..., -0.7173, -0.9204, -1.0000],\n",
       "        [ 0.8983,  0.9852,  0.9880,  ..., -0.9917,  0.7021, -1.0000]])"
      ]
     },
     "execution_count": 35,
     "metadata": {},
     "output_type": "execute_result"
    }
   ],
   "source": [
    "W1 = torch.randn((6, 100)) # the number of inputs to this layer will be 3 x 2 = 6, because we have two dimensional embeddings and we have three of them; let's do 100 neurons\n",
    "b1 = torch.randn(100)\n",
    "h = torch.tanh(embeddings.view(-1, 6) @ W1 + b1) # bias will be added to all elements in the rows\n",
    "print(h.shape)\n",
    "print(b1.shape)\n",
    "h"
   ]
  },
  {
   "cell_type": "code",
   "execution_count": 36,
   "metadata": {},
   "outputs": [
    {
     "data": {
      "text/plain": [
       "tensor([[  4.8352,  -0.8113,  -5.2077,  -1.6692,  -8.6118,  -4.3560,  -4.4816,\n",
       "          -2.5404, -10.3583,  -9.4154,   3.7328, -13.4735,  -9.5245,   4.2486,\n",
       "          12.7284,   3.8295,  -8.1381,  12.6194,   6.0599,  -7.1012, -13.1742,\n",
       "           3.2031,   6.8065,   9.9618,  -0.3751,  -3.4676,   7.2946],\n",
       "        [ -4.3128,   7.1014,   4.7680,   2.1870, -18.6293,   4.9823,   5.0163,\n",
       "          -9.5518,   3.0199,   7.8746,   6.1167,   4.2357, -10.2116,  10.9785,\n",
       "          -6.8028, -19.0346,  -5.0495,  -0.9637,   3.0904, -11.2131,  -0.3035,\n",
       "          -9.0335,  -1.9587,   5.8284, -14.2298,  -2.4411,  -2.5042],\n",
       "        [ -1.6455,  -6.7552,   9.2235,  -7.3221,  -6.0991,  -1.8336,   7.8402,\n",
       "           5.8387,  -3.9031,  -5.6698,   2.5161,  -6.4892,  27.3049,   5.4840,\n",
       "          -1.3790,  -6.2014,   6.2420,   4.1894, -12.8097, -11.8332,   1.9206,\n",
       "           5.8368,  -9.8765,   2.3276,  11.4135,   5.3316,   3.8546]])"
      ]
     },
     "execution_count": 36,
     "metadata": {},
     "output_type": "execute_result"
    }
   ],
   "source": [
    "# let's create the final layer\n",
    "\n",
    "W2 = torch.randn((100, 27)) # the input now will be 100 because the hidden layer has 100 outputs, the output number of these neurons will be 27 because we have 27 possible characters\n",
    "b2 = torch.randn(27) # biases will be 27 as well\n",
    "\n",
    "logits = h @ W2 + b2\n",
    "logits[:3]"
   ]
  },
  {
   "cell_type": "code",
   "execution_count": 37,
   "metadata": {},
   "outputs": [
    {
     "data": {
      "text/plain": [
       "torch.Size([32, 27])"
      ]
     },
     "execution_count": 37,
     "metadata": {},
     "output_type": "execute_result"
    }
   ],
   "source": [
    "logits.shape"
   ]
  },
  {
   "cell_type": "code",
   "execution_count": 38,
   "metadata": {},
   "outputs": [
    {
     "data": {
      "text/plain": [
       "tensor([[1.2587e+02, 4.4426e-01, 5.4744e-03, 1.8839e-01, 1.8194e-04, 1.2829e-02,\n",
       "         1.1315e-02, 7.8836e-02, 3.1729e-05, 8.1457e-05, 4.1796e+01, 1.4077e-06,\n",
       "         7.3041e-05, 7.0004e+01, 3.3720e+05, 4.6040e+01, 2.9218e-04, 3.0237e+05,\n",
       "         4.2831e+02, 8.2409e-04, 1.8991e-06, 2.4608e+01, 9.0373e+02, 2.1200e+04,\n",
       "         6.8721e-01, 3.1192e-02, 1.4724e+03],\n",
       "        [1.3396e-02, 1.2137e+03, 1.1769e+02, 8.9081e+00, 8.1173e-09, 1.4581e+02,\n",
       "         1.5084e+02, 7.1071e-05, 2.0489e+01, 2.6296e+03, 4.5338e+02, 6.9110e+01,\n",
       "         3.6743e-05, 5.8602e+04, 1.1106e-03, 5.4122e-09, 6.4127e-03, 3.8150e-01,\n",
       "         2.1985e+01, 1.3496e-05, 7.3824e-01, 1.1934e-04, 1.4105e-01, 3.3980e+02,\n",
       "         6.6083e-07, 8.7068e-02, 8.1743e-02],\n",
       "        [1.9292e-01, 1.1648e-03, 1.0133e+04, 6.6079e-04, 2.2448e-03, 1.5984e-01,\n",
       "         2.5406e+03, 3.4333e+02, 2.0178e-02, 3.4485e-03, 1.2380e+01, 1.5198e-03,\n",
       "         7.2174e+11, 2.4080e+02, 2.5184e-01, 2.0265e-03, 5.1387e+02, 6.5983e+01,\n",
       "         2.7340e-06, 7.2597e-06, 6.8249e+00, 3.4269e+02, 5.1366e-05, 1.0253e+01,\n",
       "         9.0532e+04, 2.0677e+02, 4.7209e+01]])"
      ]
     },
     "execution_count": 38,
     "metadata": {},
     "output_type": "execute_result"
    }
   ],
   "source": [
    "counts = logits.exp()\n",
    "counts[:3]"
   ]
  },
  {
   "cell_type": "code",
   "execution_count": 39,
   "metadata": {},
   "outputs": [
    {
     "data": {
      "text/plain": [
       "tensor([[1.8959e-04, 6.6919e-07, 8.2461e-09, 2.8377e-07, 2.7406e-10, 1.9324e-08,\n",
       "         1.7044e-08, 1.1875e-07, 4.7793e-11, 1.2270e-10, 6.2957e-05, 2.1205e-12,\n",
       "         1.1002e-10, 1.0545e-04, 5.0792e-01, 6.9350e-05, 4.4012e-10, 4.5545e-01,\n",
       "         6.4516e-04, 1.2413e-09, 2.8605e-12, 3.7067e-05, 1.3613e-03, 3.1934e-02,\n",
       "         1.0351e-06, 4.6985e-08, 2.2178e-03],\n",
       "        [2.1005e-07, 1.9031e-02, 1.8454e-03, 1.3968e-04, 1.2728e-13, 2.2864e-03,\n",
       "         2.3653e-03, 1.1144e-09, 3.2128e-04, 4.1233e-02, 7.1090e-03, 1.0837e-03,\n",
       "         5.7614e-10, 9.1889e-01, 1.7415e-08, 8.4865e-14, 1.0055e-07, 5.9819e-06,\n",
       "         3.4473e-04, 2.1163e-10, 1.1576e-05, 1.8713e-09, 2.2116e-06, 5.3281e-03,\n",
       "         1.0362e-11, 1.3652e-06, 1.2817e-06],\n",
       "        [2.6730e-13, 1.6139e-15, 1.4040e-08, 9.1556e-16, 3.1102e-15, 2.2147e-13,\n",
       "         3.5202e-09, 4.7570e-10, 2.7958e-14, 4.7781e-15, 1.7153e-11, 2.1058e-15,\n",
       "         1.0000e+00, 3.3364e-10, 3.4894e-13, 2.8078e-15, 7.1200e-10, 9.1422e-11,\n",
       "         3.7881e-18, 1.0059e-17, 9.4563e-12, 4.7481e-10, 7.1171e-17, 1.4207e-11,\n",
       "         1.2544e-07, 2.8649e-10, 6.5411e-11]])"
      ]
     },
     "execution_count": 39,
     "metadata": {},
     "output_type": "execute_result"
    }
   ],
   "source": [
    "prob = counts / counts.sum(1, keepdim=True)\n",
    "prob[:3]"
   ]
  },
  {
   "cell_type": "code",
   "execution_count": 40,
   "metadata": {},
   "outputs": [
    {
     "data": {
      "text/plain": [
       "tensor(1.0000)"
      ]
     },
     "execution_count": 40,
     "metadata": {},
     "output_type": "execute_result"
    }
   ],
   "source": [
    "prob[0].sum()"
   ]
  },
  {
   "cell_type": "code",
   "execution_count": 41,
   "metadata": {},
   "outputs": [
    {
     "data": {
      "text/plain": [
       "tensor([ 5, 13, 13,  1,  0, 15, 12,  9, 22,  9,  1,  0,  1, 22,  1,  0,  9, 19,\n",
       "         1,  2,  5, 12, 12,  1,  0, 19, 15, 16,  8,  9,  1,  0])"
      ]
     },
     "execution_count": 41,
     "metadata": {},
     "output_type": "execute_result"
    }
   ],
   "source": [
    "# index into the rows of prob and in each row pluck out the probability assigned to the correct character\n",
    "Y"
   ]
  },
  {
   "cell_type": "code",
   "execution_count": 42,
   "metadata": {},
   "outputs": [
    {
     "data": {
      "text/plain": [
       "tensor([1.9324e-08, 9.1889e-01, 3.3364e-10, 4.4633e-01, 5.1886e-05, 6.9350e-05,\n",
       "        8.6384e-10, 9.2564e-02, 7.1187e-09, 9.1351e-05, 1.6712e-09, 8.4133e-08,\n",
       "        6.6919e-07, 4.0736e-04, 1.8228e-07, 1.5693e-07, 1.2270e-10, 2.0883e-09,\n",
       "        1.5495e-14, 2.9964e-08, 2.6122e-10, 8.7837e-08, 6.1697e-01, 3.2713e-01,\n",
       "        6.6076e-06, 1.2413e-09, 2.6503e-07, 5.8911e-08, 1.1901e-06, 2.1394e-05,\n",
       "        2.4917e-10, 3.4066e-08])"
      ]
     },
     "execution_count": 42,
     "metadata": {},
     "output_type": "execute_result"
    }
   ],
   "source": [
    "prob[torch.arange(32), Y]"
   ]
  },
  {
   "cell_type": "code",
   "execution_count": 43,
   "metadata": {},
   "outputs": [
    {
     "data": {
      "text/plain": [
       "tensor(14.3971)"
      ]
     },
     "execution_count": 43,
     "metadata": {},
     "output_type": "execute_result"
    }
   ],
   "source": [
    "loss = -prob[torch.arange(32), Y].log().mean()\n",
    "loss"
   ]
  },
  {
   "cell_type": "markdown",
   "metadata": {},
   "source": [
    "### Rewrite"
   ]
  },
  {
   "cell_type": "markdown",
   "metadata": {},
   "source": [
    "In machine learning, parameters and hyperparameters are fundamental concepts.\n",
    "\n",
    "    Parameters: Parameters are the internal variables whose values are learned from the training data during the model fitting process. These parameters define the structure and behavior of the model. For example, in a simple linear regression model, parameters would be the coefficients and the intercept. In a neural network, parameters would include the weights and biases of the neurons in each layer.\n",
    "\n",
    "    Hyperparameters: Hyperparameters are external configuration settings that are not learned from the data but are set prior to the training process. They control the learning process and the overall behavior of the model. Examples of hyperparameters include the learning rate, regularization strength, number of hidden layers in a neural network, and the choice of algorithm itself.\n",
    "\n",
    "The key differences between parameters and hyperparameters are:\n",
    "\n",
    "    Parameters are learned during the training process, while hyperparameters are set before the training process.\n",
    "    Parameters are specific to the model and its structure, while hyperparameters are external factors that affect the learning process.\n",
    "\n",
    "Tuning hyperparameters effectively is crucial for optimizing a model's performance. This process often involves experimentation, such as using techniques like grid search or random search to find the best combination of hyperparameters for a given task and dataset."
   ]
  },
  {
   "cell_type": "markdown",
   "metadata": {},
   "source": [
    "    C, W1, b1, W2, and b2 are tensors. These tensors represent the weights and biases of a neural network. They are learned during the training process and directly affect the behavior of the model based on the data. Therefore, they are parameters.\n",
    "\n",
    "    Hyperparameters, on the other hand, are external settings that control the learning process itself, such as the learning rate, regularization strength, or the structure of the network (e.g., number of layers, number of neurons per layer). These hyperparameters are not learned from the data but are set by the user before the training process begins."
   ]
  },
  {
   "cell_type": "code",
   "execution_count": 44,
   "metadata": {},
   "outputs": [
    {
     "data": {
      "text/plain": [
       "(torch.Size([32, 3]), torch.Size([32]))"
      ]
     },
     "execution_count": 44,
     "metadata": {},
     "output_type": "execute_result"
    }
   ],
   "source": [
    "X.shape, Y.shape"
   ]
  },
  {
   "cell_type": "code",
   "execution_count": 45,
   "metadata": {},
   "outputs": [],
   "source": [
    "g = torch.Generator().manual_seed(2147483647) \n",
    "C = torch.randn((27, 2), generator=g)\n",
    "W1 = torch.randn((6, 100), generator=g)\n",
    "b1 = torch.randn(100, generator=g)\n",
    "W2 = torch.randn((100, 27), generator=g)\n",
    "b2 = torch.randn((27), generator=g)\n",
    "parameters = [C, W1, b1, W2, b2]"
   ]
  },
  {
   "cell_type": "code",
   "execution_count": 46,
   "metadata": {},
   "outputs": [
    {
     "data": {
      "text/plain": [
       "3481"
      ]
     },
     "execution_count": 46,
     "metadata": {},
     "output_type": "execute_result"
    }
   ],
   "source": [
    "sum(p.nelement() for p in parameters) # number of parameters in total"
   ]
  },
  {
   "cell_type": "code",
   "execution_count": 47,
   "metadata": {},
   "outputs": [
    {
     "data": {
      "text/plain": [
       "tensor(17.7697)"
      ]
     },
     "execution_count": 47,
     "metadata": {},
     "output_type": "execute_result"
    }
   ],
   "source": [
    "# forward pass\n",
    "embeddings = C[X] # (32, 3, 2)\n",
    "h = torch.tanh(embeddings.view(-1, 6) @ W1 + b1) # (32, 100) \n",
    "logits = h @ W2 + b2 # (32, 27)\n",
    "\n",
    "# embeddings = C[X] performs the first step of the forward pass, where the input X is used to index into the tensor C to obtain the corresponding embeddings. This step transforms the input into a higher-dimensional representation based on the embedding matrix C.\n",
    "# h = torch.tanh(embeddings.view(-1, 6) @ W1 + b1) represents the propagation of the transformed input through the first hidden layer of the neural network. It computes the activations of the neurons in the hidden layer using the hyperbolic tangent (tanh) activation function.\n",
    "# logits = h @ W2 + b2 calculates the final logits by propagating the activations from the hidden layer through the output layer of the neural network.\n",
    "# These three lines together constitute the forward pass of the neural network, where input data is processed through the layers of the network to generate predictions.\n",
    "\n",
    "# softmax\n",
    "counts = logits.exp()\n",
    "prob = counts / counts.sum(1, keepdim=True)\n",
    "\n",
    "# loss\n",
    "loss = -prob[torch.arange(32), Y].log().mean()\n",
    "loss"
   ]
  },
  {
   "cell_type": "code",
   "execution_count": 48,
   "metadata": {},
   "outputs": [
    {
     "data": {
      "text/plain": [
       "tensor(17.7697)"
      ]
     },
     "execution_count": 48,
     "metadata": {},
     "output_type": "execute_result"
    }
   ],
   "source": [
    "# let's make this even more respectable\n",
    "# what we did in the cell above is classification and for this there's cross_entropy function in pytorch.\n",
    "# we can simply call F.cross_entropy, pass in the logits and the array of targets Y, and this calculates the exact same loss\n",
    "\n",
    "F.cross_entropy(logits, Y)\n",
    "\n",
    "# when you use f.cross entropy by torch will not actually create all those intermediate tensors from the above cell, because these are all new tensors in memory and all this is fairly inefficient to run"
   ]
  },
  {
   "cell_type": "code",
   "execution_count": 49,
   "metadata": {},
   "outputs": [
    {
     "name": "stdout",
     "output_type": "stream",
     "text": [
      "tensor([3.7835e-44, 4.9787e-02, 1.0000e+00,        inf])\n"
     ]
    },
    {
     "data": {
      "text/plain": [
       "tensor([0., 0., 0., nan])"
      ]
     },
     "execution_count": 49,
     "metadata": {},
     "output_type": "execute_result"
    }
   ],
   "source": [
    "# also cross_entropy is very well behaved\n",
    "# bad behavior down here, when one logit is very positive, you get a nan\n",
    "\n",
    "logits = torch.tensor([-100, -3, 0, 100])\n",
    "counts = logits.exp()\n",
    "probs = counts / counts.sum()\n",
    "print(counts)\n",
    "probs"
   ]
  },
  {
   "cell_type": "code",
   "execution_count": 50,
   "metadata": {},
   "outputs": [
    {
     "data": {
      "text/plain": [
       "tensor([0.0000e+00, 1.4013e-45, 3.7835e-44, 1.0000e+00])"
      ]
     },
     "execution_count": 50,
     "metadata": {},
     "output_type": "execute_result"
    }
   ],
   "source": [
    "# the way pytorch solved this is by offsetting the problematic number by itself.\n",
    "\n",
    "logits = torch.tensor([-100, -3, 0, 100]) - 100\n",
    "counts = logits.exp()\n",
    "probs = counts / counts.sum()\n",
    "probs"
   ]
  },
  {
   "cell_type": "markdown",
   "metadata": {},
   "source": [
    "### implementing the training loop, overfitting one batch"
   ]
  },
  {
   "cell_type": "code",
   "execution_count": 51,
   "metadata": {},
   "outputs": [],
   "source": [
    "for p in parameters:\n",
    "    p.requires_grad = True"
   ]
  },
  {
   "cell_type": "code",
   "execution_count": 52,
   "metadata": {},
   "outputs": [
    {
     "name": "stdout",
     "output_type": "stream",
     "text": [
      "17.76971435546875\n",
      "13.656401634216309\n",
      "11.298768997192383\n",
      "9.452455520629883\n",
      "7.984262466430664\n",
      "6.891321182250977\n",
      "6.100014686584473\n",
      "5.452036380767822\n",
      "4.898151874542236\n",
      "4.414664268493652\n"
     ]
    }
   ],
   "source": [
    "for _ in range(10):\n",
    "    # forward pass\n",
    "    embeddings = C[X] # (32, 3, 2)\n",
    "    h = torch.tanh(embeddings.view(-1, 6) @ W1 + b1) # (32, 100) \n",
    "    logits = h @ W2 + b2 # (32, 27)\n",
    "\n",
    "    loss = F.cross_entropy(logits, Y)\n",
    "\n",
    "    print(loss.item())\n",
    "\n",
    "    # backward pass\n",
    "    for p in parameters:\n",
    "        p.grad = None\n",
    "    loss.backward()\n",
    "\n",
    "    # update\n",
    "    for p in parameters:\n",
    "        p.data += -0.1 * p.grad"
   ]
  },
  {
   "cell_type": "code",
   "execution_count": 53,
   "metadata": {},
   "outputs": [
    {
     "name": "stdout",
     "output_type": "stream",
     "text": [
      "0.25609633326530457\n"
     ]
    }
   ],
   "source": [
    "# run for a thousand times we get a very very low loss and that means that we're making very good predictions\n",
    "# now the reason that this is so straightforward right now is because we're only overfitting 32 examples,\n",
    "# so we only have 32 examples of the first 5 words and therefore it's very easy to make this neural net fit only these two 32\n",
    "# because we have 3400 parameters and only 32 examples so we're doing what's called overfitting a single batch of the data and getting a very low loss and good predictions, but that's just because we have so many parameters for so few examples so it's easy to make this be very low\n",
    "\n",
    "for _ in range(1000):\n",
    "    # forward pass\n",
    "    embeddings = C[X] # (32, 3, 2)\n",
    "    h = torch.tanh(embeddings.view(-1, 6) @ W1 + b1) # (32, 100) \n",
    "    logits = h @ W2 + b2 # (32, 27)\n",
    "\n",
    "    loss = F.cross_entropy(logits, Y)\n",
    "\n",
    "    # backward pass\n",
    "    for p in parameters:\n",
    "        p.grad = None\n",
    "    loss.backward()\n",
    "\n",
    "    # update\n",
    "    for p in parameters:\n",
    "        p.data += -0.1 * p.grad\n",
    "\n",
    "print(loss.item())"
   ]
  },
  {
   "cell_type": "code",
   "execution_count": 54,
   "metadata": {},
   "outputs": [],
   "source": [
    "# Moving tensors to the GPU\n",
    "\n",
    "g = torch.Generator().manual_seed(2147483647) \n",
    "C = torch.randn((27, 2), generator=g)\n",
    "W1 = torch.randn((6, 100), generator=g)\n",
    "b1 = torch.randn(100, generator=g)\n",
    "W2 = torch.randn((100, 27), generator=g)\n",
    "b2 = torch.randn((27), generator=g)\n",
    "\n",
    "# Define the parameters list\n",
    "parameters = [C, W1, b1, W2, b2]\n",
    "for p in parameters:\n",
    "    p.requires_grad = True\n",
    "\n",
    "# Move tensors to GPU\n",
    "device = torch.device(\"cuda\" if torch.cuda.is_available() else \"cpu\")\n",
    "C = C.to(device)\n",
    "W1 = W1.to(device)\n",
    "b1 = b1.to(device)\n",
    "W2 = W2.to(device)\n",
    "b2 = b2.to(device)\n",
    "X = X.to(device)\n",
    "Y = Y.to(device)"
   ]
  },
  {
   "cell_type": "code",
   "execution_count": null,
   "metadata": {},
   "outputs": [],
   "source": [
    "# Training loop\n",
    "for _ in range(1000):\n",
    "    with torch.cuda.device(device):\n",
    "        # Forward pass\n",
    "        embeddings = C[X]  # (32, 3, 2)\n",
    "        h = torch.tanh(embeddings.view(-1, 6) @ W1 + b1)  # (32, 100)\n",
    "        logits = h @ W2 + b2  # (32, 27)\n",
    "\n",
    "        loss = F.cross_entropy(logits, Y)\n",
    "\n",
    "        # Backward pass\n",
    "        for p in parameters:\n",
    "            p.grad = None\n",
    "        loss.backward()\n",
    "\n",
    "        # Update\n",
    "        for p in parameters:\n",
    "            p.data += -0.1 * p.grad\n",
    "\n",
    "print(loss.item())"
   ]
  },
  {
   "cell_type": "code",
   "execution_count": 56,
   "metadata": {},
   "outputs": [
    {
     "data": {
      "text/plain": [
       "torch.return_types.max(\n",
       "values=tensor([21.6638, 26.2643, 25.9028, 20.5271, 19.7233, 21.6638, 27.8875, 18.4312,\n",
       "        17.8855, 12.3067, 16.3167, 14.7824, 21.6638, 20.7853, 14.9944, 17.8890,\n",
       "        21.6638, 21.3690, 18.6206, 17.2354, 11.1006, 17.4859, 15.9277, 13.6605,\n",
       "        15.6246, 21.6638, 21.0790, 14.4026, 14.7089, 23.1252, 15.9744, 24.1714],\n",
       "       device='cuda:0', grad_fn=<MaxBackward0>),\n",
       "indices=tensor([10, 10,  9, 14, 10, 10, 10, 26,  9, 21,  2, 14, 10, 10, 10, 22, 10, 10,\n",
       "        10, 10, 14, 10, 26, 23, 20, 10, 10, 10, 23,  9, 14, 10],\n",
       "       device='cuda:0'))"
      ]
     },
     "execution_count": 56,
     "metadata": {},
     "output_type": "execute_result"
    }
   ],
   "source": [
    "logits.max(1)"
   ]
  },
  {
   "cell_type": "code",
   "execution_count": 57,
   "metadata": {},
   "outputs": [
    {
     "data": {
      "text/plain": [
       "tensor([ 5, 13, 13,  1,  0, 15, 12,  9, 22,  9,  1,  0,  1, 22,  1,  0,  9, 19,\n",
       "         1,  2,  5, 12, 12,  1,  0, 19, 15, 16,  8,  9,  1,  0],\n",
       "       device='cuda:0')"
      ]
     },
     "execution_count": 57,
     "metadata": {},
     "output_type": "execute_result"
    }
   ],
   "source": [
    "Y"
   ]
  },
  {
   "cell_type": "code",
   "execution_count": 88,
   "metadata": {},
   "outputs": [],
   "source": [
    "# build the dataset\n",
    "\n",
    "block_size = 3 # context length: how many characters do we take to predict the next one\n",
    "X, Y = [], []\n",
    "\n",
    "for w in words:\n",
    "    #print(w)\n",
    "    context = [0] * block_size\n",
    "\n",
    "    for ch in w + '.':\n",
    "        ix = stoi[ch]\n",
    "        X.append(context)\n",
    "        Y.append(ix)\n",
    "        #print(''.join(itos[i] for i in context), '---->', itos[ix])\n",
    "        context = context[1:] + [ix] # crop and append\n",
    "\n",
    "X = torch.tensor(X)\n",
    "Y = torch.tensor(Y)\n",
    "# this is kind of like a rolling window of context"
   ]
  },
  {
   "cell_type": "code",
   "execution_count": 89,
   "metadata": {},
   "outputs": [
    {
     "data": {
      "text/plain": [
       "(torch.Size([228146, 3]), torch.int64, torch.Size([228146]), torch.int64)"
      ]
     },
     "execution_count": 89,
     "metadata": {},
     "output_type": "execute_result"
    }
   ],
   "source": [
    "X.shape, X.dtype, Y.shape, Y.dtype"
   ]
  },
  {
   "cell_type": "code",
   "execution_count": 82,
   "metadata": {},
   "outputs": [],
   "source": [
    "C = torch.randn((27, 2))"
   ]
  },
  {
   "cell_type": "code",
   "execution_count": 83,
   "metadata": {},
   "outputs": [
    {
     "data": {
      "text/plain": [
       "torch.Size([228146, 3, 2])"
      ]
     },
     "execution_count": 83,
     "metadata": {},
     "output_type": "execute_result"
    }
   ],
   "source": [
    "embeddings = C[X]\n",
    "embeddings.shape"
   ]
  },
  {
   "cell_type": "code",
   "execution_count": 119,
   "metadata": {},
   "outputs": [],
   "source": [
    "# Moving tensors to the GPU\n",
    "device = torch.device(\"cuda\" if torch.cuda.is_available() else \"cpu\")\n",
    "\n",
    "g = torch.Generator().manual_seed(2147483647) \n",
    "C = torch.randn((27, 2), generator=g).to(device)\n",
    "W1 = torch.randn((6, 100), generator=g).to(device)\n",
    "b1 = torch.randn(100, generator=g).to(device)\n",
    "W2 = torch.randn((100, 27), generator=g).to(device)\n",
    "b2 = torch.randn((27), generator=g).to(device)\n",
    "\n",
    "\n",
    "\n",
    "# Define the parameters list\n",
    "parameters = [C, W1, b1, W2, b2]\n",
    "for p in parameters:\n",
    "    p.requires_grad = True\n",
    "\n",
    "# Move tensors to GPU\n",
    "\n",
    "embeddings = C[X]\n",
    "embeddings.to(device)\n",
    "\n",
    "X = X.to(device)\n",
    "Y = Y.to(device)"
   ]
  },
  {
   "cell_type": "code",
   "execution_count": 93,
   "metadata": {},
   "outputs": [
    {
     "data": {
      "text/plain": [
       "3481"
      ]
     },
     "execution_count": 93,
     "metadata": {},
     "output_type": "execute_result"
    }
   ],
   "source": [
    "sum(p.nelement() for p in parameters) # number of parameters in total"
   ]
  },
  {
   "cell_type": "code",
   "execution_count": 94,
   "metadata": {},
   "outputs": [
    {
     "name": "stdout",
     "output_type": "stream",
     "text": [
      "19.505231857299805\n",
      "17.084461212158203\n",
      "15.776474952697754\n",
      "14.833340644836426\n",
      "14.002630233764648\n",
      "13.25328540802002\n",
      "12.579960823059082\n",
      "11.983065605163574\n",
      "11.470518112182617\n",
      "11.051850318908691\n"
     ]
    }
   ],
   "source": [
    "# Training loop\n",
    "for _ in range(10):\n",
    "    #with torch.cuda.device(device):\n",
    "        # Forward pass\n",
    "        embeddings = C[X]  # (32, 3, 2)\n",
    "        h = torch.tanh(embeddings.view(-1, 6) @ W1 + b1)  # (32, 100)\n",
    "        logits = h @ W2 + b2  # (32, 27)\n",
    "\n",
    "        loss = F.cross_entropy(logits, Y)\n",
    "        print(loss.item())\n",
    "\n",
    "        # Backward pass\n",
    "        for p in parameters:\n",
    "            p.grad = None\n",
    "        loss.backward()\n",
    "\n",
    "        # Update\n",
    "        for p in parameters:\n",
    "            p.data += -0.1 * p.grad\n"
   ]
  },
  {
   "cell_type": "code",
   "execution_count": 95,
   "metadata": {},
   "outputs": [
    {
     "data": {
      "text/plain": [
       "tensor([0, 1, 0, 4, 0, 4, 3, 3, 3, 1, 0, 2, 0, 4, 3, 4, 1, 2, 0, 3, 4, 1, 4, 4,\n",
       "        1, 4, 3, 2, 1, 1, 0, 4])"
      ]
     },
     "execution_count": 95,
     "metadata": {},
     "output_type": "execute_result"
    }
   ],
   "source": [
    "# we're doing way too much work forwarding and backwarding 220000 examples\n",
    "# in practice what people usually do is they perform forward and backward pass and update on minibatches of the data\n",
    "# will do a random select of some portion of the dataset, that's a minibatch, and then only forward backward and update on that little mini batch and then we iterate on those many batches\n",
    "\n",
    "torch.randint(0, 5, (32,))"
   ]
  },
  {
   "cell_type": "code",
   "execution_count": 96,
   "metadata": {},
   "outputs": [
    {
     "data": {
      "text/plain": [
       "tensor([ 75852,  88991,  43624, 173297, 150882,   1304, 120285, 160074, 187052,\n",
       "         44761, 136333, 195909,  14064, 198427, 101306,  33372,  50381,  24462,\n",
       "         67966, 205131, 225902,  48745, 136737, 117571, 155620,  63858, 143514,\n",
       "        105419,  71514,  83515, 118944,  62652])"
      ]
     },
     "execution_count": 96,
     "metadata": {},
     "output_type": "execute_result"
    }
   ],
   "source": [
    "torch.randint(0, X.shape[0], (32,))"
   ]
  },
  {
   "cell_type": "code",
   "execution_count": 99,
   "metadata": {},
   "outputs": [
    {
     "name": "stdout",
     "output_type": "stream",
     "text": [
      "9.434331893920898\n",
      "7.9368977546691895\n",
      "10.220366477966309\n",
      "8.563759803771973\n",
      "8.058805465698242\n",
      "9.294872283935547\n",
      "5.962841510772705\n",
      "6.449060440063477\n",
      "8.711114883422852\n",
      "6.3758015632629395\n"
     ]
    }
   ],
   "source": [
    "# Training loop\n",
    "\n",
    "for _ in range(10):\n",
    "    #with torch.cuda.device(device):\n",
    "        \n",
    "        # minibatch construct\n",
    "        ix = torch.randint(0, X.shape[0], (32,))\n",
    "\n",
    "        # Forward pass\n",
    "        embeddings = C[X[ix]]  # (32, 3, 2)\n",
    "        h = torch.tanh(embeddings.view(-1, 6) @ W1 + b1)  # (32, 100)\n",
    "        logits = h @ W2 + b2  # (32, 27)\n",
    "\n",
    "        loss = F.cross_entropy(logits, Y[ix])\n",
    "        print(loss.item())\n",
    "\n",
    "        # Backward pass\n",
    "        for p in parameters:\n",
    "            p.grad = None\n",
    "        loss.backward()\n",
    "\n",
    "        # Update\n",
    "        for p in parameters:\n",
    "            p.data += -0.1 * p.grad\n",
    "\n",
    "# the quality of our gradient is lower so the direction is not as reliable it's not the actual gradient direction"
   ]
  },
  {
   "cell_type": "code",
   "execution_count": 100,
   "metadata": {},
   "outputs": [
    {
     "data": {
      "text/plain": [
       "tensor(6.8494, device='cuda:0', grad_fn=<NllLossBackward0>)"
      ]
     },
     "execution_count": 100,
     "metadata": {},
     "output_type": "execute_result"
    }
   ],
   "source": [
    "# the total loss\n",
    "\n",
    "embeddings = C[X]  # (32, 3, 2)\n",
    "h = torch.tanh(embeddings.view(-1, 6) @ W1 + b1)  # (32, 100)\n",
    "logits = h @ W2 + b2  # (32, 27)\n",
    "loss = F.cross_entropy(logits, Y)\n",
    "loss"
   ]
  },
  {
   "cell_type": "code",
   "execution_count": 103,
   "metadata": {},
   "outputs": [
    {
     "name": "stdout",
     "output_type": "stream",
     "text": [
      "2.948551893234253\n"
     ]
    }
   ],
   "source": [
    "# Training loop\n",
    "\n",
    "for _ in range(100):\n",
    "    #with torch.cuda.device(device):\n",
    "        \n",
    "        # minibatch construct\n",
    "        ix = torch.randint(0, X.shape[0], (32,))\n",
    "\n",
    "        # Forward pass\n",
    "        embeddings = C[X[ix]]  # (32, 3, 2)\n",
    "        h = torch.tanh(embeddings.view(-1, 6) @ W1 + b1)  # (32, 100)\n",
    "        logits = h @ W2 + b2  # (32, 27)\n",
    "\n",
    "        loss = F.cross_entropy(logits, Y[ix])\n",
    "        \n",
    "\n",
    "        # Backward pass\n",
    "        for p in parameters:\n",
    "            p.grad = None\n",
    "        loss.backward()\n",
    "\n",
    "        # Update\n",
    "        for p in parameters:\n",
    "            p.data += -0.1 * p.grad\n",
    "print(loss.item())\n",
    "# the quality of our gradient is lower so the direction is not as reliable it's not the actual gradient direction"
   ]
  },
  {
   "cell_type": "code",
   "execution_count": 104,
   "metadata": {},
   "outputs": [
    {
     "data": {
      "text/plain": [
       "tensor(3.0317, device='cuda:0', grad_fn=<NllLossBackward0>)"
      ]
     },
     "execution_count": 104,
     "metadata": {},
     "output_type": "execute_result"
    }
   ],
   "source": [
    "# the total loss\n",
    "\n",
    "embeddings = C[X]  # (32, 3, 2)\n",
    "h = torch.tanh(embeddings.view(-1, 6) @ W1 + b1)  # (32, 100)\n",
    "logits = h @ W2 + b2  # (32, 27)\n",
    "loss = F.cross_entropy(logits, Y)\n",
    "loss"
   ]
  },
  {
   "cell_type": "code",
   "execution_count": 107,
   "metadata": {},
   "outputs": [
    {
     "name": "stdout",
     "output_type": "stream",
     "text": [
      "1.0\n"
     ]
    }
   ],
   "source": [
    "print(1e0)"
   ]
  },
  {
   "cell_type": "code",
   "execution_count": 108,
   "metadata": {},
   "outputs": [
    {
     "data": {
      "text/plain": [
       "tensor([0.0010, 0.0010, 0.0010, 0.0010, 0.0010, 0.0010, 0.0010, 0.0010, 0.0011,\n",
       "        0.0011, 0.0011, 0.0011, 0.0011, 0.0011, 0.0011, 0.0011, 0.0011, 0.0011,\n",
       "        0.0011, 0.0011, 0.0011, 0.0012, 0.0012, 0.0012, 0.0012, 0.0012, 0.0012,\n",
       "        0.0012, 0.0012, 0.0012, 0.0012, 0.0012, 0.0012, 0.0013, 0.0013, 0.0013,\n",
       "        0.0013, 0.0013, 0.0013, 0.0013, 0.0013, 0.0013, 0.0013, 0.0013, 0.0014,\n",
       "        0.0014, 0.0014, 0.0014, 0.0014, 0.0014, 0.0014, 0.0014, 0.0014, 0.0014,\n",
       "        0.0015, 0.0015, 0.0015, 0.0015, 0.0015, 0.0015, 0.0015, 0.0015, 0.0015,\n",
       "        0.0015, 0.0016, 0.0016, 0.0016, 0.0016, 0.0016, 0.0016, 0.0016, 0.0016,\n",
       "        0.0016, 0.0017, 0.0017, 0.0017, 0.0017, 0.0017, 0.0017, 0.0017, 0.0017,\n",
       "        0.0018, 0.0018, 0.0018, 0.0018, 0.0018, 0.0018, 0.0018, 0.0018, 0.0019,\n",
       "        0.0019, 0.0019, 0.0019, 0.0019, 0.0019, 0.0019, 0.0019, 0.0020, 0.0020,\n",
       "        0.0020, 0.0020, 0.0020, 0.0020, 0.0020, 0.0021, 0.0021, 0.0021, 0.0021,\n",
       "        0.0021, 0.0021, 0.0021, 0.0022, 0.0022, 0.0022, 0.0022, 0.0022, 0.0022,\n",
       "        0.0022, 0.0023, 0.0023, 0.0023, 0.0023, 0.0023, 0.0023, 0.0024, 0.0024,\n",
       "        0.0024, 0.0024, 0.0024, 0.0024, 0.0025, 0.0025, 0.0025, 0.0025, 0.0025,\n",
       "        0.0025, 0.0026, 0.0026, 0.0026, 0.0026, 0.0026, 0.0027, 0.0027, 0.0027,\n",
       "        0.0027, 0.0027, 0.0027, 0.0028, 0.0028, 0.0028, 0.0028, 0.0028, 0.0029,\n",
       "        0.0029, 0.0029, 0.0029, 0.0029, 0.0030, 0.0030, 0.0030, 0.0030, 0.0030,\n",
       "        0.0031, 0.0031, 0.0031, 0.0031, 0.0032, 0.0032, 0.0032, 0.0032, 0.0032,\n",
       "        0.0033, 0.0033, 0.0033, 0.0033, 0.0034, 0.0034, 0.0034, 0.0034, 0.0034,\n",
       "        0.0035, 0.0035, 0.0035, 0.0035, 0.0036, 0.0036, 0.0036, 0.0036, 0.0037,\n",
       "        0.0037, 0.0037, 0.0037, 0.0038, 0.0038, 0.0038, 0.0039, 0.0039, 0.0039,\n",
       "        0.0039, 0.0040, 0.0040, 0.0040, 0.0040, 0.0041, 0.0041, 0.0041, 0.0042,\n",
       "        0.0042, 0.0042, 0.0042, 0.0043, 0.0043, 0.0043, 0.0044, 0.0044, 0.0044,\n",
       "        0.0045, 0.0045, 0.0045, 0.0045, 0.0046, 0.0046, 0.0046, 0.0047, 0.0047,\n",
       "        0.0047, 0.0048, 0.0048, 0.0048, 0.0049, 0.0049, 0.0049, 0.0050, 0.0050,\n",
       "        0.0050, 0.0051, 0.0051, 0.0051, 0.0052, 0.0052, 0.0053, 0.0053, 0.0053,\n",
       "        0.0054, 0.0054, 0.0054, 0.0055, 0.0055, 0.0056, 0.0056, 0.0056, 0.0057,\n",
       "        0.0057, 0.0058, 0.0058, 0.0058, 0.0059, 0.0059, 0.0060, 0.0060, 0.0060,\n",
       "        0.0061, 0.0061, 0.0062, 0.0062, 0.0062, 0.0063, 0.0063, 0.0064, 0.0064,\n",
       "        0.0065, 0.0065, 0.0066, 0.0066, 0.0067, 0.0067, 0.0067, 0.0068, 0.0068,\n",
       "        0.0069, 0.0069, 0.0070, 0.0070, 0.0071, 0.0071, 0.0072, 0.0072, 0.0073,\n",
       "        0.0073, 0.0074, 0.0074, 0.0075, 0.0075, 0.0076, 0.0076, 0.0077, 0.0077,\n",
       "        0.0078, 0.0079, 0.0079, 0.0080, 0.0080, 0.0081, 0.0081, 0.0082, 0.0082,\n",
       "        0.0083, 0.0084, 0.0084, 0.0085, 0.0085, 0.0086, 0.0086, 0.0087, 0.0088,\n",
       "        0.0088, 0.0089, 0.0090, 0.0090, 0.0091, 0.0091, 0.0092, 0.0093, 0.0093,\n",
       "        0.0094, 0.0095, 0.0095, 0.0096, 0.0097, 0.0097, 0.0098, 0.0099, 0.0099,\n",
       "        0.0100, 0.0101, 0.0101, 0.0102, 0.0103, 0.0104, 0.0104, 0.0105, 0.0106,\n",
       "        0.0106, 0.0107, 0.0108, 0.0109, 0.0109, 0.0110, 0.0111, 0.0112, 0.0112,\n",
       "        0.0113, 0.0114, 0.0115, 0.0116, 0.0116, 0.0117, 0.0118, 0.0119, 0.0120,\n",
       "        0.0121, 0.0121, 0.0122, 0.0123, 0.0124, 0.0125, 0.0126, 0.0127, 0.0127,\n",
       "        0.0128, 0.0129, 0.0130, 0.0131, 0.0132, 0.0133, 0.0134, 0.0135, 0.0136,\n",
       "        0.0137, 0.0137, 0.0138, 0.0139, 0.0140, 0.0141, 0.0142, 0.0143, 0.0144,\n",
       "        0.0145, 0.0146, 0.0147, 0.0148, 0.0149, 0.0150, 0.0151, 0.0152, 0.0154,\n",
       "        0.0155, 0.0156, 0.0157, 0.0158, 0.0159, 0.0160, 0.0161, 0.0162, 0.0163,\n",
       "        0.0165, 0.0166, 0.0167, 0.0168, 0.0169, 0.0170, 0.0171, 0.0173, 0.0174,\n",
       "        0.0175, 0.0176, 0.0178, 0.0179, 0.0180, 0.0181, 0.0182, 0.0184, 0.0185,\n",
       "        0.0186, 0.0188, 0.0189, 0.0190, 0.0192, 0.0193, 0.0194, 0.0196, 0.0197,\n",
       "        0.0198, 0.0200, 0.0201, 0.0202, 0.0204, 0.0205, 0.0207, 0.0208, 0.0210,\n",
       "        0.0211, 0.0212, 0.0214, 0.0215, 0.0217, 0.0218, 0.0220, 0.0221, 0.0223,\n",
       "        0.0225, 0.0226, 0.0228, 0.0229, 0.0231, 0.0232, 0.0234, 0.0236, 0.0237,\n",
       "        0.0239, 0.0241, 0.0242, 0.0244, 0.0246, 0.0247, 0.0249, 0.0251, 0.0253,\n",
       "        0.0254, 0.0256, 0.0258, 0.0260, 0.0261, 0.0263, 0.0265, 0.0267, 0.0269,\n",
       "        0.0271, 0.0273, 0.0274, 0.0276, 0.0278, 0.0280, 0.0282, 0.0284, 0.0286,\n",
       "        0.0288, 0.0290, 0.0292, 0.0294, 0.0296, 0.0298, 0.0300, 0.0302, 0.0304,\n",
       "        0.0307, 0.0309, 0.0311, 0.0313, 0.0315, 0.0317, 0.0320, 0.0322, 0.0324,\n",
       "        0.0326, 0.0328, 0.0331, 0.0333, 0.0335, 0.0338, 0.0340, 0.0342, 0.0345,\n",
       "        0.0347, 0.0350, 0.0352, 0.0354, 0.0357, 0.0359, 0.0362, 0.0364, 0.0367,\n",
       "        0.0369, 0.0372, 0.0375, 0.0377, 0.0380, 0.0382, 0.0385, 0.0388, 0.0390,\n",
       "        0.0393, 0.0396, 0.0399, 0.0401, 0.0404, 0.0407, 0.0410, 0.0413, 0.0416,\n",
       "        0.0418, 0.0421, 0.0424, 0.0427, 0.0430, 0.0433, 0.0436, 0.0439, 0.0442,\n",
       "        0.0445, 0.0448, 0.0451, 0.0455, 0.0458, 0.0461, 0.0464, 0.0467, 0.0471,\n",
       "        0.0474, 0.0477, 0.0480, 0.0484, 0.0487, 0.0491, 0.0494, 0.0497, 0.0501,\n",
       "        0.0504, 0.0508, 0.0511, 0.0515, 0.0518, 0.0522, 0.0526, 0.0529, 0.0533,\n",
       "        0.0537, 0.0540, 0.0544, 0.0548, 0.0552, 0.0556, 0.0559, 0.0563, 0.0567,\n",
       "        0.0571, 0.0575, 0.0579, 0.0583, 0.0587, 0.0591, 0.0595, 0.0599, 0.0604,\n",
       "        0.0608, 0.0612, 0.0616, 0.0621, 0.0625, 0.0629, 0.0634, 0.0638, 0.0642,\n",
       "        0.0647, 0.0651, 0.0656, 0.0660, 0.0665, 0.0670, 0.0674, 0.0679, 0.0684,\n",
       "        0.0688, 0.0693, 0.0698, 0.0703, 0.0708, 0.0713, 0.0718, 0.0723, 0.0728,\n",
       "        0.0733, 0.0738, 0.0743, 0.0748, 0.0753, 0.0758, 0.0764, 0.0769, 0.0774,\n",
       "        0.0780, 0.0785, 0.0790, 0.0796, 0.0802, 0.0807, 0.0813, 0.0818, 0.0824,\n",
       "        0.0830, 0.0835, 0.0841, 0.0847, 0.0853, 0.0859, 0.0865, 0.0871, 0.0877,\n",
       "        0.0883, 0.0889, 0.0895, 0.0901, 0.0908, 0.0914, 0.0920, 0.0927, 0.0933,\n",
       "        0.0940, 0.0946, 0.0953, 0.0959, 0.0966, 0.0973, 0.0979, 0.0986, 0.0993,\n",
       "        0.1000, 0.1007, 0.1014, 0.1021, 0.1028, 0.1035, 0.1042, 0.1050, 0.1057,\n",
       "        0.1064, 0.1072, 0.1079, 0.1087, 0.1094, 0.1102, 0.1109, 0.1117, 0.1125,\n",
       "        0.1133, 0.1140, 0.1148, 0.1156, 0.1164, 0.1172, 0.1181, 0.1189, 0.1197,\n",
       "        0.1205, 0.1214, 0.1222, 0.1231, 0.1239, 0.1248, 0.1256, 0.1265, 0.1274,\n",
       "        0.1283, 0.1292, 0.1301, 0.1310, 0.1319, 0.1328, 0.1337, 0.1346, 0.1356,\n",
       "        0.1365, 0.1374, 0.1384, 0.1394, 0.1403, 0.1413, 0.1423, 0.1433, 0.1443,\n",
       "        0.1453, 0.1463, 0.1473, 0.1483, 0.1493, 0.1504, 0.1514, 0.1525, 0.1535,\n",
       "        0.1546, 0.1557, 0.1567, 0.1578, 0.1589, 0.1600, 0.1611, 0.1623, 0.1634,\n",
       "        0.1645, 0.1657, 0.1668, 0.1680, 0.1691, 0.1703, 0.1715, 0.1727, 0.1739,\n",
       "        0.1751, 0.1763, 0.1775, 0.1788, 0.1800, 0.1812, 0.1825, 0.1838, 0.1850,\n",
       "        0.1863, 0.1876, 0.1889, 0.1902, 0.1916, 0.1929, 0.1942, 0.1956, 0.1969,\n",
       "        0.1983, 0.1997, 0.2010, 0.2024, 0.2038, 0.2053, 0.2067, 0.2081, 0.2096,\n",
       "        0.2110, 0.2125, 0.2140, 0.2154, 0.2169, 0.2184, 0.2200, 0.2215, 0.2230,\n",
       "        0.2246, 0.2261, 0.2277, 0.2293, 0.2309, 0.2325, 0.2341, 0.2357, 0.2373,\n",
       "        0.2390, 0.2406, 0.2423, 0.2440, 0.2457, 0.2474, 0.2491, 0.2508, 0.2526,\n",
       "        0.2543, 0.2561, 0.2579, 0.2597, 0.2615, 0.2633, 0.2651, 0.2669, 0.2688,\n",
       "        0.2707, 0.2725, 0.2744, 0.2763, 0.2783, 0.2802, 0.2821, 0.2841, 0.2861,\n",
       "        0.2880, 0.2900, 0.2921, 0.2941, 0.2961, 0.2982, 0.3002, 0.3023, 0.3044,\n",
       "        0.3065, 0.3087, 0.3108, 0.3130, 0.3151, 0.3173, 0.3195, 0.3217, 0.3240,\n",
       "        0.3262, 0.3285, 0.3308, 0.3331, 0.3354, 0.3377, 0.3400, 0.3424, 0.3448,\n",
       "        0.3472, 0.3496, 0.3520, 0.3544, 0.3569, 0.3594, 0.3619, 0.3644, 0.3669,\n",
       "        0.3695, 0.3720, 0.3746, 0.3772, 0.3798, 0.3825, 0.3851, 0.3878, 0.3905,\n",
       "        0.3932, 0.3959, 0.3987, 0.4014, 0.4042, 0.4070, 0.4098, 0.4127, 0.4155,\n",
       "        0.4184, 0.4213, 0.4243, 0.4272, 0.4302, 0.4331, 0.4362, 0.4392, 0.4422,\n",
       "        0.4453, 0.4484, 0.4515, 0.4546, 0.4578, 0.4610, 0.4642, 0.4674, 0.4706,\n",
       "        0.4739, 0.4772, 0.4805, 0.4838, 0.4872, 0.4906, 0.4940, 0.4974, 0.5008,\n",
       "        0.5043, 0.5078, 0.5113, 0.5149, 0.5185, 0.5221, 0.5257, 0.5293, 0.5330,\n",
       "        0.5367, 0.5404, 0.5442, 0.5479, 0.5517, 0.5556, 0.5594, 0.5633, 0.5672,\n",
       "        0.5712, 0.5751, 0.5791, 0.5831, 0.5872, 0.5913, 0.5954, 0.5995, 0.6036,\n",
       "        0.6078, 0.6120, 0.6163, 0.6206, 0.6249, 0.6292, 0.6336, 0.6380, 0.6424,\n",
       "        0.6469, 0.6513, 0.6559, 0.6604, 0.6650, 0.6696, 0.6743, 0.6789, 0.6837,\n",
       "        0.6884, 0.6932, 0.6980, 0.7028, 0.7077, 0.7126, 0.7176, 0.7225, 0.7275,\n",
       "        0.7326, 0.7377, 0.7428, 0.7480, 0.7531, 0.7584, 0.7636, 0.7689, 0.7743,\n",
       "        0.7796, 0.7850, 0.7905, 0.7960, 0.8015, 0.8071, 0.8127, 0.8183, 0.8240,\n",
       "        0.8297, 0.8355, 0.8412, 0.8471, 0.8530, 0.8589, 0.8648, 0.8708, 0.8769,\n",
       "        0.8830, 0.8891, 0.8953, 0.9015, 0.9077, 0.9140, 0.9204, 0.9268, 0.9332,\n",
       "        0.9397, 0.9462, 0.9528, 0.9594, 0.9660, 0.9727, 0.9795, 0.9863, 0.9931,\n",
       "        1.0000])"
      ]
     },
     "execution_count": 108,
     "metadata": {},
     "output_type": "execute_result"
    }
   ],
   "source": [
    "learn_rate = torch.linspace(-3, 0, 1000)\n",
    "learn_rate_exponent = 10**learn_rate\n",
    "learn_rate_exponent"
   ]
  },
  {
   "cell_type": "code",
   "execution_count": 112,
   "metadata": {},
   "outputs": [
    {
     "name": "stdout",
     "output_type": "stream",
     "text": [
      "11.470012664794922\n"
     ]
    }
   ],
   "source": [
    "# continuing the optimization\n",
    "\n",
    "# Training loop\n",
    "lri = []\n",
    "lossi = []\n",
    "\n",
    "for i in range(1000):\n",
    "    #with torch.cuda.device(device):\n",
    "        \n",
    "        # minibatch construct\n",
    "        ix = torch.randint(0, X.shape[0], (32,))\n",
    "\n",
    "        # Forward pass\n",
    "        embeddings = C[X[ix]]  # (32, 3, 2)\n",
    "        h = torch.tanh(embeddings.view(-1, 6) @ W1 + b1)  # (32, 100)\n",
    "        logits = h @ W2 + b2  # (32, 27)\n",
    "\n",
    "        loss = F.cross_entropy(logits, Y[ix])\n",
    "        \n",
    "\n",
    "        # Backward pass\n",
    "        for p in parameters:\n",
    "            p.grad = None\n",
    "        loss.backward()\n",
    "\n",
    "        # Update\n",
    "        learning_rate = learn_rate_exponent[i]\n",
    "        for p in parameters:\n",
    "            p.data += -learning_rate * p.grad\n",
    "\n",
    "        # track stats\n",
    "        lri.append(learning_rate)\n",
    "        lossi.append(loss.item())\n",
    "    \n",
    "print(loss.item())\n",
    "# the quality of our gradient is lower so the direction is not as reliable it's not the actual gradient direction"
   ]
  },
  {
   "cell_type": "code",
   "execution_count": 113,
   "metadata": {},
   "outputs": [
    {
     "data": {
      "text/plain": [
       "tensor(8.3443, device='cuda:0', grad_fn=<NllLossBackward0>)"
      ]
     },
     "execution_count": 113,
     "metadata": {},
     "output_type": "execute_result"
    }
   ],
   "source": [
    "# the total loss\n",
    "\n",
    "embeddings = C[X]  # (32, 3, 2)\n",
    "h = torch.tanh(embeddings.view(-1, 6) @ W1 + b1)  # (32, 100)\n",
    "logits = h @ W2 + b2  # (32, 27)\n",
    "loss = F.cross_entropy(logits, Y)\n",
    "loss"
   ]
  },
  {
   "cell_type": "code",
   "execution_count": 114,
   "metadata": {},
   "outputs": [
    {
     "data": {
      "text/plain": [
       "[<matplotlib.lines.Line2D at 0x7fecfcec2d10>]"
      ]
     },
     "execution_count": 114,
     "metadata": {},
     "output_type": "execute_result"
    },
    {
     "data": {
      "image/png": "[encoded data removed]",
      "text/plain": [
       "<Figure size 640x480 with 1 Axes>"
      ]
     },
     "metadata": {},
     "output_type": "display_data"
    }
   ],
   "source": [
    "# plot where in the beginning you had very low learning rates so the nice spot is somewhere around 0.2 learning rate\n",
    "plt.plot(lri, lossi)"
   ]
  },
  {
   "cell_type": "code",
   "execution_count": 120,
   "metadata": {},
   "outputs": [
    {
     "name": "stdout",
     "output_type": "stream",
     "text": [
      "9.277878761291504\n"
     ]
    }
   ],
   "source": [
    "# continuing the optimization\n",
    "learn_rate = torch.linspace(-3, 0, 1000)\n",
    "learn_rate_exponent = 10**learn_rate\n",
    "\n",
    "# Training loop\n",
    "lri = []\n",
    "lossi = []\n",
    "\n",
    "for i in range(1000):\n",
    "    #with torch.cuda.device(device):\n",
    "        \n",
    "        # minibatch construct\n",
    "        ix = torch.randint(0, X.shape[0], (32,))\n",
    "\n",
    "        # Forward pass\n",
    "        embeddings = C[X[ix]]  # (32, 3, 2)\n",
    "        h = torch.tanh(embeddings.view(-1, 6) @ W1 + b1)  # (32, 100)\n",
    "        logits = h @ W2 + b2  # (32, 27)\n",
    "\n",
    "        loss = F.cross_entropy(logits, Y[ix])\n",
    "        \n",
    "\n",
    "        # Backward pass\n",
    "        for p in parameters:\n",
    "            p.grad = None\n",
    "        loss.backward()\n",
    "\n",
    "        # Update\n",
    "        learning_rate = learn_rate_exponent[i]\n",
    "        for p in parameters:\n",
    "            p.data += -learning_rate * p.grad\n",
    "\n",
    "        # track stats\n",
    "        lri.append(learn_rate[i]) # added i here\n",
    "        lossi.append(loss.item())\n",
    "    \n",
    "print(loss.item())\n",
    "# the quality of our gradient is lower so the direction is not as reliable it's not the actual gradient direction"
   ]
  },
  {
   "cell_type": "code",
   "execution_count": 121,
   "metadata": {},
   "outputs": [
    {
     "data": {
      "text/plain": [
       "tensor(7.9324, device='cuda:0', grad_fn=<NllLossBackward0>)"
      ]
     },
     "execution_count": 121,
     "metadata": {},
     "output_type": "execute_result"
    }
   ],
   "source": [
    "# the total loss\n",
    "\n",
    "embeddings = C[X]  # (32, 3, 2)\n",
    "h = torch.tanh(embeddings.view(-1, 6) @ W1 + b1)  # (32, 100)\n",
    "logits = h @ W2 + b2  # (32, 27)\n",
    "loss = F.cross_entropy(logits, Y)\n",
    "loss"
   ]
  },
  {
   "cell_type": "code",
   "execution_count": 122,
   "metadata": {},
   "outputs": [
    {
     "data": {
      "text/plain": [
       "[<matplotlib.lines.Line2D at 0x7fee48aa63e0>]"
      ]
     },
     "execution_count": 122,
     "metadata": {},
     "output_type": "execute_result"
    },
    {
     "data": {
      "image/png": "[encoded data removed]",
      "text/plain": [
       "<Figure size 640x480 with 1 Axes>"
      ]
     },
     "metadata": {},
     "output_type": "display_data"
    }
   ],
   "source": [
    "# now on the x axis we have the exponent of the learning rate and so we can see the exponent of the learning rate that is good to use. Lowest point in the valley, so 10**-1 is 0.1, and this is actually what we have used before and is a pretty good setting (hyperparameter)\n",
    "plt.plot(lri, lossi)"
   ]
  }
 ],
 "metadata": {
  "kernelspec": {
   "display_name": "mlp-crlRM3oL-py3.10",
   "language": "python",
   "name": "python3"
  },
  "language_info": {
   "codemirror_mode": {
    "name": "ipython",
    "version": 3
   },
   "file_extension": ".py",
   "mimetype": "text/x-python",
   "name": "python",
   "nbconvert_exporter": "python",
   "pygments_lexer": "ipython3",
   "version": "3.10.12"
  }
 },
 "nbformat": 4,
 "nbformat_minor": 2
}
